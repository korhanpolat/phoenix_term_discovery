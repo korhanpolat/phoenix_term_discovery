{
 "cells": [
  {
   "cell_type": "code",
   "execution_count": 2,
   "metadata": {},
   "outputs": [],
   "source": [
    "import sys\n",
    "sys.path.append('..')"
   ]
  },
  {
   "cell_type": "code",
   "execution_count": 3,
   "metadata": {},
   "outputs": [],
   "source": [
    "from utils.ZR_utils import post_disc, get_clusters_list, change_post_disc_thr #, save_token_frames_per_cluster\n",
    "from utils.db_utils import annot_for_folder, get_annots_for_signer\n",
    "from utils.eval import evaluate_ZR, cluster_purity\n",
    "from os.path import join\n",
    "from os import makedirs\n",
    "import os\n",
    "import pandas as pd\n",
    "import matplotlib.pyplot as plt\n",
    "import glob"
   ]
  },
  {
   "cell_type": "code",
   "execution_count": 4,
   "metadata": {},
   "outputs": [],
   "source": [
    "from sklearn.model_selection import ParameterGrid"
   ]
  },
  {
   "cell_type": "code",
   "execution_count": 23,
   "metadata": {},
   "outputs": [
    {
     "data": {
      "text/plain": [
       "'5_7_025_05_7_10_05_0_025'"
      ]
     },
     "execution_count": 23,
     "metadata": {},
     "output_type": "execute_result"
    }
   ],
   "source": []
  },
  {
   "cell_type": "code",
   "execution_count": 32,
   "metadata": {},
   "outputs": [],
   "source": [
    "signer_id = 'Signer07'\n",
    "filelist = 'Signer07_c1_c2_c3_right.lsh64'\n",
    "\"\"\"\n",
    "param_grid = {  'rhothr': [0],\n",
    "              'T':[0.25, 0.50, 0.75],\n",
    "              'D': [5],\n",
    "              'dx': [10, 15, 20, 25],\n",
    "              'medthr' : [ 0.5, 0.6, 0.7, 0.8],\n",
    "              'Tscore' : [0.5],\n",
    "              'R' : [7],\n",
    "              'castthr' : [7],\n",
    "              'trimthr': [0.25]\n",
    "                }\"\"\"\n",
    "\n",
    "param_grid = {  'rhothr': [0],\n",
    "              'T':[0.25, 0.50, 0.75],\n",
    "              'D': [10],\n",
    "              'dx': [10, 15, 20, 25],\n",
    "              'medthr' : [ 0.5, 0.6, 0.7, 0.8],\n",
    "              'Tscore' : [0.75],\n",
    "              'R' : [7],\n",
    "              'castthr' : [7],\n",
    "              'trimthr': [0.2]\n",
    "                }\n",
    "\n",
    "\n",
    "grid = ParameterGrid(param_grid)\n",
    "\n",
    "evals_list = []\n",
    "\n",
    "cmd_list = []\n",
    "\n",
    "dtw_th = 0.93\n",
    "\n",
    "for i,params in enumerate(grid):\n",
    "\n",
    "    exp_name = filelist[:-6] + ''.join('_'.join([str(params['D']),\n",
    "          str(params['R']),\n",
    "          str(params['T']),\n",
    "          str(params['Tscore']),\n",
    "          str(params['castthr']),\n",
    "          str(params['dx']),\n",
    "          str(params['medthr']),\n",
    "          str(params['rhothr']),\n",
    "          str(params['trimthr'])\n",
    "         ]).split('.'))\n",
    "    \n",
    "    \n",
    "    command = './run_disc sge ../to_zrtools/{}'.format(exp_name) + '.lsh64.lst'\n",
    "    cmd_list.append(command)\n",
    "    \n",
    "    #results_path = post_disc(exp_name, dtw_th)\n",
    "    #scores = evaluate_ZR( None, exp_name, signer_id, group=3, plot=False, boundary_th=0.5, interp=False )        \n",
    "    \n",
    "    tmp = params\n",
    "    for key in scores.keys(): tmp[key] = scores[key]\n",
    "\n",
    "    tmp['dtw'] = dtw_th    \n",
    "    \n",
    "    evals_list.append(tmp)\n"
   ]
  },
  {
   "cell_type": "code",
   "execution_count": 9,
   "metadata": {},
   "outputs": [
    {
     "data": {
      "text/plain": [
       "'Signer07_c1_c2_c3_r5_7_0_7_05_025_10_05_025.lsh64.lst'"
      ]
     },
     "execution_count": 9,
     "metadata": {},
     "output_type": "execute_result"
    }
   ],
   "source": [
    "files_list[0]"
   ]
  },
  {
   "cell_type": "code",
   "execution_count": null,
   "metadata": {},
   "outputs": [],
   "source": [
    "evals_list = []\n",
    "\n",
    "for exp_name in files_list:\n",
    "    \n",
    "    results_path = post_disc(exp_name, 0.918)\n",
    "    scores = evaluate_ZR( None, exp_name, signer_id, group=3, plot=False, boundary_th=0.5, interp=False )    \n",
    "    \n",
    "    scores\n",
    "    \n",
    "    evals_list"
   ]
  },
  {
   "cell_type": "code",
   "execution_count": 33,
   "metadata": {},
   "outputs": [
    {
     "data": {
      "text/plain": [
       "['./run_disc sge ../to_zrtools/Signer07_c1_c2_c3_right10_7_025_075_7_10_05_0_02.lsh64.lst',\n",
       " './run_disc sge ../to_zrtools/Signer07_c1_c2_c3_right10_7_025_075_7_10_06_0_02.lsh64.lst',\n",
       " './run_disc sge ../to_zrtools/Signer07_c1_c2_c3_right10_7_025_075_7_10_07_0_02.lsh64.lst',\n",
       " './run_disc sge ../to_zrtools/Signer07_c1_c2_c3_right10_7_025_075_7_10_08_0_02.lsh64.lst',\n",
       " './run_disc sge ../to_zrtools/Signer07_c1_c2_c3_right10_7_025_075_7_15_05_0_02.lsh64.lst',\n",
       " './run_disc sge ../to_zrtools/Signer07_c1_c2_c3_right10_7_025_075_7_15_06_0_02.lsh64.lst',\n",
       " './run_disc sge ../to_zrtools/Signer07_c1_c2_c3_right10_7_025_075_7_15_07_0_02.lsh64.lst',\n",
       " './run_disc sge ../to_zrtools/Signer07_c1_c2_c3_right10_7_025_075_7_15_08_0_02.lsh64.lst',\n",
       " './run_disc sge ../to_zrtools/Signer07_c1_c2_c3_right10_7_025_075_7_20_05_0_02.lsh64.lst',\n",
       " './run_disc sge ../to_zrtools/Signer07_c1_c2_c3_right10_7_025_075_7_20_06_0_02.lsh64.lst',\n",
       " './run_disc sge ../to_zrtools/Signer07_c1_c2_c3_right10_7_025_075_7_20_07_0_02.lsh64.lst',\n",
       " './run_disc sge ../to_zrtools/Signer07_c1_c2_c3_right10_7_025_075_7_20_08_0_02.lsh64.lst',\n",
       " './run_disc sge ../to_zrtools/Signer07_c1_c2_c3_right10_7_025_075_7_25_05_0_02.lsh64.lst',\n",
       " './run_disc sge ../to_zrtools/Signer07_c1_c2_c3_right10_7_025_075_7_25_06_0_02.lsh64.lst',\n",
       " './run_disc sge ../to_zrtools/Signer07_c1_c2_c3_right10_7_025_075_7_25_07_0_02.lsh64.lst',\n",
       " './run_disc sge ../to_zrtools/Signer07_c1_c2_c3_right10_7_025_075_7_25_08_0_02.lsh64.lst',\n",
       " './run_disc sge ../to_zrtools/Signer07_c1_c2_c3_right10_7_05_075_7_10_05_0_02.lsh64.lst',\n",
       " './run_disc sge ../to_zrtools/Signer07_c1_c2_c3_right10_7_05_075_7_10_06_0_02.lsh64.lst',\n",
       " './run_disc sge ../to_zrtools/Signer07_c1_c2_c3_right10_7_05_075_7_10_07_0_02.lsh64.lst',\n",
       " './run_disc sge ../to_zrtools/Signer07_c1_c2_c3_right10_7_05_075_7_10_08_0_02.lsh64.lst',\n",
       " './run_disc sge ../to_zrtools/Signer07_c1_c2_c3_right10_7_05_075_7_15_05_0_02.lsh64.lst',\n",
       " './run_disc sge ../to_zrtools/Signer07_c1_c2_c3_right10_7_05_075_7_15_06_0_02.lsh64.lst',\n",
       " './run_disc sge ../to_zrtools/Signer07_c1_c2_c3_right10_7_05_075_7_15_07_0_02.lsh64.lst',\n",
       " './run_disc sge ../to_zrtools/Signer07_c1_c2_c3_right10_7_05_075_7_15_08_0_02.lsh64.lst',\n",
       " './run_disc sge ../to_zrtools/Signer07_c1_c2_c3_right10_7_05_075_7_20_05_0_02.lsh64.lst',\n",
       " './run_disc sge ../to_zrtools/Signer07_c1_c2_c3_right10_7_05_075_7_20_06_0_02.lsh64.lst',\n",
       " './run_disc sge ../to_zrtools/Signer07_c1_c2_c3_right10_7_05_075_7_20_07_0_02.lsh64.lst',\n",
       " './run_disc sge ../to_zrtools/Signer07_c1_c2_c3_right10_7_05_075_7_20_08_0_02.lsh64.lst',\n",
       " './run_disc sge ../to_zrtools/Signer07_c1_c2_c3_right10_7_05_075_7_25_05_0_02.lsh64.lst',\n",
       " './run_disc sge ../to_zrtools/Signer07_c1_c2_c3_right10_7_05_075_7_25_06_0_02.lsh64.lst',\n",
       " './run_disc sge ../to_zrtools/Signer07_c1_c2_c3_right10_7_05_075_7_25_07_0_02.lsh64.lst',\n",
       " './run_disc sge ../to_zrtools/Signer07_c1_c2_c3_right10_7_05_075_7_25_08_0_02.lsh64.lst',\n",
       " './run_disc sge ../to_zrtools/Signer07_c1_c2_c3_right10_7_075_075_7_10_05_0_02.lsh64.lst',\n",
       " './run_disc sge ../to_zrtools/Signer07_c1_c2_c3_right10_7_075_075_7_10_06_0_02.lsh64.lst',\n",
       " './run_disc sge ../to_zrtools/Signer07_c1_c2_c3_right10_7_075_075_7_10_07_0_02.lsh64.lst',\n",
       " './run_disc sge ../to_zrtools/Signer07_c1_c2_c3_right10_7_075_075_7_10_08_0_02.lsh64.lst',\n",
       " './run_disc sge ../to_zrtools/Signer07_c1_c2_c3_right10_7_075_075_7_15_05_0_02.lsh64.lst',\n",
       " './run_disc sge ../to_zrtools/Signer07_c1_c2_c3_right10_7_075_075_7_15_06_0_02.lsh64.lst',\n",
       " './run_disc sge ../to_zrtools/Signer07_c1_c2_c3_right10_7_075_075_7_15_07_0_02.lsh64.lst',\n",
       " './run_disc sge ../to_zrtools/Signer07_c1_c2_c3_right10_7_075_075_7_15_08_0_02.lsh64.lst',\n",
       " './run_disc sge ../to_zrtools/Signer07_c1_c2_c3_right10_7_075_075_7_20_05_0_02.lsh64.lst',\n",
       " './run_disc sge ../to_zrtools/Signer07_c1_c2_c3_right10_7_075_075_7_20_06_0_02.lsh64.lst',\n",
       " './run_disc sge ../to_zrtools/Signer07_c1_c2_c3_right10_7_075_075_7_20_07_0_02.lsh64.lst',\n",
       " './run_disc sge ../to_zrtools/Signer07_c1_c2_c3_right10_7_075_075_7_20_08_0_02.lsh64.lst',\n",
       " './run_disc sge ../to_zrtools/Signer07_c1_c2_c3_right10_7_075_075_7_25_05_0_02.lsh64.lst',\n",
       " './run_disc sge ../to_zrtools/Signer07_c1_c2_c3_right10_7_075_075_7_25_06_0_02.lsh64.lst',\n",
       " './run_disc sge ../to_zrtools/Signer07_c1_c2_c3_right10_7_075_075_7_25_07_0_02.lsh64.lst',\n",
       " './run_disc sge ../to_zrtools/Signer07_c1_c2_c3_right10_7_075_075_7_25_08_0_02.lsh64.lst']"
      ]
     },
     "execution_count": 33,
     "metadata": {},
     "output_type": "execute_result"
    }
   ],
   "source": [
    "cmd_list"
   ]
  },
  {
   "cell_type": "code",
   "execution_count": 34,
   "metadata": {},
   "outputs": [],
   "source": [
    "with open('/home/korhan/Dropbox/tez_scripts/tuba/cmd.sh','w') as f:\n",
    "    for line in cmd_list:\n",
    "        f.writelines(line + '\\n')\n",
    "        "
   ]
  },
  {
   "cell_type": "code",
   "execution_count": null,
   "metadata": {},
   "outputs": [],
   "source": []
  },
  {
   "cell_type": "code",
   "execution_count": null,
   "metadata": {},
   "outputs": [],
   "source": []
  },
  {
   "cell_type": "code",
   "execution_count": null,
   "metadata": {},
   "outputs": [],
   "source": []
  },
  {
   "cell_type": "code",
   "execution_count": null,
   "metadata": {},
   "outputs": [],
   "source": [
    "scores = evaluate_ZR( None, exp_name, signer_id, group=3, plot=False, boundary_th=0.5, interp=False )"
   ]
  },
  {
   "cell_type": "code",
   "execution_count": null,
   "metadata": {},
   "outputs": [],
   "source": [
    "pd.set_option('display.max_columns', 500)\n",
    "evals_df = pd.DataFrame.from_records(evals_list, columns=[ 'rhothr', 'T', 'D' , 'dx' , \n",
    "              'medthr' , 'Tscore' , \n",
    "              'R', \n",
    "              'castthr' , \n",
    "              'trimthr',\n",
    "                'n_match', 'n_node', 'n_clus', 'mean_len', 'mean_n_type',\n",
    "                'ned', 'coverage', 'clus_purity', 'clus_purity_inv',\n",
    "                'matching_P', 'matching_R', 'matching_F', \n",
    "                'avg_purity', 'purity', 'inv_purity', 'garbage_ratio',\n",
    "                'grouping_P', 'grouping_R', 'grouping_F',\n",
    "                'type_P', 'type_R', 'type_F' ])\n",
    "evals_df[['T','Tscore','dx','medthr']]"
   ]
  }
 ],
 "metadata": {
  "kernelspec": {
   "display_name": "zerospeech",
   "language": "python",
   "name": "zerospeech"
  },
  "language_info": {
   "codemirror_mode": {
    "name": "ipython",
    "version": 2
   },
   "file_extension": ".py",
   "mimetype": "text/x-python",
   "name": "python",
   "nbconvert_exporter": "python",
   "pygments_lexer": "ipython2",
   "version": "2.7.12"
  }
 },
 "nbformat": 4,
 "nbformat_minor": 2
}
