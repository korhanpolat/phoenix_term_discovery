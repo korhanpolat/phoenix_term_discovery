{
 "cells": [
  {
   "cell_type": "markdown",
   "metadata": {},
   "source": [
    "**TO DO**\n",
    "\n",
    "- [ ] which params to optimize, read from config according to algo type"
   ]
  },
  {
   "cell_type": "code",
   "execution_count": 1,
   "metadata": {},
   "outputs": [],
   "source": [
    "%load_ext autoreload\n",
    "%autoreload 2"
   ]
  },
  {
   "cell_type": "code",
   "execution_count": 2,
   "metadata": {},
   "outputs": [],
   "source": [
    "import numpy as np\n",
    "import matplotlib.pyplot as plt\n",
    "from os.path import join\n",
    "import pandas as pd\n",
    "import os"
   ]
  },
  {
   "cell_type": "code",
   "execution_count": 70,
   "metadata": {},
   "outputs": [],
   "source": [
    "from utils.pipeline import run_matches_discovery, discovery_pipeline\n",
    "from utils.pipeline_wrappers import gen_expname, run_until_coverage_th, try_run_exp, cv_experiment, monitor_callback, grid_exp\n",
    "from utils.feature_utils import op_100, get_feats, get_seq_names, get_dh_feats_wrap, load_feats"
   ]
  },
  {
   "cell_type": "code",
   "execution_count": 71,
   "metadata": {},
   "outputs": [],
   "source": [
    "from utils.helper_fncs import load_json, save_json\n"
   ]
  },
  {
   "cell_type": "code",
   "execution_count": 72,
   "metadata": {},
   "outputs": [
    {
     "data": {
      "text/plain": [
       "{'CVroot': '/home/korhan/Dropbox/CVfolds',\n",
       " 'CVset': 'A',\n",
       " 'clustering': {'cost_thr': 0.01, 'method': 'pairwise', 'olapthr_m': 0.25},\n",
       " 'config_file': '/home/korhan/Dropbox/config/config_phoenix.json',\n",
       " 'covth': 0.1,\n",
       " 'dataset': 'phoenix',\n",
       " 'disc': {'a': 4,\n",
       "  'dim_fix': 10,\n",
       "  'emb_type': 'gauss_kernel',\n",
       "  'k': 100,\n",
       "  'lmax': 28,\n",
       "  'lmin': 4,\n",
       "  'metric': 'L2',\n",
       "  'norm': False,\n",
       "  'olapthr_m': 0.25,\n",
       "  'pca': '',\n",
       "  'r': 0.2,\n",
       "  's': 0.2,\n",
       "  'seg_type': 'uniform',\n",
       "  'top_delta': 0.02,\n",
       "  'use_gpu': True},\n",
       " 'disc_method': 'knn',\n",
       " 'exp_root': '/home/korhan/Desktop/tez/knn_exps/',\n",
       " 'feats_root': '/home/korhan/Desktop/tez/dataset/features/',\n",
       " 'featype': 'c3right',\n",
       " 'lr': 0.8,\n",
       " 'njobs': 2,\n",
       " 'patience': 30,\n",
       " 'tune': {'keys': ['r', 's'],\n",
       "  'minimizer': 'gp',\n",
       "  'n_split': 1,\n",
       "  'stop_margin': 0.01,\n",
       "  'stopper_patience': 5}}"
      ]
     },
     "execution_count": 72,
     "metadata": {},
     "output_type": "execute_result"
    }
   ],
   "source": [
    "alg_type = 'knn'\n",
    "params = load_json(full_path='/home/korhan/Dropbox/config/{}.json'.format(alg_type))\n",
    "params"
   ]
  },
  {
   "cell_type": "code",
   "execution_count": 73,
   "metadata": {},
   "outputs": [],
   "source": [
    "params['tune'] = {'keys': ['r', 's'],\n",
    "  'minimizer': 'gp',\n",
    "  'n_split': 1,\n",
    "  'stop_margin': 0.01,\n",
    "  'stopper_patience': 5}"
   ]
  },
  {
   "cell_type": "code",
   "execution_count": 74,
   "metadata": {},
   "outputs": [
    {
     "data": {
      "text/plain": [
       "{'CVroot': '/home/korhan/Dropbox/CVfolds',\n",
       " 'CVset': 'A',\n",
       " 'clustering': {'cost_thr': 0.01, 'method': 'pairwise', 'olapthr_m': 0.25},\n",
       " 'config_file': '/home/korhan/Dropbox/config/config_phoenix.json',\n",
       " 'covth': 0.1,\n",
       " 'dataset': 'phoenix',\n",
       " 'disc': {'a': 4,\n",
       "  'dim_fix': 10,\n",
       "  'emb_type': 'gauss_kernel',\n",
       "  'k': 100,\n",
       "  'lmax': 28,\n",
       "  'lmin': 4,\n",
       "  'metric': 'L2',\n",
       "  'norm': False,\n",
       "  'olapthr_m': 0.25,\n",
       "  'pca': '',\n",
       "  'r': 0.2,\n",
       "  's': 0.2,\n",
       "  'seg_type': 'uniform',\n",
       "  'top_delta': 0.02,\n",
       "  'use_gpu': True},\n",
       " 'disc_method': 'knn',\n",
       " 'exp_root': '/home/korhan/Desktop/tez/knn_exps/',\n",
       " 'feats_root': '/home/korhan/Desktop/tez/dataset/features/',\n",
       " 'featype': 'c3right',\n",
       " 'lr': 0.8,\n",
       " 'njobs': 2,\n",
       " 'patience': 30,\n",
       " 'tune': {'keys': ['r', 's'],\n",
       "  'minimizer': 'gp',\n",
       "  'n_split': 1,\n",
       "  'stop_margin': 0.01,\n",
       "  'stopper_patience': 5}}"
      ]
     },
     "execution_count": 74,
     "metadata": {},
     "output_type": "execute_result"
    }
   ],
   "source": [
    "params"
   ]
  },
  {
   "cell_type": "code",
   "execution_count": 66,
   "metadata": {},
   "outputs": [
    {
     "data": {
      "text/plain": [
       "'knn'"
      ]
     },
     "execution_count": 66,
     "metadata": {},
     "output_type": "execute_result"
    }
   ],
   "source": [
    "alg_type"
   ]
  },
  {
   "cell_type": "code",
   "execution_count": 69,
   "metadata": {},
   "outputs": [],
   "source": [
    "save_json(full_path='/home/korhan/Dropbox/config/{}'.format(alg_type), data=params)"
   ]
  },
  {
   "cell_type": "code",
   "execution_count": 21,
   "metadata": {},
   "outputs": [],
   "source": [
    "# params['disc']['B'] = 150\n",
    "# params['clustering']['cost_thr'] = 0.001"
   ]
  },
  {
   "cell_type": "code",
   "execution_count": 22,
   "metadata": {},
   "outputs": [],
   "source": [
    "params['CVset'] = 'A'\n",
    "seq_names = get_seq_names(params)\n"
   ]
  },
  {
   "cell_type": "code",
   "execution_count": 23,
   "metadata": {},
   "outputs": [
    {
     "data": {
      "text/plain": [
       "(1705, 'A')"
      ]
     },
     "execution_count": 23,
     "metadata": {},
     "output_type": "execute_result"
    }
   ],
   "source": [
    "len(seq_names), params['CVset']"
   ]
  },
  {
   "cell_type": "code",
   "execution_count": 24,
   "metadata": {},
   "outputs": [
    {
     "data": {
      "text/plain": [
       "(151, 61)"
      ]
     },
     "execution_count": 24,
     "metadata": {},
     "output_type": "execute_result"
    }
   ],
   "source": [
    "# params['featype'] = 'op100_medfilt'\n",
    "params['featype'] = 'c3_right'\n",
    "feats_dict = load_feats(seq_names, params['featype'], params)\n",
    "feats_dict[seq_names[0]].shape"
   ]
  },
  {
   "cell_type": "code",
   "execution_count": 10,
   "metadata": {},
   "outputs": [],
   "source": [
    "import numpy as np\n",
    "import time\n",
    "import skopt\n",
    "from skopt import gp_minimize, space, forest_minimize, dummy_minimize, gbrt_minimize\n",
    "from skopt.plots import plot_convergence, plot_evaluations, plot_objective, plot_regret, partial_dependence\n",
    "from functools import partial\n",
    "from skopt import gp_minimize, forest_minimize, dummy_minimize\n",
    "from skopt.callbacks import TimerCallback, CheckpointSaver, DeltaYStopper, VerboseCallback\n",
    "from functools import partial"
   ]
  },
  {
   "cell_type": "code",
   "execution_count": 11,
   "metadata": {},
   "outputs": [
    {
     "data": {
      "text/plain": [
       "([Real(low=0.0, high=1.5, prior='uniform', transform='identity'),\n",
       "  Real(low=0.0, high=1.5, prior='uniform', transform='identity'),\n",
       "  Categorical(categories=('', 'PCA40', 'PCAW40'), prior=None),\n",
       "  Categorical(categories=(True, False), prior=None)],\n",
       " [0.2, 0.2, 'PCA40', False])"
      ]
     },
     "execution_count": 11,
     "metadata": {},
     "output_type": "execute_result"
    }
   ],
   "source": [
    "\n",
    "SPACE_ZR = [\n",
    "           skopt.space.Real(0.2, 0.7, name='T', prior='uniform'),\n",
    "           skopt.space.Real(0.2, 0.7, name='medthr', prior='uniform'),\n",
    "           skopt.space.Integer(3, 30, name='dx',prior='uniform'),\n",
    "           skopt.space.Real(0.5, 30.0, name='castthr',prior='uniform'),\n",
    "        ]\n",
    "\n",
    "SPACE_KNN = [ \n",
    "#            skopt.space.Integer(20, 200, name='k', prior='uniform'),\n",
    "#            skopt.space.Real(0.001, 0.5, name='top_delta', prior='uniform'),\n",
    "           skopt.space.Real(0.0, 1.5, name='r',prior='uniform'),\n",
    "           skopt.space.Real(0.0, 1.5, name='s',prior='uniform'),\n",
    "           skopt.space.Categorical(['','PCA40','PCAW40'], name='pca'),\n",
    "           skopt.space.Categorical([True,False], name='norm'),            \n",
    "        ]\n",
    "\n",
    "space_select = {'zr': SPACE_ZR, 'zr_cat': SPACE_ZR, 'knn': SPACE_KNN}\n",
    "\n",
    "SPACE = space_select[params['disc_method']]\n",
    "\n",
    "keys = [key.name for key in SPACE]\n",
    "x0 = [params['disc'][k] for k in keys]\n",
    "\n",
    "SPACE, x0"
   ]
  },
  {
   "cell_type": "code",
   "execution_count": 12,
   "metadata": {},
   "outputs": [
    {
     "data": {
      "text/plain": [
       "[Real(low=0.0, high=1.5, prior='uniform', transform='identity'),\n",
       " Real(low=0.0, high=1.5, prior='uniform', transform='identity'),\n",
       " Categorical(categories=('', 'PCA40', 'PCAW40'), prior=None),\n",
       " Categorical(categories=(True, False), prior=None)]"
      ]
     },
     "execution_count": 12,
     "metadata": {},
     "output_type": "execute_result"
    }
   ],
   "source": [
    "SPACE"
   ]
  },
  {
   "cell_type": "code",
   "execution_count": 12,
   "metadata": {},
   "outputs": [],
   "source": [
    "params['disc']['top_delta'] = 0.01\n"
   ]
  },
  {
   "cell_type": "code",
   "execution_count": 13,
   "metadata": {
    "scrolled": true
   },
   "outputs": [],
   "source": [
    "@skopt.utils.use_named_args(SPACE)\n",
    "def objective(**space_params):\n",
    "    \n",
    "    params['disc'] = {**params['disc'], **space_params}\n",
    "\n",
    "    tstart = time.time()\n",
    "#     scores = cv_experiment(seq_names, feats_dict, params)\n",
    "    scores = try_run_exp(feats_dict, params, genname=True)\n",
    "    \n",
    "    telapsed = time.time() - tstart\n",
    "    print(' === Experiment completed in {}m {:.1f}seconds ==='.format(\n",
    "                                   telapsed//60, telapsed%60 ))\n",
    "    \n",
    "    if not isinstance(scores, dict): \n",
    "        return 1.\n",
    "    else:\n",
    "        return scores['ned']"
   ]
  },
  {
   "cell_type": "code",
   "execution_count": 14,
   "metadata": {
    "scrolled": true
   },
   "outputs": [
    {
     "name": "stdout",
     "output_type": "stream",
     "text": [
      "knn_A_c3_right_a4_dim_fix10_emb_typegauss_kernel_k100_lmax28_lmin4_metricL2_olapthr_m0.25_pcaPCA40_r0.2_s0.2_seg_typeuniform_normFalse_top_delta0.01_use_gpuTrue\n",
      "0.01\n",
      "*** Matches already discovered !!! ***\n",
      "*** found 22851 matches ***\n",
      "*** post disc completed, found 458 segments from 229 clusters ***\n",
      "*** Coverage: 0.0049, NED: 0.33\n",
      "trial 0 th:0.01000 cov:0.00490 err:-0.09510\n",
      "0.163265306122449\n",
      "*** Matches already discovered !!! ***\n",
      "*** found 22851 matches ***\n",
      "*** post disc completed, found 5950 segments from 2975 clusters ***\n",
      "*** Coverage: 0.0661, NED: 0.53\n",
      "trial 1 th:0.16327 cov:0.06610 err:-0.03390\n",
      "0.20052981192476993\n",
      "*** Matches already discovered !!! ***\n",
      "*** found 22851 matches ***\n",
      "*** post disc completed, found 7110 segments from 3555 clusters ***\n",
      "*** Coverage: 0.0793, NED: 0.54\n",
      "trial 2 th:0.20053 cov:0.07930 err:-0.02070\n",
      "0.23982692713449025\n",
      "*** Matches already discovered !!! ***\n",
      "*** found 22851 matches ***\n",
      "*** post disc completed, found 8332 segments from 4166 clusters ***\n",
      "*** Coverage: 0.0922, NED: 0.55\n",
      "trial 3 th:0.23983 cov:0.09220 err:-0.00780\n",
      " === Experiment completed in 0.0m 21.6seconds ===\n",
      "knn_A_c3_right_a4_dim_fix10_emb_typegauss_kernel_k100_lmax28_lmin4_metricL2_olapthr_m0.25_pcaPCA40_r0.015561230828549934_s0.7528118882231083_seg_typeuniform_normTrue_top_delta0.01_use_gpuTrue\n",
      "0.01\n",
      "Building index of size 386876x610\n",
      "*** found 100177 matches ***\n",
      "*** pairwise clustering ***\n",
      "*** post disc completed, found 1702 segments from 851 clusters ***\n",
      "*** Coverage: 0.0085, NED: 0.26\n",
      "trial 0 th:0.01000 cov:0.00850 err:-0.09150\n",
      "0.09411764705882353\n",
      "*** Matches already discovered !!! ***\n",
      "*** found 100177 matches ***\n",
      "*** pairwise clustering ***\n",
      "*** post disc completed, found 11824 segments from 5912 clusters ***\n",
      "*** Coverage: 0.0390, NED: 0.37\n",
      "trial 1 th:0.09412 cov:0.03900 err:-0.06100\n",
      "0.21188235294117652\n",
      "*** Matches already discovered !!! ***\n",
      "*** found 100177 matches ***\n",
      "*** pairwise clustering ***\n",
      "*** post disc completed, found 26514 segments from 13257 clusters ***\n",
      "*** Coverage: 0.0689, NED: 0.37\n",
      "trial 2 th:0.21188 cov:0.06890 err:-0.03110\n",
      "0.2863222506393863\n",
      "*** Matches already discovered !!! ***\n",
      "*** found 100177 matches ***\n",
      "*** pairwise clustering ***\n",
      "*** post disc completed, found 36618 segments from 18309 clusters ***\n"
     ]
    },
    {
     "ename": "KeyboardInterrupt",
     "evalue": "",
     "output_type": "error",
     "traceback": [
      "\u001b[0;31m---------------------------------------------------------------------------\u001b[0m",
      "\u001b[0;31mKeyboardInterrupt\u001b[0m                         Traceback (most recent call last)",
      "\u001b[0;32m<ipython-input-14-820566e2dd95>\u001b[0m in \u001b[0;36m<module>\u001b[0;34m\u001b[0m\n\u001b[1;32m     23\u001b[0m \u001b[0;34m\u001b[0m\u001b[0m\n\u001b[1;32m     24\u001b[0m \u001b[0;31m# gradient boosted trees\u001b[0m\u001b[0;34m\u001b[0m\u001b[0;34m\u001b[0m\u001b[0;34m\u001b[0m\u001b[0m\n\u001b[0;32m---> 25\u001b[0;31m \u001b[0mgbrt_res\u001b[0m \u001b[0;34m=\u001b[0m \u001b[0mrun\u001b[0m\u001b[0;34m(\u001b[0m\u001b[0mpartial\u001b[0m\u001b[0;34m(\u001b[0m\u001b[0mgbrt_minimize\u001b[0m\u001b[0;34m,\u001b[0m \u001b[0mn_random_starts\u001b[0m\u001b[0;34m=\u001b[0m\u001b[0;36m3\u001b[0m\u001b[0;34m)\u001b[0m\u001b[0;34m,\u001b[0m \u001b[0;34m'gbrt3'\u001b[0m\u001b[0;34m)\u001b[0m\u001b[0;34m\u001b[0m\u001b[0;34m\u001b[0m\u001b[0m\n\u001b[0m\u001b[1;32m     26\u001b[0m \u001b[0;31m# gbrt_res = run(partial(gbrt_minimize, x0=x0, y0=y0, ), 'gbrt3')\u001b[0m\u001b[0;34m\u001b[0m\u001b[0;34m\u001b[0m\u001b[0;34m\u001b[0m\u001b[0m\n\u001b[1;32m     27\u001b[0m \u001b[0;34m\u001b[0m\u001b[0m\n",
      "\u001b[0;32m<ipython-input-14-820566e2dd95>\u001b[0m in \u001b[0;36mrun\u001b[0;34m(minimizer, name, n_iter)\u001b[0m\n\u001b[1;32m      6\u001b[0m     return [minimizer(objective, SPACE, n_calls=20, x0=x0, random_state=9, \n\u001b[1;32m      7\u001b[0m                       callback=[checkpoint_saver, stopper, timer])\n\u001b[0;32m----> 8\u001b[0;31m             for n in range(n_iter)]\n\u001b[0m\u001b[1;32m      9\u001b[0m \u001b[0;34m\u001b[0m\u001b[0m\n\u001b[1;32m     10\u001b[0m \u001b[0;34m\u001b[0m\u001b[0m\n",
      "\u001b[0;32m<ipython-input-14-820566e2dd95>\u001b[0m in \u001b[0;36m<listcomp>\u001b[0;34m(.0)\u001b[0m\n\u001b[1;32m      6\u001b[0m     return [minimizer(objective, SPACE, n_calls=20, x0=x0, random_state=9, \n\u001b[1;32m      7\u001b[0m                       callback=[checkpoint_saver, stopper, timer])\n\u001b[0;32m----> 8\u001b[0;31m             for n in range(n_iter)]\n\u001b[0m\u001b[1;32m      9\u001b[0m \u001b[0;34m\u001b[0m\u001b[0m\n\u001b[1;32m     10\u001b[0m \u001b[0;34m\u001b[0m\u001b[0m\n",
      "\u001b[0;32m~/miniconda3/envs/tez/lib/python3.6/site-packages/skopt/optimizer/gbrt.py\u001b[0m in \u001b[0;36mgbrt_minimize\u001b[0;34m(func, dimensions, base_estimator, n_calls, n_random_starts, acq_func, acq_optimizer, x0, y0, random_state, verbose, callback, n_points, xi, kappa, n_jobs, model_queue_size)\u001b[0m\n\u001b[1;32m    163\u001b[0m                          \u001b[0mkappa\u001b[0m\u001b[0;34m=\u001b[0m\u001b[0mkappa\u001b[0m\u001b[0;34m,\u001b[0m \u001b[0macq_func\u001b[0m\u001b[0;34m=\u001b[0m\u001b[0macq_func\u001b[0m\u001b[0;34m,\u001b[0m \u001b[0mverbose\u001b[0m\u001b[0;34m=\u001b[0m\u001b[0mverbose\u001b[0m\u001b[0;34m,\u001b[0m\u001b[0;34m\u001b[0m\u001b[0;34m\u001b[0m\u001b[0m\n\u001b[1;32m    164\u001b[0m                          \u001b[0mcallback\u001b[0m\u001b[0;34m=\u001b[0m\u001b[0mcallback\u001b[0m\u001b[0;34m,\u001b[0m \u001b[0macq_optimizer\u001b[0m\u001b[0;34m=\u001b[0m\u001b[0;34m\"sampling\"\u001b[0m\u001b[0;34m,\u001b[0m\u001b[0;34m\u001b[0m\u001b[0;34m\u001b[0m\u001b[0m\n\u001b[0;32m--> 165\u001b[0;31m                          model_queue_size=model_queue_size)\n\u001b[0m",
      "\u001b[0;32m~/miniconda3/envs/tez/lib/python3.6/site-packages/skopt/optimizer/base.py\u001b[0m in \u001b[0;36mbase_minimize\u001b[0;34m(func, dimensions, base_estimator, n_calls, n_random_starts, acq_func, acq_optimizer, x0, y0, random_state, verbose, callback, n_points, n_restarts_optimizer, xi, kappa, n_jobs, model_queue_size)\u001b[0m\n\u001b[1;32m    270\u001b[0m     \u001b[0;32mfor\u001b[0m \u001b[0mn\u001b[0m \u001b[0;32min\u001b[0m \u001b[0mrange\u001b[0m\u001b[0;34m(\u001b[0m\u001b[0mn_calls\u001b[0m\u001b[0;34m)\u001b[0m\u001b[0;34m:\u001b[0m\u001b[0;34m\u001b[0m\u001b[0;34m\u001b[0m\u001b[0m\n\u001b[1;32m    271\u001b[0m         \u001b[0mnext_x\u001b[0m \u001b[0;34m=\u001b[0m \u001b[0moptimizer\u001b[0m\u001b[0;34m.\u001b[0m\u001b[0mask\u001b[0m\u001b[0;34m(\u001b[0m\u001b[0;34m)\u001b[0m\u001b[0;34m\u001b[0m\u001b[0;34m\u001b[0m\u001b[0m\n\u001b[0;32m--> 272\u001b[0;31m         \u001b[0mnext_y\u001b[0m \u001b[0;34m=\u001b[0m \u001b[0mfunc\u001b[0m\u001b[0;34m(\u001b[0m\u001b[0mnext_x\u001b[0m\u001b[0;34m)\u001b[0m\u001b[0;34m\u001b[0m\u001b[0;34m\u001b[0m\u001b[0m\n\u001b[0m\u001b[1;32m    273\u001b[0m         \u001b[0mresult\u001b[0m \u001b[0;34m=\u001b[0m \u001b[0moptimizer\u001b[0m\u001b[0;34m.\u001b[0m\u001b[0mtell\u001b[0m\u001b[0;34m(\u001b[0m\u001b[0mnext_x\u001b[0m\u001b[0;34m,\u001b[0m \u001b[0mnext_y\u001b[0m\u001b[0;34m)\u001b[0m\u001b[0;34m\u001b[0m\u001b[0;34m\u001b[0m\u001b[0m\n\u001b[1;32m    274\u001b[0m         \u001b[0mresult\u001b[0m\u001b[0;34m.\u001b[0m\u001b[0mspecs\u001b[0m \u001b[0;34m=\u001b[0m \u001b[0mspecs\u001b[0m\u001b[0;34m\u001b[0m\u001b[0;34m\u001b[0m\u001b[0m\n",
      "\u001b[0;32m~/miniconda3/envs/tez/lib/python3.6/site-packages/skopt/utils.py\u001b[0m in \u001b[0;36mwrapper\u001b[0;34m(x)\u001b[0m\n\u001b[1;32m    762\u001b[0m \u001b[0;34m\u001b[0m\u001b[0m\n\u001b[1;32m    763\u001b[0m             \u001b[0;31m# Call the wrapped objective function with the named arguments.\u001b[0m\u001b[0;34m\u001b[0m\u001b[0;34m\u001b[0m\u001b[0;34m\u001b[0m\u001b[0m\n\u001b[0;32m--> 764\u001b[0;31m             \u001b[0mobjective_value\u001b[0m \u001b[0;34m=\u001b[0m \u001b[0mfunc\u001b[0m\u001b[0;34m(\u001b[0m\u001b[0;34m**\u001b[0m\u001b[0marg_dict\u001b[0m\u001b[0;34m)\u001b[0m\u001b[0;34m\u001b[0m\u001b[0;34m\u001b[0m\u001b[0m\n\u001b[0m\u001b[1;32m    765\u001b[0m \u001b[0;34m\u001b[0m\u001b[0m\n\u001b[1;32m    766\u001b[0m             \u001b[0;32mreturn\u001b[0m \u001b[0mobjective_value\u001b[0m\u001b[0;34m\u001b[0m\u001b[0;34m\u001b[0m\u001b[0m\n",
      "\u001b[0;32m<ipython-input-13-6df79840cb99>\u001b[0m in \u001b[0;36mobjective\u001b[0;34m(**space_params)\u001b[0m\n\u001b[1;32m      6\u001b[0m     \u001b[0mtstart\u001b[0m \u001b[0;34m=\u001b[0m \u001b[0mtime\u001b[0m\u001b[0;34m.\u001b[0m\u001b[0mtime\u001b[0m\u001b[0;34m(\u001b[0m\u001b[0;34m)\u001b[0m\u001b[0;34m\u001b[0m\u001b[0;34m\u001b[0m\u001b[0m\n\u001b[1;32m      7\u001b[0m \u001b[0;31m#     scores = cv_experiment(seq_names, feats_dict, params)\u001b[0m\u001b[0;34m\u001b[0m\u001b[0;34m\u001b[0m\u001b[0;34m\u001b[0m\u001b[0m\n\u001b[0;32m----> 8\u001b[0;31m     \u001b[0mscores\u001b[0m \u001b[0;34m=\u001b[0m \u001b[0mtry_run_exp\u001b[0m\u001b[0;34m(\u001b[0m\u001b[0mfeats_dict\u001b[0m\u001b[0;34m,\u001b[0m \u001b[0mparams\u001b[0m\u001b[0;34m,\u001b[0m \u001b[0mgenname\u001b[0m\u001b[0;34m=\u001b[0m\u001b[0;32mTrue\u001b[0m\u001b[0;34m)\u001b[0m\u001b[0;34m\u001b[0m\u001b[0;34m\u001b[0m\u001b[0m\n\u001b[0m\u001b[1;32m      9\u001b[0m \u001b[0;34m\u001b[0m\u001b[0m\n\u001b[1;32m     10\u001b[0m     \u001b[0mtelapsed\u001b[0m \u001b[0;34m=\u001b[0m \u001b[0mtime\u001b[0m\u001b[0;34m.\u001b[0m\u001b[0mtime\u001b[0m\u001b[0;34m(\u001b[0m\u001b[0;34m)\u001b[0m \u001b[0;34m-\u001b[0m \u001b[0mtstart\u001b[0m\u001b[0;34m\u001b[0m\u001b[0;34m\u001b[0m\u001b[0m\n",
      "\u001b[0;32m~/Dropbox/tez_scripts/utils/pipeline_wrappers.py\u001b[0m in \u001b[0;36mtry_run_exp\u001b[0;34m(feats_dict, params, size, step, genname)\u001b[0m\n\u001b[1;32m    124\u001b[0m     \u001b[0;32mtry\u001b[0m\u001b[0;34m:\u001b[0m\u001b[0;34m\u001b[0m\u001b[0;34m\u001b[0m\u001b[0m\n\u001b[1;32m    125\u001b[0m \u001b[0;34m\u001b[0m\u001b[0m\n\u001b[0;32m--> 126\u001b[0;31m         \u001b[0mscores\u001b[0m \u001b[0;34m=\u001b[0m \u001b[0mrun_exp\u001b[0m\u001b[0;34m(\u001b[0m\u001b[0mfeats_dict\u001b[0m\u001b[0;34m,\u001b[0m \u001b[0mparams\u001b[0m\u001b[0;34m)\u001b[0m\u001b[0;34m\u001b[0m\u001b[0;34m\u001b[0m\u001b[0m\n\u001b[0m\u001b[1;32m    127\u001b[0m \u001b[0;34m\u001b[0m\u001b[0m\n\u001b[1;32m    128\u001b[0m     \u001b[0;32mexcept\u001b[0m \u001b[0mException\u001b[0m \u001b[0;32mas\u001b[0m \u001b[0mexc\u001b[0m\u001b[0;34m:\u001b[0m\u001b[0;34m\u001b[0m\u001b[0;34m\u001b[0m\u001b[0m\n",
      "\u001b[0;32m~/Dropbox/tez_scripts/utils/pipeline_wrappers.py\u001b[0m in \u001b[0;36mrun_exp\u001b[0;34m(feats_dict, params, size, step)\u001b[0m\n\u001b[1;32m    102\u001b[0m     \u001b[0;32mtry\u001b[0m\u001b[0;34m:\u001b[0m\u001b[0;34m\u001b[0m\u001b[0;34m\u001b[0m\u001b[0m\n\u001b[1;32m    103\u001b[0m         matches_df, nodes_df, clusters_list, scores, pars = run_until_coverage_th(\n\u001b[0;32m--> 104\u001b[0;31m                                                                 tmp_dict, params)\n\u001b[0m\u001b[1;32m    105\u001b[0m     \u001b[0;32mexcept\u001b[0m \u001b[0mException\u001b[0m \u001b[0;32mas\u001b[0m \u001b[0mexc\u001b[0m\u001b[0;34m:\u001b[0m\u001b[0;34m\u001b[0m\u001b[0;34m\u001b[0m\u001b[0m\n\u001b[1;32m    106\u001b[0m \u001b[0;34m\u001b[0m\u001b[0m\n",
      "\u001b[0;32m~/Dropbox/tez_scripts/utils/pipeline_wrappers.py\u001b[0m in \u001b[0;36mrun_until_coverage_th\u001b[0;34m(feats_dict, pars, covth, covmargin)\u001b[0m\n\u001b[1;32m     47\u001b[0m         \u001b[0mpars\u001b[0m\u001b[0;34m[\u001b[0m\u001b[0;34m'clustering'\u001b[0m\u001b[0;34m]\u001b[0m\u001b[0;34m[\u001b[0m\u001b[0;34m'cost_thr'\u001b[0m\u001b[0;34m]\u001b[0m \u001b[0;34m=\u001b[0m \u001b[0mth\u001b[0m\u001b[0;34m\u001b[0m\u001b[0;34m\u001b[0m\u001b[0m\n\u001b[1;32m     48\u001b[0m         \u001b[0mprint\u001b[0m\u001b[0;34m(\u001b[0m\u001b[0mpars\u001b[0m\u001b[0;34m[\u001b[0m\u001b[0;34m'clustering'\u001b[0m\u001b[0;34m]\u001b[0m\u001b[0;34m[\u001b[0m\u001b[0;34m'cost_thr'\u001b[0m\u001b[0;34m]\u001b[0m\u001b[0;34m)\u001b[0m\u001b[0;34m\u001b[0m\u001b[0;34m\u001b[0m\u001b[0m\n\u001b[0;32m---> 49\u001b[0;31m         \u001b[0mmatches_df\u001b[0m\u001b[0;34m,\u001b[0m \u001b[0mnodes_df\u001b[0m\u001b[0;34m,\u001b[0m \u001b[0mclusters_list\u001b[0m\u001b[0;34m,\u001b[0m \u001b[0mscores\u001b[0m \u001b[0;34m=\u001b[0m \u001b[0mdiscovery_pipeline\u001b[0m\u001b[0;34m(\u001b[0m\u001b[0mfeats_dict\u001b[0m\u001b[0;34m,\u001b[0m \u001b[0mpars\u001b[0m\u001b[0;34m)\u001b[0m\u001b[0;34m\u001b[0m\u001b[0;34m\u001b[0m\u001b[0m\n\u001b[0m\u001b[1;32m     50\u001b[0m         \u001b[0mnmatch\u001b[0m \u001b[0;34m=\u001b[0m \u001b[0mlen\u001b[0m\u001b[0;34m(\u001b[0m\u001b[0mmatches_df\u001b[0m\u001b[0;34m)\u001b[0m\u001b[0;34m\u001b[0m\u001b[0;34m\u001b[0m\u001b[0m\n\u001b[1;32m     51\u001b[0m \u001b[0;34m\u001b[0m\u001b[0m\n",
      "\u001b[0;32m~/Dropbox/tez_scripts/utils/pipeline.py\u001b[0m in \u001b[0;36mdiscovery_pipeline\u001b[0;34m(feats_dict, params)\u001b[0m\n\u001b[1;32m    745\u001b[0m     scores = evaluate_discovery(join(params['exp_root'],params['expname'], postdisc_name), \n\u001b[1;32m    746\u001b[0m                         \u001b[0mjobs\u001b[0m\u001b[0;34m=\u001b[0m\u001b[0mparams\u001b[0m\u001b[0;34m[\u001b[0m\u001b[0;34m'njobs'\u001b[0m\u001b[0;34m]\u001b[0m\u001b[0;34m,\u001b[0m \u001b[0mdataset\u001b[0m\u001b[0;34m=\u001b[0m\u001b[0mparams\u001b[0m\u001b[0;34m[\u001b[0m\u001b[0;34m'dataset'\u001b[0m\u001b[0;34m]\u001b[0m\u001b[0;34m,\u001b[0m\u001b[0;34m\u001b[0m\u001b[0;34m\u001b[0m\u001b[0m\n\u001b[0;32m--> 747\u001b[0;31m                         seq_names=seq_names, cnf=params['config_file'])\n\u001b[0m\u001b[1;32m    748\u001b[0m \u001b[0;34m\u001b[0m\u001b[0m\n\u001b[1;32m    749\u001b[0m     \u001b[0;31m# _, olapratio = number_of_discovered_frames(nodes_df, clusters_list, returnolap=True)\u001b[0m\u001b[0;34m\u001b[0m\u001b[0;34m\u001b[0m\u001b[0;34m\u001b[0m\u001b[0m\n",
      "\u001b[0;32m~/Dropbox/tez_scripts/utils/pipeline.py\u001b[0m in \u001b[0;36mevaluate_discovery\u001b[0;34m(outdir, jobs, dataset, seq_names, cnf)\u001b[0m\n\u001b[1;32m    717\u001b[0m                                                         \u001b[0;34m'sdtw'\u001b[0m\u001b[0;34m,\u001b[0m \u001b[0moutdir\u001b[0m \u001b[0;34m+\u001b[0m \u001b[0;34m'/scores.json'\u001b[0m\u001b[0;34m,\u001b[0m\u001b[0;34m\u001b[0m\u001b[0;34m\u001b[0m\u001b[0m\n\u001b[1;32m    718\u001b[0m                                                         jobs, cnf, SOURCE )\n\u001b[0;32m--> 719\u001b[0;31m     \u001b[0msubprocess\u001b[0m\u001b[0;34m.\u001b[0m\u001b[0mcall\u001b[0m\u001b[0;34m(\u001b[0m\u001b[0mcmd\u001b[0m\u001b[0;34m.\u001b[0m\u001b[0msplit\u001b[0m\u001b[0;34m(\u001b[0m\u001b[0;34m)\u001b[0m\u001b[0;34m)\u001b[0m\u001b[0;34m\u001b[0m\u001b[0;34m\u001b[0m\u001b[0m\n\u001b[0m\u001b[1;32m    720\u001b[0m \u001b[0;34m\u001b[0m\u001b[0m\n\u001b[1;32m    721\u001b[0m     \u001b[0;32mtry\u001b[0m\u001b[0;34m:\u001b[0m\u001b[0;34m\u001b[0m\u001b[0;34m\u001b[0m\u001b[0m\n",
      "\u001b[0;32m~/miniconda3/envs/tez/lib/python3.6/subprocess.py\u001b[0m in \u001b[0;36mcall\u001b[0;34m(timeout, *popenargs, **kwargs)\u001b[0m\n\u001b[1;32m    287\u001b[0m     \u001b[0;32mwith\u001b[0m \u001b[0mPopen\u001b[0m\u001b[0;34m(\u001b[0m\u001b[0;34m*\u001b[0m\u001b[0mpopenargs\u001b[0m\u001b[0;34m,\u001b[0m \u001b[0;34m**\u001b[0m\u001b[0mkwargs\u001b[0m\u001b[0;34m)\u001b[0m \u001b[0;32mas\u001b[0m \u001b[0mp\u001b[0m\u001b[0;34m:\u001b[0m\u001b[0;34m\u001b[0m\u001b[0;34m\u001b[0m\u001b[0m\n\u001b[1;32m    288\u001b[0m         \u001b[0;32mtry\u001b[0m\u001b[0;34m:\u001b[0m\u001b[0;34m\u001b[0m\u001b[0;34m\u001b[0m\u001b[0m\n\u001b[0;32m--> 289\u001b[0;31m             \u001b[0;32mreturn\u001b[0m \u001b[0mp\u001b[0m\u001b[0;34m.\u001b[0m\u001b[0mwait\u001b[0m\u001b[0;34m(\u001b[0m\u001b[0mtimeout\u001b[0m\u001b[0;34m=\u001b[0m\u001b[0mtimeout\u001b[0m\u001b[0;34m)\u001b[0m\u001b[0;34m\u001b[0m\u001b[0;34m\u001b[0m\u001b[0m\n\u001b[0m\u001b[1;32m    290\u001b[0m         \u001b[0;32mexcept\u001b[0m\u001b[0;34m:\u001b[0m\u001b[0;34m\u001b[0m\u001b[0;34m\u001b[0m\u001b[0m\n\u001b[1;32m    291\u001b[0m             \u001b[0mp\u001b[0m\u001b[0;34m.\u001b[0m\u001b[0mkill\u001b[0m\u001b[0;34m(\u001b[0m\u001b[0;34m)\u001b[0m\u001b[0;34m\u001b[0m\u001b[0;34m\u001b[0m\u001b[0m\n",
      "\u001b[0;32m~/miniconda3/envs/tez/lib/python3.6/subprocess.py\u001b[0m in \u001b[0;36mwait\u001b[0;34m(self, timeout, endtime)\u001b[0m\n\u001b[1;32m   1475\u001b[0m                         \u001b[0;32mif\u001b[0m \u001b[0mself\u001b[0m\u001b[0;34m.\u001b[0m\u001b[0mreturncode\u001b[0m \u001b[0;32mis\u001b[0m \u001b[0;32mnot\u001b[0m \u001b[0;32mNone\u001b[0m\u001b[0;34m:\u001b[0m\u001b[0;34m\u001b[0m\u001b[0;34m\u001b[0m\u001b[0m\n\u001b[1;32m   1476\u001b[0m                             \u001b[0;32mbreak\u001b[0m  \u001b[0;31m# Another thread waited.\u001b[0m\u001b[0;34m\u001b[0m\u001b[0;34m\u001b[0m\u001b[0m\n\u001b[0;32m-> 1477\u001b[0;31m                         \u001b[0;34m(\u001b[0m\u001b[0mpid\u001b[0m\u001b[0;34m,\u001b[0m \u001b[0msts\u001b[0m\u001b[0;34m)\u001b[0m \u001b[0;34m=\u001b[0m \u001b[0mself\u001b[0m\u001b[0;34m.\u001b[0m\u001b[0m_try_wait\u001b[0m\u001b[0;34m(\u001b[0m\u001b[0;36m0\u001b[0m\u001b[0;34m)\u001b[0m\u001b[0;34m\u001b[0m\u001b[0;34m\u001b[0m\u001b[0m\n\u001b[0m\u001b[1;32m   1478\u001b[0m                         \u001b[0;31m# Check the pid and loop as waitpid has been known to\u001b[0m\u001b[0;34m\u001b[0m\u001b[0;34m\u001b[0m\u001b[0;34m\u001b[0m\u001b[0m\n\u001b[1;32m   1479\u001b[0m                         \u001b[0;31m# return 0 even without WNOHANG in odd situations.\u001b[0m\u001b[0;34m\u001b[0m\u001b[0;34m\u001b[0m\u001b[0;34m\u001b[0m\u001b[0m\n",
      "\u001b[0;32m~/miniconda3/envs/tez/lib/python3.6/subprocess.py\u001b[0m in \u001b[0;36m_try_wait\u001b[0;34m(self, wait_flags)\u001b[0m\n\u001b[1;32m   1422\u001b[0m             \u001b[0;34m\"\"\"All callers to this function MUST hold self._waitpid_lock.\"\"\"\u001b[0m\u001b[0;34m\u001b[0m\u001b[0;34m\u001b[0m\u001b[0m\n\u001b[1;32m   1423\u001b[0m             \u001b[0;32mtry\u001b[0m\u001b[0;34m:\u001b[0m\u001b[0;34m\u001b[0m\u001b[0;34m\u001b[0m\u001b[0m\n\u001b[0;32m-> 1424\u001b[0;31m                 \u001b[0;34m(\u001b[0m\u001b[0mpid\u001b[0m\u001b[0;34m,\u001b[0m \u001b[0msts\u001b[0m\u001b[0;34m)\u001b[0m \u001b[0;34m=\u001b[0m \u001b[0mos\u001b[0m\u001b[0;34m.\u001b[0m\u001b[0mwaitpid\u001b[0m\u001b[0;34m(\u001b[0m\u001b[0mself\u001b[0m\u001b[0;34m.\u001b[0m\u001b[0mpid\u001b[0m\u001b[0;34m,\u001b[0m \u001b[0mwait_flags\u001b[0m\u001b[0;34m)\u001b[0m\u001b[0;34m\u001b[0m\u001b[0;34m\u001b[0m\u001b[0m\n\u001b[0m\u001b[1;32m   1425\u001b[0m             \u001b[0;32mexcept\u001b[0m \u001b[0mChildProcessError\u001b[0m\u001b[0;34m:\u001b[0m\u001b[0;34m\u001b[0m\u001b[0;34m\u001b[0m\u001b[0m\n\u001b[1;32m   1426\u001b[0m                 \u001b[0;31m# This happens if SIGCLD is set to be ignored or waiting\u001b[0m\u001b[0;34m\u001b[0m\u001b[0;34m\u001b[0m\u001b[0;34m\u001b[0m\u001b[0m\n",
      "\u001b[0;31mKeyboardInterrupt\u001b[0m: "
     ]
    }
   ],
   "source": [
    "def run(minimizer, name, n_iter=3):\n",
    "    checkpoint_saver = CheckpointSaver(\"../../Desktop/tez/checkpoints/knn/{}_c3right.pkl\".format(name), compress=9)\n",
    "    stopper = DeltaYStopper(0.02, 6)\n",
    "    timer = TimerCallback()\n",
    "    \n",
    "    return [minimizer(objective, SPACE, n_calls=20, x0=x0, random_state=9, \n",
    "                      callback=[checkpoint_saver, stopper, timer])\n",
    "            for n in range(n_iter)]\n",
    "\n",
    "\n",
    "# # Random search\n",
    "# dummy_res = run(partial(dummy_minimize), 'dummy')\n",
    "\n",
    "# Gaussian processes\n",
    "# gp_res = run(partial(gp_minimize, x0=x0, y0=y0), 'gp')\n",
    "# gp_res = run(partial(gp_minimize, n_random_starts=3), 'gp')\n",
    "\n",
    "# Random forest\n",
    "# rf_res = run(partial(forest_minimize, n_random_starts=3, base_estimator=\"RF\"), 'rf')\n",
    "\n",
    "# # Extra trees\n",
    "# et_res = run(partial(forest_minimize, base_estimator=\"ET\"))\n",
    "\n",
    "# gradient boosted trees\n",
    "gbrt_res = run(partial(gbrt_minimize, n_random_starts=3), 'gbrt3')\n",
    "# gbrt_res = run(partial(gbrt_minimize, x0=x0, y0=y0, ), 'gbrt3')\n",
    "\n"
   ]
  },
  {
   "cell_type": "code",
   "execution_count": 54,
   "metadata": {},
   "outputs": [
    {
     "data": {
      "text/plain": [
       "[          fun: 0.4804\n",
       "     func_vals: array([0.5524, 1.    , 0.6414, 0.4804, 0.6316, 0.6461, 0.492 , 0.5787,\n",
       "        1.    , 0.4889])\n",
       "        models: [RandomForestRegressor(bootstrap=True, criterion='mse', max_depth=None,\n",
       "                       max_features='auto', max_leaf_nodes=None,\n",
       "                       min_impurity_decrease=0.0, min_samples_leaf=3,\n",
       "                       min_samples_split=2, min_variance=0.0,\n",
       "                       min_weight_fraction_leaf=0.0, n_estimators=100, n_jobs=1,\n",
       "                       oob_score=False, random_state=209652396, verbose=0,\n",
       "                       warm_start=False), RandomForestRegressor(bootstrap=True, criterion='mse', max_depth=None,\n",
       "                       max_features='auto', max_leaf_nodes=None,\n",
       "                       min_impurity_decrease=0.0, min_samples_leaf=3,\n",
       "                       min_samples_split=2, min_variance=0.0,\n",
       "                       min_weight_fraction_leaf=0.0, n_estimators=100, n_jobs=1,\n",
       "                       oob_score=False, random_state=209652396, verbose=0,\n",
       "                       warm_start=False), RandomForestRegressor(bootstrap=True, criterion='mse', max_depth=None,\n",
       "                       max_features='auto', max_leaf_nodes=None,\n",
       "                       min_impurity_decrease=0.0, min_samples_leaf=3,\n",
       "                       min_samples_split=2, min_variance=0.0,\n",
       "                       min_weight_fraction_leaf=0.0, n_estimators=100, n_jobs=1,\n",
       "                       oob_score=False, random_state=209652396, verbose=0,\n",
       "                       warm_start=False), RandomForestRegressor(bootstrap=True, criterion='mse', max_depth=None,\n",
       "                       max_features='auto', max_leaf_nodes=None,\n",
       "                       min_impurity_decrease=0.0, min_samples_leaf=3,\n",
       "                       min_samples_split=2, min_variance=0.0,\n",
       "                       min_weight_fraction_leaf=0.0, n_estimators=100, n_jobs=1,\n",
       "                       oob_score=False, random_state=209652396, verbose=0,\n",
       "                       warm_start=False), RandomForestRegressor(bootstrap=True, criterion='mse', max_depth=None,\n",
       "                       max_features='auto', max_leaf_nodes=None,\n",
       "                       min_impurity_decrease=0.0, min_samples_leaf=3,\n",
       "                       min_samples_split=2, min_variance=0.0,\n",
       "                       min_weight_fraction_leaf=0.0, n_estimators=100, n_jobs=1,\n",
       "                       oob_score=False, random_state=209652396, verbose=0,\n",
       "                       warm_start=False), RandomForestRegressor(bootstrap=True, criterion='mse', max_depth=None,\n",
       "                       max_features='auto', max_leaf_nodes=None,\n",
       "                       min_impurity_decrease=0.0, min_samples_leaf=3,\n",
       "                       min_samples_split=2, min_variance=0.0,\n",
       "                       min_weight_fraction_leaf=0.0, n_estimators=100, n_jobs=1,\n",
       "                       oob_score=False, random_state=209652396, verbose=0,\n",
       "                       warm_start=False), RandomForestRegressor(bootstrap=True, criterion='mse', max_depth=None,\n",
       "                       max_features='auto', max_leaf_nodes=None,\n",
       "                       min_impurity_decrease=0.0, min_samples_leaf=3,\n",
       "                       min_samples_split=2, min_variance=0.0,\n",
       "                       min_weight_fraction_leaf=0.0, n_estimators=100, n_jobs=1,\n",
       "                       oob_score=False, random_state=209652396, verbose=0,\n",
       "                       warm_start=False)]\n",
       "  random_state: <mtrand.RandomState object at 0x7f592f3ae708>\n",
       "         space: Space([Real(low=0.0, high=1.5, prior='uniform', transform='identity'),\n",
       "        Real(low=0.0, high=1.5, prior='uniform', transform='identity'),\n",
       "        Categorical(categories=('', 'PCA40', 'PCAW40'), prior=None),\n",
       "        Categorical(categories=(True, False), prior=None)])\n",
       "         specs: {'args': {'model_queue_size': None, 'n_jobs': 1, 'kappa': 1.96, 'xi': 0.01, 'n_restarts_optimizer': 5, 'n_points': 10000, 'callback': [<skopt.callbacks.CheckpointSaver object at 0x7f592f3055c0>, <skopt.callbacks.DeltaYStopper object at 0x7f592f305198>, <skopt.callbacks.TimerCallback object at 0x7f592f068550>], 'verbose': False, 'random_state': 0, 'y0': None, 'x0': [0.2, 0.2, 'PCA40', False], 'acq_optimizer': 'sampling', 'acq_func': 'EI', 'n_random_starts': 3, 'n_calls': 20, 'base_estimator': 'RF', 'dimensions': [Real(low=0.0, high=1.5, prior='uniform', transform='identity'), Real(low=0.0, high=1.5, prior='uniform', transform='identity'), Categorical(categories=('', 'PCA40', 'PCAW40'), prior=None), Categorical(categories=(True, False), prior=None)], 'func': <function objective at 0x7f592fc017b8>}, 'function': 'base_minimize'}\n",
       "             x: [0.40898444187016986, 0.7164976759820249, 'PCAW40', True]\n",
       "       x_iters: [[0.2, 0.2, 'PCA40', False], [0.8892669273375277, 1.2663986228715263, 'PCAW40', False], [0.9353455451789586, 0.5765725609390498, '', True], [0.40898444187016986, 0.7164976759820249, 'PCAW40', True], [0.5891771941512447, 1.24268905197996, 'PCA40', False], [0.8753787289607896, 0.41735389043217797, 'PCA40', False], [0.1340235841362082, 0.3161005670781032, '', False], [0.2940121483850434, 0.9036883720449537, 'PCA40', True], [0.4931901591447497, 0.2852073469027188, 'PCAW40', False], [0.37432725145902884, 0.45001436515169213, 'PCAW40', True]],\n",
       "           fun: 0.3334\n",
       "     func_vals: array([0.5524, 0.6467, 0.5876, 0.6442, 0.4296, 0.4296, 0.6613, 1.    ,\n",
       "        1.    , 1.    , 0.34  , 0.4137, 0.4457, 0.4311, 0.4966, 0.3897,\n",
       "        0.3392, 0.3782, 0.3668, 0.3334])\n",
       "        models: [RandomForestRegressor(bootstrap=True, criterion='mse', max_depth=None,\n",
       "                       max_features='auto', max_leaf_nodes=None,\n",
       "                       min_impurity_decrease=0.0, min_samples_leaf=3,\n",
       "                       min_samples_split=2, min_variance=0.0,\n",
       "                       min_weight_fraction_leaf=0.0, n_estimators=100, n_jobs=1,\n",
       "                       oob_score=False, random_state=1791095845, verbose=0,\n",
       "                       warm_start=False), RandomForestRegressor(bootstrap=True, criterion='mse', max_depth=None,\n",
       "                       max_features='auto', max_leaf_nodes=None,\n",
       "                       min_impurity_decrease=0.0, min_samples_leaf=3,\n",
       "                       min_samples_split=2, min_variance=0.0,\n",
       "                       min_weight_fraction_leaf=0.0, n_estimators=100, n_jobs=1,\n",
       "                       oob_score=False, random_state=1791095845, verbose=0,\n",
       "                       warm_start=False), RandomForestRegressor(bootstrap=True, criterion='mse', max_depth=None,\n",
       "                       max_features='auto', max_leaf_nodes=None,\n",
       "                       min_impurity_decrease=0.0, min_samples_leaf=3,\n",
       "                       min_samples_split=2, min_variance=0.0,\n",
       "                       min_weight_fraction_leaf=0.0, n_estimators=100, n_jobs=1,\n",
       "                       oob_score=False, random_state=1791095845, verbose=0,\n",
       "                       warm_start=False), RandomForestRegressor(bootstrap=True, criterion='mse', max_depth=None,\n",
       "                       max_features='auto', max_leaf_nodes=None,\n",
       "                       min_impurity_decrease=0.0, min_samples_leaf=3,\n",
       "                       min_samples_split=2, min_variance=0.0,\n",
       "                       min_weight_fraction_leaf=0.0, n_estimators=100, n_jobs=1,\n",
       "                       oob_score=False, random_state=1791095845, verbose=0,\n",
       "                       warm_start=False), RandomForestRegressor(bootstrap=True, criterion='mse', max_depth=None,\n",
       "                       max_features='auto', max_leaf_nodes=None,\n",
       "                       min_impurity_decrease=0.0, min_samples_leaf=3,\n",
       "                       min_samples_split=2, min_variance=0.0,\n",
       "                       min_weight_fraction_leaf=0.0, n_estimators=100, n_jobs=1,\n",
       "                       oob_score=False, random_state=1791095845, verbose=0,\n",
       "                       warm_start=False), RandomForestRegressor(bootstrap=True, criterion='mse', max_depth=None,\n",
       "                       max_features='auto', max_leaf_nodes=None,\n",
       "                       min_impurity_decrease=0.0, min_samples_leaf=3,\n",
       "                       min_samples_split=2, min_variance=0.0,\n",
       "                       min_weight_fraction_leaf=0.0, n_estimators=100, n_jobs=1,\n",
       "                       oob_score=False, random_state=1791095845, verbose=0,\n",
       "                       warm_start=False), RandomForestRegressor(bootstrap=True, criterion='mse', max_depth=None,\n",
       "                       max_features='auto', max_leaf_nodes=None,\n",
       "                       min_impurity_decrease=0.0, min_samples_leaf=3,\n",
       "                       min_samples_split=2, min_variance=0.0,\n",
       "                       min_weight_fraction_leaf=0.0, n_estimators=100, n_jobs=1,\n",
       "                       oob_score=False, random_state=1791095845, verbose=0,\n",
       "                       warm_start=False), RandomForestRegressor(bootstrap=True, criterion='mse', max_depth=None,\n",
       "                       max_features='auto', max_leaf_nodes=None,\n",
       "                       min_impurity_decrease=0.0, min_samples_leaf=3,\n",
       "                       min_samples_split=2, min_variance=0.0,\n",
       "                       min_weight_fraction_leaf=0.0, n_estimators=100, n_jobs=1,\n",
       "                       oob_score=False, random_state=1791095845, verbose=0,\n",
       "                       warm_start=False), RandomForestRegressor(bootstrap=True, criterion='mse', max_depth=None,\n",
       "                       max_features='auto', max_leaf_nodes=None,\n",
       "                       min_impurity_decrease=0.0, min_samples_leaf=3,\n",
       "                       min_samples_split=2, min_variance=0.0,\n",
       "                       min_weight_fraction_leaf=0.0, n_estimators=100, n_jobs=1,\n",
       "                       oob_score=False, random_state=1791095845, verbose=0,\n",
       "                       warm_start=False), RandomForestRegressor(bootstrap=True, criterion='mse', max_depth=None,\n",
       "                       max_features='auto', max_leaf_nodes=None,\n",
       "                       min_impurity_decrease=0.0, min_samples_leaf=3,\n",
       "                       min_samples_split=2, min_variance=0.0,\n",
       "                       min_weight_fraction_leaf=0.0, n_estimators=100, n_jobs=1,\n",
       "                       oob_score=False, random_state=1791095845, verbose=0,\n",
       "                       warm_start=False), RandomForestRegressor(bootstrap=True, criterion='mse', max_depth=None,\n",
       "                       max_features='auto', max_leaf_nodes=None,\n",
       "                       min_impurity_decrease=0.0, min_samples_leaf=3,\n",
       "                       min_samples_split=2, min_variance=0.0,\n",
       "                       min_weight_fraction_leaf=0.0, n_estimators=100, n_jobs=1,\n",
       "                       oob_score=False, random_state=1791095845, verbose=0,\n",
       "                       warm_start=False), RandomForestRegressor(bootstrap=True, criterion='mse', max_depth=None,\n",
       "                       max_features='auto', max_leaf_nodes=None,\n",
       "                       min_impurity_decrease=0.0, min_samples_leaf=3,\n",
       "                       min_samples_split=2, min_variance=0.0,\n",
       "                       min_weight_fraction_leaf=0.0, n_estimators=100, n_jobs=1,\n",
       "                       oob_score=False, random_state=1791095845, verbose=0,\n",
       "                       warm_start=False), RandomForestRegressor(bootstrap=True, criterion='mse', max_depth=None,\n",
       "                       max_features='auto', max_leaf_nodes=None,\n",
       "                       min_impurity_decrease=0.0, min_samples_leaf=3,\n",
       "                       min_samples_split=2, min_variance=0.0,\n",
       "                       min_weight_fraction_leaf=0.0, n_estimators=100, n_jobs=1,\n",
       "                       oob_score=False, random_state=1791095845, verbose=0,\n",
       "                       warm_start=False), RandomForestRegressor(bootstrap=True, criterion='mse', max_depth=None,\n",
       "                       max_features='auto', max_leaf_nodes=None,\n",
       "                       min_impurity_decrease=0.0, min_samples_leaf=3,\n",
       "                       min_samples_split=2, min_variance=0.0,\n",
       "                       min_weight_fraction_leaf=0.0, n_estimators=100, n_jobs=1,\n",
       "                       oob_score=False, random_state=1791095845, verbose=0,\n",
       "                       warm_start=False), RandomForestRegressor(bootstrap=True, criterion='mse', max_depth=None,\n",
       "                       max_features='auto', max_leaf_nodes=None,\n",
       "                       min_impurity_decrease=0.0, min_samples_leaf=3,\n",
       "                       min_samples_split=2, min_variance=0.0,\n",
       "                       min_weight_fraction_leaf=0.0, n_estimators=100, n_jobs=1,\n",
       "                       oob_score=False, random_state=1791095845, verbose=0,\n",
       "                       warm_start=False), RandomForestRegressor(bootstrap=True, criterion='mse', max_depth=None,\n",
       "                       max_features='auto', max_leaf_nodes=None,\n",
       "                       min_impurity_decrease=0.0, min_samples_leaf=3,\n",
       "                       min_samples_split=2, min_variance=0.0,\n",
       "                       min_weight_fraction_leaf=0.0, n_estimators=100, n_jobs=1,\n",
       "                       oob_score=False, random_state=1791095845, verbose=0,\n",
       "                       warm_start=False), RandomForestRegressor(bootstrap=True, criterion='mse', max_depth=None,\n",
       "                       max_features='auto', max_leaf_nodes=None,\n",
       "                       min_impurity_decrease=0.0, min_samples_leaf=3,\n",
       "                       min_samples_split=2, min_variance=0.0,\n",
       "                       min_weight_fraction_leaf=0.0, n_estimators=100, n_jobs=1,\n",
       "                       oob_score=False, random_state=1791095845, verbose=0,\n",
       "                       warm_start=False)]\n",
       "  random_state: <mtrand.RandomState object at 0x7f592f06fb88>\n",
       "         space: Space([Real(low=0.0, high=1.5, prior='uniform', transform='identity'),\n",
       "        Real(low=0.0, high=1.5, prior='uniform', transform='identity'),\n",
       "        Categorical(categories=('', 'PCA40', 'PCAW40'), prior=None),\n",
       "        Categorical(categories=(True, False), prior=None)])\n",
       "         specs: {'args': {'model_queue_size': None, 'n_jobs': 1, 'kappa': 1.96, 'xi': 0.01, 'n_restarts_optimizer': 5, 'n_points': 10000, 'callback': [<skopt.callbacks.CheckpointSaver object at 0x7f592f3055c0>, <skopt.callbacks.DeltaYStopper object at 0x7f592f305198>, <skopt.callbacks.TimerCallback object at 0x7f592f068550>], 'verbose': False, 'random_state': 1, 'y0': None, 'x0': [0.2, 0.2, 'PCA40', False], 'acq_optimizer': 'sampling', 'acq_func': 'EI', 'n_random_starts': 3, 'n_calls': 20, 'base_estimator': 'RF', 'dimensions': [Real(low=0.0, high=1.5, prior='uniform', transform='identity'), Real(low=0.0, high=1.5, prior='uniform', transform='identity'), Categorical(categories=('', 'PCA40', 'PCAW40'), prior=None), Categorical(categories=(True, False), prior=None)], 'func': <function objective at 0x7f592fc017b8>}, 'function': 'base_minimize'}\n",
       "             x: [0.00341267500801612, 1.4888159903096059, 'PCAW40', True]\n",
       "       x_iters: [[0.2, 0.2, 'PCA40', False], [1.495777216408303, 1.3988360390079884, '', False], [0.35413346542796414, 0.5948710909440392, 'PCA40', False], [1.4033086062090478, 1.2694663750290258, '', False], [0.665179340669335, 0.9964391596478882, 'PCAW40', True], [0.6141437434956298, 1.0912587570006462, 'PCAW40', True], [1.3404763861772555, 0.5346455986035556, 'PCA40', False], [0.8957608739453058, 1.4500286311109507, 'PCAW40', True], [0.6908374282063573, 1.1782984558934142, 'PCAW40', False], [0.6474857161067529, 1.1098622786657253, 'PCAW40', False], [0.03477680701281822, 1.0864587720118046, 'PCAW40', True], [0.10205618177356914, 1.0995013414303165, '', True], [0.2046368978814612, 1.1026931585861186, 'PCAW40', True], [0.18486306547305262, 1.10478692989093, 'PCAW40', True], [0.14826750905962718, 1.1067801123225247, 'PCAW40', False], [0.10632650302366033, 1.1075515574132588, 'PCAW40', True], [0.031117233280933358, 1.1262483454082712, 'PCAW40', True], [0.07559134272223351, 1.1845844790510403, 'PCAW40', True], [0.04997406248403164, 1.2216242030851177, 'PCAW40', True], [0.00341267500801612, 1.4888159903096059, 'PCAW40', True]],\n",
       "           fun: 0.3541\n",
       "     func_vals: array([0.5524, 0.4684, 0.4775, 1.    , 1.    , 0.6697, 0.516 , 0.574 ,\n",
       "        0.3541, 0.477 , 0.4768, 0.4774, 0.4764, 0.4749, 0.4721, 0.466 ,\n",
       "        0.4393, 0.443 , 1.    , 1.    ])\n",
       "        models: [RandomForestRegressor(bootstrap=True, criterion='mse', max_depth=None,\n",
       "                       max_features='auto', max_leaf_nodes=None,\n",
       "                       min_impurity_decrease=0.0, min_samples_leaf=3,\n",
       "                       min_samples_split=2, min_variance=0.0,\n",
       "                       min_weight_fraction_leaf=0.0, n_estimators=100, n_jobs=1,\n",
       "                       oob_score=False, random_state=1872583848, verbose=0,\n",
       "                       warm_start=False), RandomForestRegressor(bootstrap=True, criterion='mse', max_depth=None,\n",
       "                       max_features='auto', max_leaf_nodes=None,\n",
       "                       min_impurity_decrease=0.0, min_samples_leaf=3,\n",
       "                       min_samples_split=2, min_variance=0.0,\n",
       "                       min_weight_fraction_leaf=0.0, n_estimators=100, n_jobs=1,\n",
       "                       oob_score=False, random_state=1872583848, verbose=0,\n",
       "                       warm_start=False), RandomForestRegressor(bootstrap=True, criterion='mse', max_depth=None,\n",
       "                       max_features='auto', max_leaf_nodes=None,\n",
       "                       min_impurity_decrease=0.0, min_samples_leaf=3,\n",
       "                       min_samples_split=2, min_variance=0.0,\n",
       "                       min_weight_fraction_leaf=0.0, n_estimators=100, n_jobs=1,\n",
       "                       oob_score=False, random_state=1872583848, verbose=0,\n",
       "                       warm_start=False), RandomForestRegressor(bootstrap=True, criterion='mse', max_depth=None,\n",
       "                       max_features='auto', max_leaf_nodes=None,\n",
       "                       min_impurity_decrease=0.0, min_samples_leaf=3,\n",
       "                       min_samples_split=2, min_variance=0.0,\n",
       "                       min_weight_fraction_leaf=0.0, n_estimators=100, n_jobs=1,\n",
       "                       oob_score=False, random_state=1872583848, verbose=0,\n",
       "                       warm_start=False), RandomForestRegressor(bootstrap=True, criterion='mse', max_depth=None,\n",
       "                       max_features='auto', max_leaf_nodes=None,\n",
       "                       min_impurity_decrease=0.0, min_samples_leaf=3,\n",
       "                       min_samples_split=2, min_variance=0.0,\n",
       "                       min_weight_fraction_leaf=0.0, n_estimators=100, n_jobs=1,\n",
       "                       oob_score=False, random_state=1872583848, verbose=0,\n",
       "                       warm_start=False), RandomForestRegressor(bootstrap=True, criterion='mse', max_depth=None,\n",
       "                       max_features='auto', max_leaf_nodes=None,\n",
       "                       min_impurity_decrease=0.0, min_samples_leaf=3,\n",
       "                       min_samples_split=2, min_variance=0.0,\n",
       "                       min_weight_fraction_leaf=0.0, n_estimators=100, n_jobs=1,\n",
       "                       oob_score=False, random_state=1872583848, verbose=0,\n",
       "                       warm_start=False), RandomForestRegressor(bootstrap=True, criterion='mse', max_depth=None,\n",
       "                       max_features='auto', max_leaf_nodes=None,\n",
       "                       min_impurity_decrease=0.0, min_samples_leaf=3,\n",
       "                       min_samples_split=2, min_variance=0.0,\n",
       "                       min_weight_fraction_leaf=0.0, n_estimators=100, n_jobs=1,\n",
       "                       oob_score=False, random_state=1872583848, verbose=0,\n",
       "                       warm_start=False), RandomForestRegressor(bootstrap=True, criterion='mse', max_depth=None,\n",
       "                       max_features='auto', max_leaf_nodes=None,\n",
       "                       min_impurity_decrease=0.0, min_samples_leaf=3,\n",
       "                       min_samples_split=2, min_variance=0.0,\n",
       "                       min_weight_fraction_leaf=0.0, n_estimators=100, n_jobs=1,\n",
       "                       oob_score=False, random_state=1872583848, verbose=0,\n",
       "                       warm_start=False), RandomForestRegressor(bootstrap=True, criterion='mse', max_depth=None,\n",
       "                       max_features='auto', max_leaf_nodes=None,\n",
       "                       min_impurity_decrease=0.0, min_samples_leaf=3,\n",
       "                       min_samples_split=2, min_variance=0.0,\n",
       "                       min_weight_fraction_leaf=0.0, n_estimators=100, n_jobs=1,\n",
       "                       oob_score=False, random_state=1872583848, verbose=0,\n",
       "                       warm_start=False), RandomForestRegressor(bootstrap=True, criterion='mse', max_depth=None,\n",
       "                       max_features='auto', max_leaf_nodes=None,\n",
       "                       min_impurity_decrease=0.0, min_samples_leaf=3,\n",
       "                       min_samples_split=2, min_variance=0.0,\n",
       "                       min_weight_fraction_leaf=0.0, n_estimators=100, n_jobs=1,\n",
       "                       oob_score=False, random_state=1872583848, verbose=0,\n",
       "                       warm_start=False), RandomForestRegressor(bootstrap=True, criterion='mse', max_depth=None,\n",
       "                       max_features='auto', max_leaf_nodes=None,\n",
       "                       min_impurity_decrease=0.0, min_samples_leaf=3,\n",
       "                       min_samples_split=2, min_variance=0.0,\n",
       "                       min_weight_fraction_leaf=0.0, n_estimators=100, n_jobs=1,\n",
       "                       oob_score=False, random_state=1872583848, verbose=0,\n",
       "                       warm_start=False), RandomForestRegressor(bootstrap=True, criterion='mse', max_depth=None,\n",
       "                       max_features='auto', max_leaf_nodes=None,\n",
       "                       min_impurity_decrease=0.0, min_samples_leaf=3,\n",
       "                       min_samples_split=2, min_variance=0.0,\n",
       "                       min_weight_fraction_leaf=0.0, n_estimators=100, n_jobs=1,\n",
       "                       oob_score=False, random_state=1872583848, verbose=0,\n",
       "                       warm_start=False), RandomForestRegressor(bootstrap=True, criterion='mse', max_depth=None,\n",
       "                       max_features='auto', max_leaf_nodes=None,\n",
       "                       min_impurity_decrease=0.0, min_samples_leaf=3,\n",
       "                       min_samples_split=2, min_variance=0.0,\n",
       "                       min_weight_fraction_leaf=0.0, n_estimators=100, n_jobs=1,\n",
       "                       oob_score=False, random_state=1872583848, verbose=0,\n",
       "                       warm_start=False), RandomForestRegressor(bootstrap=True, criterion='mse', max_depth=None,\n",
       "                       max_features='auto', max_leaf_nodes=None,\n",
       "                       min_impurity_decrease=0.0, min_samples_leaf=3,\n",
       "                       min_samples_split=2, min_variance=0.0,\n",
       "                       min_weight_fraction_leaf=0.0, n_estimators=100, n_jobs=1,\n",
       "                       oob_score=False, random_state=1872583848, verbose=0,\n",
       "                       warm_start=False), RandomForestRegressor(bootstrap=True, criterion='mse', max_depth=None,\n",
       "                       max_features='auto', max_leaf_nodes=None,\n",
       "                       min_impurity_decrease=0.0, min_samples_leaf=3,\n",
       "                       min_samples_split=2, min_variance=0.0,\n",
       "                       min_weight_fraction_leaf=0.0, n_estimators=100, n_jobs=1,\n",
       "                       oob_score=False, random_state=1872583848, verbose=0,\n",
       "                       warm_start=False), RandomForestRegressor(bootstrap=True, criterion='mse', max_depth=None,\n",
       "                       max_features='auto', max_leaf_nodes=None,\n",
       "                       min_impurity_decrease=0.0, min_samples_leaf=3,\n",
       "                       min_samples_split=2, min_variance=0.0,\n",
       "                       min_weight_fraction_leaf=0.0, n_estimators=100, n_jobs=1,\n",
       "                       oob_score=False, random_state=1872583848, verbose=0,\n",
       "                       warm_start=False), RandomForestRegressor(bootstrap=True, criterion='mse', max_depth=None,\n",
       "                       max_features='auto', max_leaf_nodes=None,\n",
       "                       min_impurity_decrease=0.0, min_samples_leaf=3,\n",
       "                       min_samples_split=2, min_variance=0.0,\n",
       "                       min_weight_fraction_leaf=0.0, n_estimators=100, n_jobs=1,\n",
       "                       oob_score=False, random_state=1872583848, verbose=0,\n",
       "                       warm_start=False)]\n",
       "  random_state: <mtrand.RandomState object at 0x7f592ef50c18>\n",
       "         space: Space([Real(low=0.0, high=1.5, prior='uniform', transform='identity'),\n",
       "        Real(low=0.0, high=1.5, prior='uniform', transform='identity'),\n",
       "        Categorical(categories=('', 'PCA40', 'PCAW40'), prior=None),\n",
       "        Categorical(categories=(True, False), prior=None)])\n",
       "         specs: {'args': {'model_queue_size': None, 'n_jobs': 1, 'kappa': 1.96, 'xi': 0.01, 'n_restarts_optimizer': 5, 'n_points': 10000, 'callback': [<skopt.callbacks.CheckpointSaver object at 0x7f592f3055c0>, <skopt.callbacks.DeltaYStopper object at 0x7f592f305198>, <skopt.callbacks.TimerCallback object at 0x7f592f068550>], 'verbose': False, 'random_state': 2, 'y0': None, 'x0': [0.2, 0.2, 'PCA40', False], 'acq_optimizer': 'sampling', 'acq_func': 'EI', 'n_random_starts': 3, 'n_calls': 20, 'base_estimator': 'RF', 'dimensions': [Real(low=0.0, high=1.5, prior='uniform', transform='identity'), Real(low=0.0, high=1.5, prior='uniform', transform='identity'), Categorical(categories=('', 'PCA40', 'PCAW40'), prior=None), Categorical(categories=(True, False), prior=None)], 'func': <function objective at 0x7f592fc017b8>}, 'function': 'base_minimize'}\n",
       "             x: [0.0030682178541172615, 0.3007512579941484, 'PCAW40', True]\n",
       "       x_iters: [[0.2, 0.2, 'PCA40', False], [0.27762311725981037, 1.3973112987316678, 'PCAW40', True], [0.480804655667411, 0.2316400096339952, 'PCAW40', True], [0.7277638643997976, 0.9491065959014054, 'PCAW40', False], [0.7478417550799786, 0.31978059664854325, 'PCAW40', False], [1.1873772599099093, 0.6381362744475962, 'PCA40', True], [0.1762330770544139, 0.49236511561315827, '', False], [0.32776413111969616, 0.2457122247480776, 'PCA40', True], [0.0030682178541172615, 0.3007512579941484, 'PCAW40', True], [0.049206783026748364, 1.2540998195447008, 'PCAW40', False], [0.4977881754230431, 0.30174849082376, 'PCAW40', True], [0.4988720444640051, 0.2799463396364098, 'PCAW40', True], [0.4913305715143, 0.4985406544387799, 'PCAW40', True], [0.5531509154744452, 0.2832109215630914, 'PCAW40', True], [0.5828525798404501, 0.29778077237151085, 'PCAW40', True], [0.5431821707447754, 0.49043387938844185, 'PCAW40', True], [0.6143365314788557, 0.3050814254261521, 'PCAW40', True], [0.6262722803656087, 0.29942774393312943, 'PCAW40', True], [0.6156230484660041, 0.36906098860724335, 'PCAW40', False], [0.5914501953607076, 0.3207610116252062, 'PCAW40', False]]]"
      ]
     },
     "execution_count": 54,
     "metadata": {},
     "output_type": "execute_result"
    }
   ],
   "source": [
    "rf_res"
   ]
  },
  {
   "cell_type": "code",
   "execution_count": 14,
   "metadata": {
    "scrolled": true
   },
   "outputs": [
    {
     "name": "stdout",
     "output_type": "stream",
     "text": [
      "knn_A_c3_right_a4_dim_fix10_emb_typegauss_kernel_k100_lmax28_lmin4_metricL2_olapthr_m0.25_pcaPCA40_r0.2_s0.2_seg_typeuniform_normFalse_top_delta0.02_use_gpuTrue\n",
      "0.01\n",
      "Building index of size 386876x610\n",
      "*** found 75305 matches ***\n",
      "*** pairwise clustering ***\n",
      "*** post disc completed, found 1486 segments from 743 clusters ***\n",
      "*** Coverage: 0.0129, NED: 0.49\n",
      "trial 0 th:0.01000 cov:0.01290 err:-0.08710\n",
      "0.062015503875969\n",
      "*** Matches already discovered !!! ***\n",
      "*** found 75305 matches ***\n",
      "*** pairwise clustering ***\n",
      "*** post disc completed, found 7124 segments from 3562 clusters ***\n",
      "*** Coverage: 0.0762, NED: 0.55\n",
      "trial 1 th:0.06202 cov:0.07620 err:-0.02380\n",
      "0.06725814075951848\n",
      "*** Matches already discovered !!! ***\n",
      "*** found 75305 matches ***\n",
      "*** pairwise clustering ***\n",
      "*** post disc completed, found 7606 segments from 3803 clusters ***\n",
      "*** Coverage: 0.0810, NED: 0.54\n",
      "trial 2 th:0.06726 cov:0.08100 err:-0.01900\n",
      "0.08281129684738196\n",
      "*** Matches already discovered !!! ***\n",
      "*** found 75305 matches ***\n",
      "*** pairwise clustering ***\n",
      "*** post disc completed, found 9042 segments from 4521 clusters ***\n",
      "*** Coverage: 0.0941, NED: 0.56\n",
      "trial 3 th:0.08281 cov:0.09410 err:-0.00590\n",
      " === Experiment completed in 1.0m 6.3seconds ===\n",
      "knn_A_c3_right_a4_dim_fix10_emb_typegauss_kernel_k100_lmax28_lmin4_metricL2_olapthr_m0.25_pcaPCAW40_r1.399510465414602_s0.20090542741474157_seg_typeuniform_normTrue_top_delta0.49860648141474007_use_gpuTrue\n",
      "0.01\n",
      "Building index of size 386876x610\n",
      "*** found 1072516 matches ***\n",
      "*** pairwise clustering ***\n",
      "*** post disc completed, found 14958 segments from 7479 clusters ***\n",
      "*** Coverage: 0.1695, NED: 0.65\n",
      "trial 0 th:0.01000 cov:0.16950 err:0.06950\n",
      "0.00471976401179941\n",
      "*** Matches already discovered !!! ***\n",
      "*** found 1072516 matches ***\n",
      "*** pairwise clustering ***\n",
      "*** post disc completed, found 8046 segments from 4023 clusters ***\n",
      "*** Coverage: 0.0999, NED: 0.63\n",
      "trial 1 th:0.00472 cov:0.09990 err:-0.00010\n",
      " === Experiment completed in 31.0m 34.2seconds ===\n",
      "knn_A_c3_right_a4_dim_fix10_emb_typegauss_kernel_k100_lmax28_lmin4_metricL2_olapthr_m0.25_pcaPCAW40_r0.5879870043313912_s1.0079215948371854_seg_typeuniform_normFalse_top_delta0.201307460011533_use_gpuTrue\n",
      "0.01\n",
      "Building index of size 386876x610\n",
      "*** found 559578 matches ***\n",
      "*** pairwise clustering ***\n",
      "*** post disc completed, found 8912 segments from 4456 clusters ***\n",
      "*** Coverage: 0.1502, NED: 0.58\n",
      "trial 0 th:0.01000 cov:0.15020 err:0.05020\n",
      "0.005326231691078562\n",
      "*** Matches already discovered !!! ***\n",
      "*** found 559578 matches ***\n",
      "*** pairwise clustering ***\n",
      "*** post disc completed, found 5352 segments from 2676 clusters ***\n",
      "*** Coverage: 0.0779, NED: 0.54\n",
      "trial 1 th:0.00533 cov:0.07790 err:-0.02210\n",
      "0.007403893011254704\n",
      "*** Matches already discovered !!! ***\n",
      "*** found 559578 matches ***\n",
      "*** pairwise clustering ***\n",
      "*** post disc completed, found 6986 segments from 3493 clusters ***\n",
      "*** Coverage: 0.1112, NED: 0.54\n",
      "trial 2 th:0.00740 cov:0.11120 err:0.01120\n",
      "0.006429326349958868\n",
      "*** Matches already discovered !!! ***\n",
      "*** found 559578 matches ***\n",
      "*** pairwise clustering ***\n",
      "*** post disc completed, found 6242 segments from 3121 clusters ***\n",
      "*** Coverage: 0.0945, NED: 0.55\n",
      "trial 3 th:0.00643 cov:0.09450 err:-0.00550\n",
      " === Experiment completed in 5.0m 34.9seconds ===\n",
      "knn_A_c3_right_a4_dim_fix10_emb_typegauss_kernel_k100_lmax28_lmin4_metricL2_olapthr_m0.25_pca_r0.7915767577635785_s0.6707448117315395_seg_typeuniform_normFalse_top_delta0.1600703908814762_use_gpuTrue\n",
      "0.01\n",
      "Building index of size 386876x610\n",
      "*** found 738998 matches ***\n",
      "*** pairwise clustering ***\n",
      "*** post disc completed, found 10346 segments from 5173 clusters ***\n",
      "*** Coverage: 0.1749, NED: 0.66\n",
      "trial 0 th:0.01000 cov:0.17490 err:0.07490\n",
      "0.004574042309891366\n",
      "*** Matches already discovered !!! ***\n",
      "*** found 738998 matches ***\n",
      "*** pairwise clustering ***\n",
      "*** post disc completed, found 5520 segments from 2760 clusters ***\n",
      "*** Coverage: 0.0906, NED: 0.61\n",
      "trial 1 th:0.00457 cov:0.09060 err:-0.00940\n",
      " === Experiment completed in 5.0m 11.5seconds ===\n",
      "knn_A_c3_right_a4_dim_fix10_emb_typegauss_kernel_k100_lmax28_lmin4_metricL2_olapthr_m0.25_pcaPCAW40_r0.6912351639006127_s0.6517408651052158_seg_typeuniform_normFalse_top_delta0.45741120216672043_use_gpuTrue\n",
      "0.01\n",
      "Building index of size 386876x610\n",
      "*** found 1268273 matches ***\n",
      "*** pairwise clustering ***\n",
      "*** post disc completed, found 17366 segments from 8683 clusters ***\n",
      "*** Coverage: 0.2987, NED: 0.64\n",
      "trial 0 th:0.01000 cov:0.29870 err:0.19870\n",
      "0.0026782725142283225\n",
      "*** Matches already discovered !!! ***\n",
      "*** found 1268273 matches ***\n",
      "*** pairwise clustering ***\n",
      "*** post disc completed, found 5920 segments from 2960 clusters ***\n",
      "*** Coverage: 0.0902, NED: 0.55\n",
      "trial 1 th:0.00268 cov:0.09020 err:-0.00980\n",
      " === Experiment completed in 27.0m 39.9seconds ===\n",
      "knn_A_c3_right_a4_dim_fix10_emb_typegauss_kernel_k100_lmax28_lmin4_metricL2_olapthr_m0.25_pcaPCA40_r1.206108680866674_s0.14827320487469953_seg_typeuniform_normFalse_top_delta0.35940540540434035_use_gpuTrue\n",
      "0.01\n",
      "Building index of size 386876x610\n",
      "*** found 1636409 matches ***\n",
      "*** pairwise clustering ***\n",
      "*** post disc completed, found 20026 segments from 10013 clusters ***\n",
      "*** Coverage: 0.3421, NED: 0.74\n",
      "trial 0 th:0.01000 cov:0.34210 err:0.24210\n",
      "0.00233849751534639\n",
      "*** Matches already discovered !!! ***\n",
      "*** found 1636409 matches ***\n",
      "*** pairwise clustering ***\n",
      "*** post disc completed, found 5922 segments from 2961 clusters ***\n",
      "*** Coverage: 0.1062, NED: 0.65\n",
      "trial 1 th:0.00234 cov:0.10620 err:0.00620\n",
      " === Experiment completed in 22.0m 22.7seconds ===\n",
      "knn_A_c3_right_a4_dim_fix10_emb_typegauss_kernel_k100_lmax28_lmin4_metricL2_olapthr_m0.25_pca_r0.01_s1.5_seg_typeuniform_normTrue_top_delta0.5_use_gpuTrue\n",
      "0.01\n",
      "Building index of size 386876x610\n",
      "*** found 3658456 matches ***\n",
      "*** pairwise clustering ***\n",
      "*** post disc completed, found 40716 segments from 20358 clusters ***\n",
      "*** Coverage: 0.0899, NED: 0.38\n",
      "trial 0 th:0.01000 cov:0.08990 err:-0.01010\n",
      "0.008898776418242493\n",
      "*** Matches already discovered !!! ***\n",
      "*** found 3658456 matches ***\n",
      "*** pairwise clustering ***\n",
      "*** post disc completed, found 36334 segments from 18167 clusters ***\n",
      "*** Coverage: 0.0851, NED: 0.37\n",
      "trial 1 th:0.00890 cov:0.08510 err:-0.01490\n",
      "0.01185372636262514\n",
      "*** Matches already discovered !!! ***\n",
      "*** found 3658456 matches ***\n",
      "*** pairwise clustering ***\n",
      "*** post disc completed, found 48248 segments from 24124 clusters ***\n",
      "*** Coverage: 0.0984, NED: 0.39\n",
      "trial 2 th:0.01185 cov:0.09840 err:-0.00160\n",
      " === Experiment completed in 61.0m 46.2seconds ===\n",
      "knn_A_c3_right_a4_dim_fix10_emb_typegauss_kernel_k100_lmax28_lmin4_metricL2_olapthr_m0.25_pcaPCA40_r0.01_s1.5_seg_typeuniform_normFalse_top_delta0.5_use_gpuTrue\n",
      "0.01\n",
      "Building index of size 386876x610\n",
      "*** found 3578595 matches ***\n",
      "*** pairwise clustering ***\n",
      "*** post disc completed, found 40098 segments from 20049 clusters ***\n",
      "*** Coverage: 0.1765, NED: 0.59\n",
      "trial 0 th:0.01000 cov:0.17650 err:0.07650\n",
      "0.00453257790368272\n",
      "*** Matches already discovered !!! ***\n",
      "*** found 3578595 matches ***\n",
      "*** pairwise clustering ***\n",
      "*** post disc completed, found 19484 segments from 9742 clusters ***\n",
      "*** Coverage: 0.1066, NED: 0.53\n",
      "trial 1 th:0.00453 cov:0.10660 err:0.00660\n",
      " === Experiment completed in 57.0m 26.7seconds ===\n",
      "knn_A_c3_right_a4_dim_fix10_emb_typegauss_kernel_k100_lmax28_lmin4_metricL2_olapthr_m0.25_pcaPCA40_r1.5_s0.01_seg_typeuniform_normTrue_top_delta0.17106067067065847_use_gpuTrue\n",
      "0.01\n",
      "Building index of size 386876x610\n",
      "*** found 839888 matches ***\n",
      "*** pairwise clustering ***\n",
      "*** post disc completed, found 10940 segments from 5470 clusters ***\n",
      "*** Coverage: 0.1082, NED: 0.69\n",
      "trial 0 th:0.01000 cov:0.10820 err:0.00820\n",
      " === Experiment completed in 6.0m 33.9seconds ===\n",
      "knn_A_c3_right_a4_dim_fix10_emb_typegauss_kernel_k100_lmax28_lmin4_metricL2_olapthr_m0.25_pca_r0.01_s0.01_seg_typeuniform_normFalse_top_delta0.005_use_gpuTrue\n",
      "0.01\n",
      "Building index of size 386876x610\n",
      "*** found 74226 matches ***\n",
      "*** pairwise clustering ***\n",
      "*** post disc completed, found 1438 segments from 719 clusters ***\n",
      "*** Coverage: 0.0054, NED: 0.46\n",
      "trial 0 th:0.01000 cov:0.00540 err:-0.09460\n",
      "0.14814814814814814\n",
      "*** Matches already discovered !!! ***\n",
      "*** found 74226 matches ***\n",
      "*** pairwise clustering ***\n"
     ]
    },
    {
     "name": "stdout",
     "output_type": "stream",
     "text": [
      "*** post disc completed, found 15250 segments from 7625 clusters ***\n",
      "*** Coverage: 0.0389, NED: 0.31\n",
      "trial 1 th:0.14815 cov:0.03890 err:-0.06110\n",
      "0.32209110005527924\n",
      "*** Matches already discovered !!! ***\n",
      "*** found 74226 matches ***\n",
      "*** pairwise clustering ***\n",
      "*** post disc completed, found 33850 segments from 16925 clusters ***\n",
      "*** Coverage: 0.0644, NED: 0.34\n",
      "trial 2 th:0.32209 cov:0.06440 err:-0.03560\n",
      "0.48157291243130773\n",
      "*** Matches already discovered !!! ***\n",
      "*** found 74226 matches ***\n",
      "*** pairwise clustering ***\n",
      "*** post disc completed, found 52954 segments from 26477 clusters ***\n",
      "*** Coverage: 0.0864, NED: 0.36\n",
      "trial 3 th:0.48157 cov:0.08640 err:-0.01360\n",
      "0.528547555349338\n",
      "*** Matches already discovered !!! ***\n",
      "*** found 74226 matches ***\n",
      "*** pairwise clustering ***\n",
      "*** post disc completed, found 58826 segments from 29413 clusters ***\n",
      "*** Coverage: 0.0928, NED: 0.37\n",
      "trial 4 th:0.52855 cov:0.09280 err:-0.00720\n",
      " === Experiment completed in 4.0m 6.7seconds ===\n",
      "knn_A_c3_right_a4_dim_fix10_emb_typegauss_kernel_k100_lmax28_lmin4_metricL2_olapthr_m0.25_pca_r0.15370404384584113_s1.379778288766622_seg_typeuniform_normFalse_top_delta0.43054596761563074_use_gpuTrue\n",
      "0.01\n",
      "Building index of size 386876x610\n",
      "*** found 2321609 matches ***\n",
      "*** pairwise clustering ***\n",
      "*** post disc completed, found 27832 segments from 13916 clusters ***\n",
      "*** Coverage: 0.2072, NED: 0.61\n",
      "trial 0 th:0.01000 cov:0.20720 err:0.10720\n",
      "0.003861003861003861\n",
      "*** Matches already discovered !!! ***\n",
      "*** found 2321609 matches ***\n",
      "*** pairwise clustering ***\n",
      "*** post disc completed, found 12296 segments from 6148 clusters ***\n",
      "*** Coverage: 0.1126, NED: 0.55\n",
      "trial 1 th:0.00386 cov:0.11260 err:0.01260\n",
      "0.004434669039320202\n",
      "*** Matches already discovered !!! ***\n",
      "*** found 2321609 matches ***\n",
      "*** pairwise clustering ***\n",
      "*** post disc completed, found 13812 segments from 6906 clusters ***\n",
      "*** Coverage: 0.1231, NED: 0.55\n",
      "trial 2 th:0.00443 cov:0.12310 err:0.02310\n",
      "0.0033102852898201736\n",
      "*** Matches already discovered !!! ***\n",
      "*** found 2321609 matches ***\n",
      "*** pairwise clustering ***\n",
      "*** post disc completed, found 10830 segments from 5415 clusters ***\n",
      "*** Coverage: 0.0998, NED: 0.54\n",
      "trial 3 th:0.00331 cov:0.09980 err:-0.00020\n",
      " === Experiment completed in 39.0m 13.8seconds ===\n",
      "knn_A_c3_right_a4_dim_fix10_emb_typegauss_kernel_k100_lmax28_lmin4_metricL2_olapthr_m0.25_pca_r1.1651768550596548_s1.491404023337484_seg_typeuniform_normFalse_top_delta0.31556664664707523_use_gpuTrue\n",
      "0.01\n",
      "Building index of size 386876x610\n",
      "*** found 1421361 matches ***\n",
      "*** pairwise clustering ***\n",
      "*** post disc completed, found 17894 segments from 8947 clusters ***\n",
      "*** Coverage: 0.3104, NED: 0.72\n",
      "trial 0 th:0.01000 cov:0.31040 err:0.21040\n",
      "0.002577319587628866\n",
      "*** Matches already discovered !!! ***\n",
      "*** found 1421361 matches ***\n",
      "*** pairwise clustering ***\n",
      "*** post disc completed, found 5828 segments from 2914 clusters ***\n",
      "*** Coverage: 0.1033, NED: 0.65\n",
      "trial 1 th:0.00258 cov:0.10330 err:0.00330\n",
      " === Experiment completed in 17.0m 55.7seconds ===\n",
      "knn_A_c3_right_a4_dim_fix10_emb_typegauss_kernel_k100_lmax28_lmin4_metricL2_olapthr_m0.25_pca_r0.01_s0.01_seg_typeuniform_normTrue_top_delta0.5_use_gpuTrue\n",
      "0.01\n",
      "Building index of size 386876x610\n",
      "*** found 5265018 matches ***\n",
      "*** pairwise clustering ***\n",
      "*** post disc completed, found 62130 segments from 31065 clusters ***\n",
      "*** Coverage: 0.0593, NED: 0.28\n",
      "trial 0 th:0.01000 cov:0.05930 err:-0.04070\n",
      "0.013490725126475549\n",
      "*** Matches already discovered !!! ***\n",
      "*** found 5265018 matches ***\n",
      "*** pairwise clustering ***\n",
      "*** post disc completed, found 85668 segments from 42834 clusters ***\n",
      "*** Coverage: 0.0735, NED: 0.31\n",
      "trial 1 th:0.01349 cov:0.07350 err:-0.02650\n",
      "0.018004085219580558\n",
      "*** Matches already discovered !!! ***\n",
      "*** found 5265018 matches ***\n",
      "*** pairwise clustering ***\n",
      "*** post disc completed, found 117540 segments from 58770 clusters ***\n",
      "*** Coverage: 0.0898, NED: 0.34\n",
      "trial 2 th:0.01800 cov:0.08980 err:-0.01020\n",
      "0.019360862180084516\n",
      "*** Matches already discovered !!! ***\n",
      "*** found 5265018 matches ***\n",
      "*** pairwise clustering ***\n",
      "*** post disc completed, found 127370 segments from 63685 clusters ***\n",
      "*** Coverage: 0.0946, NED: 0.35\n",
      "trial 3 th:0.01936 cov:0.09460 err:-0.00540\n",
      " === Experiment completed in 73.0m 2.4seconds ===\n",
      "knn_A_c3_right_a4_dim_fix10_emb_typegauss_kernel_k100_lmax28_lmin4_metricL2_olapthr_m0.25_pcaPCAW40_r0.01_s0.01_seg_typeuniform_normTrue_top_delta0.005_use_gpuTrue\n",
      "0.01\n",
      "Building index of size 386876x610\n",
      "*** found 83454 matches ***\n",
      "*** pairwise clustering ***\n",
      "*** post disc completed, found 1302 segments from 651 clusters ***\n",
      "*** Coverage: 0.0048, NED: 0.23\n",
      "trial 0 th:0.01000 cov:0.00480 err:-0.09520\n",
      "0.16666666666666669\n",
      "*** Matches already discovered !!! ***\n",
      "*** found 83454 matches ***\n",
      "*** pairwise clustering ***\n",
      "*** post disc completed, found 18194 segments from 9097 clusters ***\n",
      "*** Coverage: 0.0257, NED: 0.26\n",
      "trial 1 th:0.16667 cov:0.02570 err:-0.07430\n",
      "0.580896331738437\n",
      "*** Matches already discovered !!! ***\n",
      "*** found 83454 matches ***\n",
      "*** pairwise clustering ***\n",
      "*** post disc completed, found 74582 segments from 37291 clusters ***\n",
      "*** Coverage: 0.0774, NED: 0.35\n",
      "trial 2 th:0.58090 cov:0.07740 err:-0.02260\n",
      "0.6429105988110774\n",
      "*** Matches already discovered !!! ***\n",
      "*** found 83454 matches ***\n",
      "*** pairwise clustering ***\n",
      "*** post disc completed, found 83960 segments from 41980 clusters ***\n",
      "*** Coverage: 0.0897, NED: 0.36\n",
      "trial 3 th:0.64291 cov:0.08970 err:-0.01030\n",
      "0.6720522625248873\n",
      "*** Matches already discovered !!! ***\n",
      "*** found 83454 matches ***\n",
      "*** pairwise clustering ***\n",
      "*** post disc completed, found 88446 segments from 44223 clusters ***\n",
      "*** Coverage: 0.0950, NED: 0.37\n",
      "trial 4 th:0.67205 cov:0.09500 err:-0.00500\n",
      " === Experiment completed in 5.0m 15.1seconds ===\n",
      "knn_A_c3_right_a4_dim_fix10_emb_typegauss_kernel_k100_lmax28_lmin4_metricL2_olapthr_m0.25_pca_r0.01_s0.01_seg_typeuniform_normTrue_top_delta0.005_use_gpuTrue\n",
      "0.01\n",
      "Building index of size 386876x610\n",
      "*** found 78547 matches ***\n",
      "*** pairwise clustering ***\n",
      "*** post disc completed, found 1360 segments from 680 clusters ***\n",
      "*** Coverage: 0.0047, NED: 0.25\n",
      "trial 0 th:0.01000 cov:0.00470 err:-0.09530\n",
      "0.1702127659574468\n",
      "*** Matches already discovered !!! ***\n",
      "*** found 78547 matches ***\n",
      "*** pairwise clustering ***\n",
      "*** post disc completed, found 18016 segments from 9008 clusters ***\n",
      "*** Coverage: 0.0254, NED: 0.25\n",
      "trial 1 th:0.17021 cov:0.02540 err:-0.07460\n",
      "0.6000783225408574\n",
      "*** Matches already discovered !!! ***\n",
      "*** found 78547 matches ***\n",
      "*** pairwise clustering ***\n",
      "*** post disc completed, found 73796 segments from 36898 clusters ***\n",
      "*** Coverage: 0.0769, NED: 0.29\n",
      "trial 2 th:0.60008 cov:0.07690 err:-0.02310\n",
      "0.6683559973535234\n",
      "*** Matches already discovered !!! ***\n",
      "*** found 78547 matches ***\n",
      "*** pairwise clustering ***\n",
      "*** post disc completed, found 83678 segments from 41839 clusters ***\n",
      "*** Coverage: 0.0887, NED: 0.31\n",
      "trial 3 th:0.66836 cov:0.08870 err:-0.01130\n",
      "0.7070081047898461\n",
      "*** Matches already discovered !!! ***\n",
      "*** found 78547 matches ***\n",
      "*** pairwise clustering ***\n",
      "*** post disc completed, found 89286 segments from 44643 clusters ***\n",
      "*** Coverage: 0.0964, NED: 0.32\n",
      "trial 4 th:0.70701 cov:0.09640 err:-0.00360\n",
      " === Experiment completed in 5.0m 19.3seconds ===\n"
     ]
    },
    {
     "name": "stderr",
     "output_type": "stream",
     "text": [
      "/home/korhan/miniconda3/envs/tez/lib/python3.6/site-packages/skopt/optimizer/optimizer.py:409: UserWarning: The objective has been evaluated at this point before.\n",
      "  warnings.warn(\"The objective has been evaluated \"\n"
     ]
    },
    {
     "name": "stdout",
     "output_type": "stream",
     "text": [
      "knn_A_c3_right_a4_dim_fix10_emb_typegauss_kernel_k100_lmax28_lmin4_metricL2_olapthr_m0.25_pca_r0.01_s0.01_seg_typeuniform_normTrue_top_delta0.005_use_gpuTrue\n",
      "0.01\n",
      "*** Matches already discovered !!! ***\n",
      "*** found 78547 matches ***\n",
      "*** post disc completed, found 1360 segments from 680 clusters ***\n",
      "*** Coverage: 0.0047, NED: 0.25\n",
      "trial 0 th:0.01000 cov:0.00470 err:-0.09530\n",
      "0.1702127659574468\n",
      "*** Matches already discovered !!! ***\n",
      "*** found 78547 matches ***\n",
      "*** post disc completed, found 18016 segments from 9008 clusters ***\n",
      "*** Coverage: 0.0254, NED: 0.25\n",
      "trial 1 th:0.17021 cov:0.02540 err:-0.07460\n",
      "0.6000783225408574\n",
      "*** Matches already discovered !!! ***\n",
      "*** found 78547 matches ***\n",
      "*** post disc completed, found 73796 segments from 36898 clusters ***\n",
      "*** Coverage: 0.0769, NED: 0.29\n",
      "trial 2 th:0.60008 cov:0.07690 err:-0.02310\n",
      "0.6683559973535234\n",
      "*** Matches already discovered !!! ***\n",
      "*** found 78547 matches ***\n",
      "*** post disc completed, found 83678 segments from 41839 clusters ***\n",
      "*** Coverage: 0.0887, NED: 0.31\n",
      "trial 3 th:0.66836 cov:0.08870 err:-0.01130\n",
      "0.7070081047898461\n",
      "*** Matches already discovered !!! ***\n",
      "*** found 78547 matches ***\n",
      "*** post disc completed, found 89286 segments from 44643 clusters ***\n",
      "*** Coverage: 0.0964, NED: 0.32\n",
      "trial 4 th:0.70701 cov:0.09640 err:-0.00360\n",
      " === Experiment completed in 0.0m 58.9seconds ===\n",
      "knn_A_c3_right_a4_dim_fix10_emb_typegauss_kernel_k100_lmax28_lmin4_metricL2_olapthr_m0.25_pcaPCA40_r0.6330908555950597_s0.01_seg_typeuniform_normTrue_top_delta0.005_use_gpuTrue\n",
      "0.01\n",
      "Building index of size 386876x610\n",
      "*** found 8632 matches ***\n",
      "*** pairwise clustering ***\n",
      "*** post disc completed, found 172 segments from 86 clusters ***\n",
      "*** Coverage: 0.0022, NED: nan\n",
      "trial 0 th:0.01000 cov:0.00220 err:-0.09780\n",
      "0.36363636363636365\n",
      "*** Matches already discovered !!! ***\n",
      "*** found 8632 matches ***\n",
      "*** pairwise clustering ***\n",
      "*** post disc completed, found 5196 segments from 2598 clusters ***\n",
      "*** Coverage: 0.0641, NED: 0.62\n",
      "trial 1 th:0.36364 cov:0.06410 err:-0.03590\n",
      "0.45698722279336174\n",
      "*** Matches already discovered !!! ***\n",
      "*** found 8632 matches ***\n",
      "*** pairwise clustering ***\n",
      "*** post disc completed, found 6518 segments from 3259 clusters ***\n",
      "*** Coverage: 0.0773, NED: 0.61\n",
      "trial 2 th:0.45699 cov:0.07730 err:-0.02270\n",
      "0.566745202650681\n",
      "*** Matches already discovered !!! ***\n",
      "*** found 8632 matches ***\n",
      "*** pairwise clustering ***\n",
      "*** post disc completed, found 8038 segments from 4019 clusters ***\n",
      "*** Coverage: 0.0898, NED: 0.61\n",
      "trial 3 th:0.56675 cov:0.08980 err:-0.01020\n",
      "0.616443615930075\n",
      "*** Matches already discovered !!! ***\n",
      "*** found 8632 matches ***\n",
      "*** pairwise clustering ***\n",
      "*** post disc completed, found 8766 segments from 4383 clusters ***\n",
      "*** Coverage: 0.0955, NED: 0.60\n",
      "trial 4 th:0.61644 cov:0.09550 err:-0.00450\n",
      " === Experiment completed in 0.0m 57.3seconds ===\n"
     ]
    },
    {
     "name": "stderr",
     "output_type": "stream",
     "text": [
      "/home/korhan/miniconda3/envs/tez/lib/python3.6/site-packages/skopt/optimizer/optimizer.py:409: UserWarning: The objective has been evaluated at this point before.\n",
      "  warnings.warn(\"The objective has been evaluated \"\n"
     ]
    },
    {
     "name": "stdout",
     "output_type": "stream",
     "text": [
      "knn_A_c3_right_a4_dim_fix10_emb_typegauss_kernel_k100_lmax28_lmin4_metricL2_olapthr_m0.25_pca_r0.01_s0.01_seg_typeuniform_normTrue_top_delta0.005_use_gpuTrue\n",
      "0.01\n",
      "*** Matches already discovered !!! ***\n",
      "*** found 78547 matches ***\n",
      "*** post disc completed, found 1360 segments from 680 clusters ***\n",
      "*** Coverage: 0.0047, NED: 0.25\n",
      "trial 0 th:0.01000 cov:0.00470 err:-0.09530\n",
      "0.1702127659574468\n",
      "*** Matches already discovered !!! ***\n",
      "*** found 78547 matches ***\n",
      "*** post disc completed, found 18016 segments from 9008 clusters ***\n",
      "*** Coverage: 0.0254, NED: 0.25\n",
      "trial 1 th:0.17021 cov:0.02540 err:-0.07460\n",
      "0.6000783225408574\n",
      "*** Matches already discovered !!! ***\n",
      "*** found 78547 matches ***\n",
      "*** post disc completed, found 73796 segments from 36898 clusters ***\n",
      "*** Coverage: 0.0769, NED: 0.29\n",
      "trial 2 th:0.60008 cov:0.07690 err:-0.02310\n",
      "0.6683559973535234\n",
      "*** Matches already discovered !!! ***\n",
      "*** found 78547 matches ***\n",
      "*** post disc completed, found 83678 segments from 41839 clusters ***\n",
      "*** Coverage: 0.0887, NED: 0.31\n",
      "trial 3 th:0.66836 cov:0.08870 err:-0.01130\n",
      "0.7070081047898461\n",
      "*** Matches already discovered !!! ***\n",
      "*** found 78547 matches ***\n",
      "*** post disc completed, found 89286 segments from 44643 clusters ***\n",
      "*** Coverage: 0.0964, NED: 0.32\n",
      "trial 4 th:0.70701 cov:0.09640 err:-0.00360\n",
      " === Experiment completed in 1.0m 0.3seconds ===\n"
     ]
    },
    {
     "name": "stderr",
     "output_type": "stream",
     "text": [
      "/home/korhan/miniconda3/envs/tez/lib/python3.6/site-packages/skopt/optimizer/optimizer.py:409: UserWarning: The objective has been evaluated at this point before.\n",
      "  warnings.warn(\"The objective has been evaluated \"\n"
     ]
    },
    {
     "name": "stdout",
     "output_type": "stream",
     "text": [
      "knn_A_c3_right_a4_dim_fix10_emb_typegauss_kernel_k100_lmax28_lmin4_metricL2_olapthr_m0.25_pca_r0.01_s0.01_seg_typeuniform_normTrue_top_delta0.005_use_gpuTrue\n",
      "0.01\n",
      "*** Matches already discovered !!! ***\n",
      "*** found 78547 matches ***\n",
      "*** post disc completed, found 1360 segments from 680 clusters ***\n",
      "*** Coverage: 0.0047, NED: 0.25\n",
      "trial 0 th:0.01000 cov:0.00470 err:-0.09530\n",
      "0.1702127659574468\n",
      "*** Matches already discovered !!! ***\n",
      "*** found 78547 matches ***\n",
      "*** post disc completed, found 18016 segments from 9008 clusters ***\n",
      "*** Coverage: 0.0254, NED: 0.25\n",
      "trial 1 th:0.17021 cov:0.02540 err:-0.07460\n",
      "0.6000783225408574\n",
      "*** Matches already discovered !!! ***\n",
      "*** found 78547 matches ***\n",
      "*** post disc completed, found 73796 segments from 36898 clusters ***\n",
      "*** Coverage: 0.0769, NED: 0.29\n",
      "trial 2 th:0.60008 cov:0.07690 err:-0.02310\n",
      "0.6683559973535234\n",
      "*** Matches already discovered !!! ***\n",
      "*** found 78547 matches ***\n",
      "*** post disc completed, found 83678 segments from 41839 clusters ***\n",
      "*** Coverage: 0.0887, NED: 0.31\n",
      "trial 3 th:0.66836 cov:0.08870 err:-0.01130\n",
      "0.7070081047898461\n",
      "*** Matches already discovered !!! ***\n",
      "*** found 78547 matches ***\n",
      "*** post disc completed, found 89286 segments from 44643 clusters ***\n",
      "*** Coverage: 0.0964, NED: 0.32\n",
      "trial 4 th:0.70701 cov:0.09640 err:-0.00360\n",
      " === Experiment completed in 1.0m 0.5seconds ===\n",
      "knn_A_c3_right_a4_dim_fix10_emb_typegauss_kernel_k100_lmax28_lmin4_metricL2_olapthr_m0.25_pcaPCAW40_r0.9640447334139697_s1.2695295039667418_seg_typeuniform_normTrue_top_delta0.007173426557179386_use_gpuTrue\n",
      "0.01\n",
      "Building index of size 386876x610\n",
      "*** found 1383 matches ***\n",
      "*** pairwise clustering ***\n",
      "*** post disc completed, found 28 segments from 14 clusters ***\n",
      "*** Coverage: 0.0004, NED: nan\n",
      "trial 0 th:0.01000 cov:0.00040 err:-0.09960\n",
      "0.99\n",
      "*** Matches already discovered !!! ***\n",
      "*** found 1383 matches ***\n",
      "*** pairwise clustering ***\n",
      "*** post disc completed, found 2618 segments from 1309 clusters ***\n",
      "*** Coverage: 0.0361, NED: 0.34\n",
      "trial 1 th:0.99000 cov:0.03610 err:-0.06390\n",
      " === Experiment completed in 0.0m 30.9seconds ===\n",
      "knn_A_c3_right_a4_dim_fix10_emb_typegauss_kernel_k100_lmax28_lmin4_metricL2_olapthr_m0.25_pca_r0.3769208694365732_s0.01_seg_typeuniform_normTrue_top_delta0.005_use_gpuTrue\n",
      "0.01\n",
      "Building index of size 386876x610\n",
      "*** found 7903 matches ***\n",
      "*** pairwise clustering ***\n",
      "*** post disc completed, found 158 segments from 79 clusters ***\n",
      "*** Coverage: 0.0016, NED: nan\n",
      "trial 0 th:0.01000 cov:0.00160 err:-0.09840\n",
      "0.5\n",
      "*** Matches already discovered !!! ***\n",
      "*** found 7903 matches ***\n",
      "*** pairwise clustering ***\n",
      "*** post disc completed, found 6478 segments from 3239 clusters ***\n",
      "*** Coverage: 0.0670, NED: 0.50\n",
      "trial 1 th:0.50000 cov:0.06700 err:-0.03300\n",
      "0.5997981651376147\n",
      "*** Matches already discovered !!! ***\n",
      "*** found 7903 matches ***\n",
      "*** pairwise clustering ***\n",
      "*** post disc completed, found 7792 segments from 3896 clusters ***\n",
      "*** Coverage: 0.0753, NED: 0.48\n",
      "trial 2 th:0.59980 cov:0.07530 err:-0.02470\n",
      "0.8174303083895216\n",
      "*** Matches already discovered !!! ***\n",
      "*** found 7903 matches ***\n",
      "*** pairwise clustering ***\n",
      "*** post disc completed, found 10856 segments from 5428 clusters ***\n",
      "*** Coverage: 0.0963, NED: 0.47\n",
      "trial 3 th:0.81743 cov:0.09630 err:-0.00370\n",
      " === Experiment completed in 1.0m 16.1seconds ===\n",
      "knn_A_c3_right_a4_dim_fix10_emb_typegauss_kernel_k100_lmax28_lmin4_metricL2_olapthr_m0.25_pca_r0.10885538828937646_s0.01_seg_typeuniform_normTrue_top_delta0.005_use_gpuTrue\n",
      "0.01\n",
      "Building index of size 386876x610\n",
      "*** found 29647 matches ***\n",
      "*** pairwise clustering ***\n",
      "*** post disc completed, found 576 segments from 288 clusters ***\n",
      "*** Coverage: 0.0045, NED: 0.10\n",
      "trial 0 th:0.01000 cov:0.00450 err:-0.09550\n",
      "0.1777777777777778\n",
      "*** Matches already discovered !!! ***\n",
      "*** found 29647 matches ***\n",
      "*** pairwise clustering ***\n",
      "*** post disc completed, found 7612 segments from 3806 clusters ***\n",
      "*** Coverage: 0.0385, NED: 0.33\n",
      "trial 1 th:0.17778 cov:0.03850 err:-0.06150\n",
      "0.3870065359477125\n",
      "*** Matches already discovered !!! ***\n",
      "*** found 29647 matches ***\n",
      "*** pairwise clustering ***\n",
      "*** post disc completed, found 16878 segments from 8439 clusters ***\n",
      "*** Coverage: 0.0643, NED: 0.35\n",
      "trial 2 th:0.38701 cov:0.06430 err:-0.03570\n",
      "0.5767721538227697\n",
      "*** Matches already discovered !!! ***\n",
      "*** found 29647 matches ***\n",
      "*** pairwise clustering ***\n",
      "*** post disc completed, found 26188 segments from 13094 clusters ***\n",
      "*** Coverage: 0.0880, NED: 0.36\n",
      "trial 3 th:0.57677 cov:0.08800 err:-0.01200\n",
      "0.6156861159693005\n",
      "*** Matches already discovered !!! ***\n",
      "*** found 29647 matches ***\n",
      "*** pairwise clustering ***\n",
      "*** post disc completed, found 28248 segments from 14124 clusters ***\n",
      "*** Coverage: 0.0924, NED: 0.36\n",
      "trial 4 th:0.61569 cov:0.09240 err:-0.00760\n",
      " === Experiment completed in 1.0m 48.9seconds ===\n"
     ]
    },
    {
     "name": "stderr",
     "output_type": "stream",
     "text": [
      "/home/korhan/miniconda3/envs/tez/lib/python3.6/site-packages/skopt/optimizer/optimizer.py:409: UserWarning: The objective has been evaluated at this point before.\n",
      "  warnings.warn(\"The objective has been evaluated \"\n"
     ]
    },
    {
     "name": "stdout",
     "output_type": "stream",
     "text": [
      "knn_A_c3_right_a4_dim_fix10_emb_typegauss_kernel_k100_lmax28_lmin4_metricL2_olapthr_m0.25_pca_r0.01_s0.01_seg_typeuniform_normTrue_top_delta0.005000000000000014_use_gpuTrue\n",
      "0.01\n",
      "Building index of size 386876x610\n",
      "*** found 78547 matches ***\n",
      "*** pairwise clustering ***\n",
      "*** post disc completed, found 1360 segments from 680 clusters ***\n",
      "*** Coverage: 0.0047, NED: 0.25\n",
      "trial 0 th:0.01000 cov:0.00470 err:-0.09530\n",
      "0.1702127659574468\n",
      "*** Matches already discovered !!! ***\n",
      "*** found 78547 matches ***\n",
      "*** pairwise clustering ***\n",
      "*** post disc completed, found 18016 segments from 9008 clusters ***\n",
      "*** Coverage: 0.0254, NED: 0.25\n",
      "trial 1 th:0.17021 cov:0.02540 err:-0.07460\n",
      "0.6000783225408574\n",
      "*** Matches already discovered !!! ***\n",
      "*** found 78547 matches ***\n",
      "*** pairwise clustering ***\n",
      "*** post disc completed, found 73796 segments from 36898 clusters ***\n",
      "*** Coverage: 0.0769, NED: 0.29\n",
      "trial 2 th:0.60008 cov:0.07690 err:-0.02310\n",
      "0.6683559973535234\n",
      "*** Matches already discovered !!! ***\n",
      "*** found 78547 matches ***\n",
      "*** pairwise clustering ***\n",
      "*** post disc completed, found 83678 segments from 41839 clusters ***\n",
      "*** Coverage: 0.0887, NED: 0.31\n",
      "trial 3 th:0.66836 cov:0.08870 err:-0.01130\n",
      "0.7070081047898461\n",
      "*** Matches already discovered !!! ***\n",
      "*** found 78547 matches ***\n",
      "*** pairwise clustering ***\n",
      "*** post disc completed, found 89286 segments from 44643 clusters ***\n",
      "*** Coverage: 0.0964, NED: 0.32\n",
      "trial 4 th:0.70701 cov:0.09640 err:-0.00360\n",
      " === Experiment completed in 5.0m 16.3seconds ===\n"
     ]
    }
   ],
   "source": [
    "name = '{}/gp_c3right'.format(params['disc_method'])\n",
    "checkpoint_saver = CheckpointSaver(\"../../Desktop/tez/checkpoints/{}.pkl\".format(name), compress=9)\n",
    "stopper = DeltaYStopper(0.01, 5)\n",
    "timer = TimerCallback()\n",
    "\n",
    "res = gp_minimize(objective, SPACE, n_calls=30, x0=x0, random_state=1, n_random_starts=5,\n",
    "                  callback=[checkpoint_saver, stopper, timer])"
   ]
  },
  {
   "cell_type": "code",
   "execution_count": null,
   "metadata": {},
   "outputs": [],
   "source": []
  },
  {
   "cell_type": "code",
   "execution_count": null,
   "metadata": {},
   "outputs": [],
   "source": []
  },
  {
   "cell_type": "code",
   "execution_count": 41,
   "metadata": {},
   "outputs": [],
   "source": [
    "import glob\n",
    "\n",
    "saved = glob.glob('../../Desktop/tez/checkpoints/knn/*c3right.pkl')\n",
    "\n",
    "results = dict()\n",
    "for file in saved:\n",
    "    name = file.split('/')[-1].split('_')[0]\n",
    "    results[name] = skopt.load(file)\n",
    "    "
   ]
  },
  {
   "cell_type": "code",
   "execution_count": 42,
   "metadata": {},
   "outputs": [
    {
     "data": {
      "text/plain": [
       "dict_keys(['gbrt', 'gbrt2', 'dummy', 'gp', 'rf'])"
      ]
     },
     "execution_count": 42,
     "metadata": {},
     "output_type": "execute_result"
    }
   ],
   "source": [
    "results.keys()"
   ]
  },
  {
   "cell_type": "code",
   "execution_count": 44,
   "metadata": {
    "scrolled": true
   },
   "outputs": [
    {
     "data": {
      "text/plain": [
       "          fun: 0.3541\n",
       "    func_vals: array([0.5524, 0.4684, 0.4775, 1.    , 1.    , 0.6697, 0.516 , 0.574 ,\n",
       "       0.3541, 0.477 , 0.4768, 0.4774, 0.4764, 0.4749, 0.4721, 0.466 ,\n",
       "       0.4393, 0.443 , 1.    , 1.    ])\n",
       "       models: [RandomForestRegressor(bootstrap=True, criterion='mse', max_depth=None,\n",
       "                      max_features='auto', max_leaf_nodes=None,\n",
       "                      min_impurity_decrease=0.0, min_samples_leaf=3,\n",
       "                      min_samples_split=2, min_variance=0.0,\n",
       "                      min_weight_fraction_leaf=0.0, n_estimators=100, n_jobs=1,\n",
       "                      oob_score=False, random_state=1872583848, verbose=0,\n",
       "                      warm_start=False), RandomForestRegressor(bootstrap=True, criterion='mse', max_depth=None,\n",
       "                      max_features='auto', max_leaf_nodes=None,\n",
       "                      min_impurity_decrease=0.0, min_samples_leaf=3,\n",
       "                      min_samples_split=2, min_variance=0.0,\n",
       "                      min_weight_fraction_leaf=0.0, n_estimators=100, n_jobs=1,\n",
       "                      oob_score=False, random_state=1872583848, verbose=0,\n",
       "                      warm_start=False), RandomForestRegressor(bootstrap=True, criterion='mse', max_depth=None,\n",
       "                      max_features='auto', max_leaf_nodes=None,\n",
       "                      min_impurity_decrease=0.0, min_samples_leaf=3,\n",
       "                      min_samples_split=2, min_variance=0.0,\n",
       "                      min_weight_fraction_leaf=0.0, n_estimators=100, n_jobs=1,\n",
       "                      oob_score=False, random_state=1872583848, verbose=0,\n",
       "                      warm_start=False), RandomForestRegressor(bootstrap=True, criterion='mse', max_depth=None,\n",
       "                      max_features='auto', max_leaf_nodes=None,\n",
       "                      min_impurity_decrease=0.0, min_samples_leaf=3,\n",
       "                      min_samples_split=2, min_variance=0.0,\n",
       "                      min_weight_fraction_leaf=0.0, n_estimators=100, n_jobs=1,\n",
       "                      oob_score=False, random_state=1872583848, verbose=0,\n",
       "                      warm_start=False), RandomForestRegressor(bootstrap=True, criterion='mse', max_depth=None,\n",
       "                      max_features='auto', max_leaf_nodes=None,\n",
       "                      min_impurity_decrease=0.0, min_samples_leaf=3,\n",
       "                      min_samples_split=2, min_variance=0.0,\n",
       "                      min_weight_fraction_leaf=0.0, n_estimators=100, n_jobs=1,\n",
       "                      oob_score=False, random_state=1872583848, verbose=0,\n",
       "                      warm_start=False), RandomForestRegressor(bootstrap=True, criterion='mse', max_depth=None,\n",
       "                      max_features='auto', max_leaf_nodes=None,\n",
       "                      min_impurity_decrease=0.0, min_samples_leaf=3,\n",
       "                      min_samples_split=2, min_variance=0.0,\n",
       "                      min_weight_fraction_leaf=0.0, n_estimators=100, n_jobs=1,\n",
       "                      oob_score=False, random_state=1872583848, verbose=0,\n",
       "                      warm_start=False), RandomForestRegressor(bootstrap=True, criterion='mse', max_depth=None,\n",
       "                      max_features='auto', max_leaf_nodes=None,\n",
       "                      min_impurity_decrease=0.0, min_samples_leaf=3,\n",
       "                      min_samples_split=2, min_variance=0.0,\n",
       "                      min_weight_fraction_leaf=0.0, n_estimators=100, n_jobs=1,\n",
       "                      oob_score=False, random_state=1872583848, verbose=0,\n",
       "                      warm_start=False), RandomForestRegressor(bootstrap=True, criterion='mse', max_depth=None,\n",
       "                      max_features='auto', max_leaf_nodes=None,\n",
       "                      min_impurity_decrease=0.0, min_samples_leaf=3,\n",
       "                      min_samples_split=2, min_variance=0.0,\n",
       "                      min_weight_fraction_leaf=0.0, n_estimators=100, n_jobs=1,\n",
       "                      oob_score=False, random_state=1872583848, verbose=0,\n",
       "                      warm_start=False), RandomForestRegressor(bootstrap=True, criterion='mse', max_depth=None,\n",
       "                      max_features='auto', max_leaf_nodes=None,\n",
       "                      min_impurity_decrease=0.0, min_samples_leaf=3,\n",
       "                      min_samples_split=2, min_variance=0.0,\n",
       "                      min_weight_fraction_leaf=0.0, n_estimators=100, n_jobs=1,\n",
       "                      oob_score=False, random_state=1872583848, verbose=0,\n",
       "                      warm_start=False), RandomForestRegressor(bootstrap=True, criterion='mse', max_depth=None,\n",
       "                      max_features='auto', max_leaf_nodes=None,\n",
       "                      min_impurity_decrease=0.0, min_samples_leaf=3,\n",
       "                      min_samples_split=2, min_variance=0.0,\n",
       "                      min_weight_fraction_leaf=0.0, n_estimators=100, n_jobs=1,\n",
       "                      oob_score=False, random_state=1872583848, verbose=0,\n",
       "                      warm_start=False), RandomForestRegressor(bootstrap=True, criterion='mse', max_depth=None,\n",
       "                      max_features='auto', max_leaf_nodes=None,\n",
       "                      min_impurity_decrease=0.0, min_samples_leaf=3,\n",
       "                      min_samples_split=2, min_variance=0.0,\n",
       "                      min_weight_fraction_leaf=0.0, n_estimators=100, n_jobs=1,\n",
       "                      oob_score=False, random_state=1872583848, verbose=0,\n",
       "                      warm_start=False), RandomForestRegressor(bootstrap=True, criterion='mse', max_depth=None,\n",
       "                      max_features='auto', max_leaf_nodes=None,\n",
       "                      min_impurity_decrease=0.0, min_samples_leaf=3,\n",
       "                      min_samples_split=2, min_variance=0.0,\n",
       "                      min_weight_fraction_leaf=0.0, n_estimators=100, n_jobs=1,\n",
       "                      oob_score=False, random_state=1872583848, verbose=0,\n",
       "                      warm_start=False), RandomForestRegressor(bootstrap=True, criterion='mse', max_depth=None,\n",
       "                      max_features='auto', max_leaf_nodes=None,\n",
       "                      min_impurity_decrease=0.0, min_samples_leaf=3,\n",
       "                      min_samples_split=2, min_variance=0.0,\n",
       "                      min_weight_fraction_leaf=0.0, n_estimators=100, n_jobs=1,\n",
       "                      oob_score=False, random_state=1872583848, verbose=0,\n",
       "                      warm_start=False), RandomForestRegressor(bootstrap=True, criterion='mse', max_depth=None,\n",
       "                      max_features='auto', max_leaf_nodes=None,\n",
       "                      min_impurity_decrease=0.0, min_samples_leaf=3,\n",
       "                      min_samples_split=2, min_variance=0.0,\n",
       "                      min_weight_fraction_leaf=0.0, n_estimators=100, n_jobs=1,\n",
       "                      oob_score=False, random_state=1872583848, verbose=0,\n",
       "                      warm_start=False), RandomForestRegressor(bootstrap=True, criterion='mse', max_depth=None,\n",
       "                      max_features='auto', max_leaf_nodes=None,\n",
       "                      min_impurity_decrease=0.0, min_samples_leaf=3,\n",
       "                      min_samples_split=2, min_variance=0.0,\n",
       "                      min_weight_fraction_leaf=0.0, n_estimators=100, n_jobs=1,\n",
       "                      oob_score=False, random_state=1872583848, verbose=0,\n",
       "                      warm_start=False), RandomForestRegressor(bootstrap=True, criterion='mse', max_depth=None,\n",
       "                      max_features='auto', max_leaf_nodes=None,\n",
       "                      min_impurity_decrease=0.0, min_samples_leaf=3,\n",
       "                      min_samples_split=2, min_variance=0.0,\n",
       "                      min_weight_fraction_leaf=0.0, n_estimators=100, n_jobs=1,\n",
       "                      oob_score=False, random_state=1872583848, verbose=0,\n",
       "                      warm_start=False), RandomForestRegressor(bootstrap=True, criterion='mse', max_depth=None,\n",
       "                      max_features='auto', max_leaf_nodes=None,\n",
       "                      min_impurity_decrease=0.0, min_samples_leaf=3,\n",
       "                      min_samples_split=2, min_variance=0.0,\n",
       "                      min_weight_fraction_leaf=0.0, n_estimators=100, n_jobs=1,\n",
       "                      oob_score=False, random_state=1872583848, verbose=0,\n",
       "                      warm_start=False)]\n",
       " random_state: <mtrand.RandomState object at 0x7f592d678a20>\n",
       "        space: Space([Real(low=0.0, high=1.5, prior='uniform', transform='identity'),\n",
       "       Real(low=0.0, high=1.5, prior='uniform', transform='identity'),\n",
       "       Categorical(categories=('', 'PCA40', 'PCAW40'), prior=None),\n",
       "       Categorical(categories=(True, False), prior=None)])\n",
       "        specs: {'args': {'model_queue_size': None, 'n_jobs': 1, 'kappa': 1.96, 'xi': 0.01, 'n_restarts_optimizer': 5, 'n_points': 10000, 'callback': [<skopt.callbacks.CheckpointSaver object at 0x7f591e37cf98>, <skopt.callbacks.DeltaYStopper object at 0x7f591e37cfd0>, <skopt.callbacks.TimerCallback object at 0x7f591e34f0b8>], 'verbose': False, 'random_state': 2, 'y0': None, 'x0': [0.2, 0.2, 'PCA40', False], 'acq_optimizer': 'sampling', 'acq_func': 'EI', 'n_random_starts': 3, 'n_calls': 20, 'base_estimator': 'RF', 'dimensions': [Real(low=0.0, high=1.5, prior='uniform', transform='identity'), Real(low=0.0, high=1.5, prior='uniform', transform='identity'), Categorical(categories=('', 'PCA40', 'PCAW40'), prior=None), Categorical(categories=(True, False), prior=None)], 'func': <function objective at 0x7f592fc017b8>}, 'function': 'base_minimize'}\n",
       "            x: [0.0030682178541172615, 0.3007512579941484, 'PCAW40', True]\n",
       "      x_iters: [[0.2, 0.2, 'PCA40', False], [0.27762311725981037, 1.3973112987316678, 'PCAW40', True], [0.480804655667411, 0.2316400096339952, 'PCAW40', True], [0.7277638643997976, 0.9491065959014054, 'PCAW40', False], [0.7478417550799786, 0.31978059664854325, 'PCAW40', False], [1.1873772599099093, 0.6381362744475962, 'PCA40', True], [0.1762330770544139, 0.49236511561315827, '', False], [0.32776413111969616, 0.2457122247480776, 'PCA40', True], [0.0030682178541172615, 0.3007512579941484, 'PCAW40', True], [0.049206783026748364, 1.2540998195447008, 'PCAW40', False], [0.4977881754230431, 0.30174849082376, 'PCAW40', True], [0.4988720444640051, 0.2799463396364098, 'PCAW40', True], [0.4913305715143, 0.4985406544387799, 'PCAW40', True], [0.5531509154744452, 0.2832109215630914, 'PCAW40', True], [0.5828525798404501, 0.29778077237151085, 'PCAW40', True], [0.5431821707447754, 0.49043387938844185, 'PCAW40', True], [0.6143365314788557, 0.3050814254261521, 'PCAW40', True], [0.6262722803656087, 0.29942774393312943, 'PCAW40', True], [0.6156230484660041, 0.36906098860724335, 'PCAW40', False], [0.5914501953607076, 0.3207610116252062, 'PCAW40', False]]"
      ]
     },
     "execution_count": 44,
     "metadata": {},
     "output_type": "execute_result"
    }
   ],
   "source": [
    "results['rf']"
   ]
  },
  {
   "cell_type": "code",
   "execution_count": 34,
   "metadata": {},
   "outputs": [
    {
     "data": {
      "text/plain": [
       "['../../Desktop/tez/checkpoints/knn/gbrt_c3right.pkl',\n",
       " '../../Desktop/tez/checkpoints/knn/dummy_c3right.pkl',\n",
       " '../../Desktop/tez/checkpoints/knn/gp_c3right.pkl',\n",
       " '../../Desktop/tez/checkpoints/knn/rf_c3right.pkl']"
      ]
     },
     "execution_count": 34,
     "metadata": {},
     "output_type": "execute_result"
    }
   ],
   "source": [
    "saved"
   ]
  },
  {
   "cell_type": "code",
   "execution_count": 38,
   "metadata": {
    "scrolled": true
   },
   "outputs": [],
   "source": [
    "def load_if_exists(name):\n",
    "    \n",
    "    chkpoint = '../../Desktop/tez/checkpoints/{}.pkl'.format(name)\n",
    "    \n",
    "    res = skopt.load(chkpoint)\n",
    "    x0 = res.x_iters\n",
    "    y0 = res.func_vals\n",
    "    \n",
    "    return x0, y0\n",
    "    \n",
    "x0, y0 = load_if_exists('knn/gbrt_c3right')"
   ]
  },
  {
   "cell_type": "code",
   "execution_count": 76,
   "metadata": {},
   "outputs": [
    {
     "data": {
      "image/png": "[encoded data removed]",
      "text/plain": [
       "<Figure size 432x288 with 1 Axes>"
      ]
     },
     "metadata": {
      "needs_background": "light"
     },
     "output_type": "display_data"
    }
   ],
   "source": [
    "plot = plot_convergence((\"dummy_minimize\", results['dummy']),\n",
    "                        (\"gp_minimize\", results['gp']),\n",
    "                        (\"forest_minimize('rf')\", results['rf']),\n",
    "#                         (\"grad. boost reg. tree\", results['gbrt2']),\n",
    "                        )"
   ]
  },
  {
   "cell_type": "code",
   "execution_count": 44,
   "metadata": {},
   "outputs": [
    {
     "ename": "NameError",
     "evalue": "name 'gp_res' is not defined",
     "output_type": "error",
     "traceback": [
      "\u001b[0;31m---------------------------------------------------------------------------\u001b[0m",
      "\u001b[0;31mNameError\u001b[0m                                 Traceback (most recent call last)",
      "\u001b[0;32m<ipython-input-44-e4b7f547acec>\u001b[0m in \u001b[0;36m<module>\u001b[0;34m\u001b[0m\n\u001b[1;32m      1\u001b[0m plot = plot_convergence(\n\u001b[0;32m----> 2\u001b[0;31m                         \u001b[0;34m(\u001b[0m\u001b[0;34m\"gp_minimize\"\u001b[0m\u001b[0;34m,\u001b[0m \u001b[0mgp_res\u001b[0m\u001b[0;34m)\u001b[0m\u001b[0;34m,\u001b[0m\u001b[0;34m\u001b[0m\u001b[0;34m\u001b[0m\u001b[0m\n\u001b[0m\u001b[1;32m      3\u001b[0m                         \u001b[0;34m(\u001b[0m\u001b[0;34m\"forest_minimize('rf')\"\u001b[0m\u001b[0;34m,\u001b[0m \u001b[0mrf_res\u001b[0m\u001b[0;34m)\u001b[0m\u001b[0;34m,\u001b[0m\u001b[0;34m\u001b[0m\u001b[0;34m\u001b[0m\u001b[0m\n\u001b[1;32m      4\u001b[0m \u001b[0;31m#                         (\"grad. boost reg. tree\", gbrt_res),\u001b[0m\u001b[0;34m\u001b[0m\u001b[0;34m\u001b[0m\u001b[0;34m\u001b[0m\u001b[0m\n\u001b[1;32m      5\u001b[0m                         )\n",
      "\u001b[0;31mNameError\u001b[0m: name 'gp_res' is not defined"
     ]
    }
   ],
   "source": [
    "plot = plot_convergence(\n",
    "                        (\"gp_minimize\", gp_res),\n",
    "                        (\"forest_minimize('rf')\", rf_res),\n",
    "                        (\"grad. boost reg. tree\", gbrt_res),\n",
    "                        )"
   ]
  },
  {
   "cell_type": "code",
   "execution_count": 15,
   "metadata": {},
   "outputs": [
    {
     "data": {
      "text/plain": [
       "array([[<matplotlib.axes._subplots.AxesSubplot object at 0x7f69eb10e860>,\n",
       "        <matplotlib.axes._subplots.AxesSubplot object at 0x7f6a8474ef98>,\n",
       "        <matplotlib.axes._subplots.AxesSubplot object at 0x7f6a8490c8d0>,\n",
       "        <matplotlib.axes._subplots.AxesSubplot object at 0x7f6a83dbbf28>,\n",
       "        <matplotlib.axes._subplots.AxesSubplot object at 0x7f6a83ebce80>],\n",
       "       [<matplotlib.axes._subplots.AxesSubplot object at 0x7f6a8484a780>,\n",
       "        <matplotlib.axes._subplots.AxesSubplot object at 0x7f69e4e784e0>,\n",
       "        <matplotlib.axes._subplots.AxesSubplot object at 0x7f6a8476b240>,\n",
       "        <matplotlib.axes._subplots.AxesSubplot object at 0x7f6a846e37f0>,\n",
       "        <matplotlib.axes._subplots.AxesSubplot object at 0x7f6a83eaed68>],\n",
       "       [<matplotlib.axes._subplots.AxesSubplot object at 0x7f6a84b61320>,\n",
       "        <matplotlib.axes._subplots.AxesSubplot object at 0x7f6a84b67898>,\n",
       "        <matplotlib.axes._subplots.AxesSubplot object at 0x7f6a8484ee10>,\n",
       "        <matplotlib.axes._subplots.AxesSubplot object at 0x7f6a84bbf3c8>,\n",
       "        <matplotlib.axes._subplots.AxesSubplot object at 0x7f69e97d2940>],\n",
       "       [<matplotlib.axes._subplots.AxesSubplot object at 0x7f69e4df7eb8>,\n",
       "        <matplotlib.axes._subplots.AxesSubplot object at 0x7f69ea666470>,\n",
       "        <matplotlib.axes._subplots.AxesSubplot object at 0x7f69ea66b9e8>,\n",
       "        <matplotlib.axes._subplots.AxesSubplot object at 0x7f69eb270f60>,\n",
       "        <matplotlib.axes._subplots.AxesSubplot object at 0x7f69e4e46518>],\n",
       "       [<matplotlib.axes._subplots.AxesSubplot object at 0x7f69e4e62a90>,\n",
       "        <matplotlib.axes._subplots.AxesSubplot object at 0x7f69e9ec5048>,\n",
       "        <matplotlib.axes._subplots.AxesSubplot object at 0x7f69ea6d15c0>,\n",
       "        <matplotlib.axes._subplots.AxesSubplot object at 0x7f69ea4a8b38>,\n",
       "        <matplotlib.axes._subplots.AxesSubplot object at 0x7f69ea4b00f0>]],\n",
       "      dtype=object)"
      ]
     },
     "execution_count": 15,
     "metadata": {},
     "output_type": "execute_result"
    },
    {
     "data": {
      "image/png": "[encoded data removed]",
      "text/plain": [
       "<Figure size 720x720 with 25 Axes>"
      ]
     },
     "metadata": {
      "needs_background": "light"
     },
     "output_type": "display_data"
    }
   ],
   "source": [
    "plot_evaluations(res)"
   ]
  },
  {
   "cell_type": "code",
   "execution_count": 78,
   "metadata": {},
   "outputs": [
    {
     "data": {
      "text/plain": [
       "array([[<matplotlib.axes._subplots.AxesSubplot object at 0x7f591e5ac3c8>,\n",
       "        <matplotlib.axes._subplots.AxesSubplot object at 0x7f591e5bc2b0>,\n",
       "        <matplotlib.axes._subplots.AxesSubplot object at 0x7f591d3b85c0>,\n",
       "        <matplotlib.axes._subplots.AxesSubplot object at 0x7f591d3957f0>],\n",
       "       [<matplotlib.axes._subplots.AxesSubplot object at 0x7f591cf8da20>,\n",
       "        <matplotlib.axes._subplots.AxesSubplot object at 0x7f591eed2fd0>,\n",
       "        <matplotlib.axes._subplots.AxesSubplot object at 0x7f591cfaed30>,\n",
       "        <matplotlib.axes._subplots.AxesSubplot object at 0x7f591e308f28>],\n",
       "       [<matplotlib.axes._subplots.AxesSubplot object at 0x7f591d6891d0>,\n",
       "        <matplotlib.axes._subplots.AxesSubplot object at 0x7f591d681400>,\n",
       "        <matplotlib.axes._subplots.AxesSubplot object at 0x7f591bd08630>,\n",
       "        <matplotlib.axes._subplots.AxesSubplot object at 0x7f591daf8860>],\n",
       "       [<matplotlib.axes._subplots.AxesSubplot object at 0x7f591dadda90>,\n",
       "        <matplotlib.axes._subplots.AxesSubplot object at 0x7f591cb36cc0>,\n",
       "        <matplotlib.axes._subplots.AxesSubplot object at 0x7f591cb34ef0>,\n",
       "        <matplotlib.axes._subplots.AxesSubplot object at 0x7f591d6dc160>]],\n",
       "      dtype=object)"
      ]
     },
     "execution_count": 78,
     "metadata": {},
     "output_type": "execute_result"
    },
    {
     "data": {
      "image/png": "[encoded data removed]",
      "text/plain": [
       "<Figure size 576x576 with 16 Axes>"
      ]
     },
     "metadata": {
      "needs_background": "light"
     },
     "output_type": "display_data"
    }
   ],
   "source": [
    "plot_objective(results['gp'], sample_source='result')"
   ]
  },
  {
   "cell_type": "code",
   "execution_count": 77,
   "metadata": {},
   "outputs": [
    {
     "ename": "AttributeError",
     "evalue": "'list' object has no attribute 'space'",
     "output_type": "error",
     "traceback": [
      "\u001b[0;31m---------------------------------------------------------------------------\u001b[0m",
      "\u001b[0;31mAttributeError\u001b[0m                            Traceback (most recent call last)",
      "\u001b[0;32m<ipython-input-77-5dc52871c50f>\u001b[0m in \u001b[0;36m<module>\u001b[0;34m\u001b[0m\n\u001b[0;32m----> 1\u001b[0;31m \u001b[0mplot_objective\u001b[0m\u001b[0;34m(\u001b[0m\u001b[0mgp_res\u001b[0m\u001b[0;34m)\u001b[0m\u001b[0;34m\u001b[0m\u001b[0;34m\u001b[0m\u001b[0m\n\u001b[0m",
      "\u001b[0;32m~/miniconda3/envs/tez/lib/python3.6/site-packages/skopt/plots.py\u001b[0m in \u001b[0;36mplot_objective\u001b[0;34m(result, levels, n_points, n_samples, size, zscale, dimensions, sample_source, minimum, n_minimum_search)\u001b[0m\n\u001b[1;32m    505\u001b[0m     \u001b[0;31m# calculating dependence. (Unless partial\u001b[0m\u001b[0;34m\u001b[0m\u001b[0;34m\u001b[0m\u001b[0;34m\u001b[0m\u001b[0m\n\u001b[1;32m    506\u001b[0m     \u001b[0;31m# dependence is to be used instead).\u001b[0m\u001b[0;34m\u001b[0m\u001b[0;34m\u001b[0m\u001b[0;34m\u001b[0m\u001b[0m\n\u001b[0;32m--> 507\u001b[0;31m     \u001b[0mspace\u001b[0m \u001b[0;34m=\u001b[0m \u001b[0mresult\u001b[0m\u001b[0;34m.\u001b[0m\u001b[0mspace\u001b[0m\u001b[0;34m\u001b[0m\u001b[0;34m\u001b[0m\u001b[0m\n\u001b[0m\u001b[1;32m    508\u001b[0m     \u001b[0;32mif\u001b[0m \u001b[0mspace\u001b[0m\u001b[0;34m.\u001b[0m\u001b[0mn_dims\u001b[0m \u001b[0;34m==\u001b[0m \u001b[0;36m1\u001b[0m\u001b[0;34m:\u001b[0m\u001b[0;34m\u001b[0m\u001b[0;34m\u001b[0m\u001b[0m\n\u001b[1;32m    509\u001b[0m         raise ValueError(\"plot_objective needs at least two\"\n",
      "\u001b[0;31mAttributeError\u001b[0m: 'list' object has no attribute 'space'"
     ]
    }
   ],
   "source": [
    "plot_objective(gp_res)"
   ]
  },
  {
   "cell_type": "code",
   "execution_count": 23,
   "metadata": {},
   "outputs": [
    {
     "data": {
      "text/plain": [
       "dict_keys(['x', 'fun', 'func_vals', 'x_iters', 'models', 'space', 'random_state', 'specs'])"
      ]
     },
     "execution_count": 23,
     "metadata": {},
     "output_type": "execute_result"
    }
   ],
   "source": [
    "res.keys()"
   ]
  },
  {
   "cell_type": "code",
   "execution_count": 73,
   "metadata": {},
   "outputs": [
    {
     "name": "stdout",
     "output_type": "stream",
     "text": [
      "[0.11980129286324427, 0.002536660333745278, 'PCAW40', True] 0.3777\n",
      "[0.1126966355119884, 0.024851488002858694, 'PCAW40', True] 0.3687\n",
      "[0.005193716452164877, 0.40035020458546866, '', True] 0.3165\n"
     ]
    },
    {
     "data": {
      "text/plain": [
       "[None, None, None]"
      ]
     },
     "execution_count": 73,
     "metadata": {},
     "output_type": "execute_result"
    }
   ],
   "source": [
    "[print(res.x, res.fun) for res in gbrt_res]"
   ]
  },
  {
   "cell_type": "code",
   "execution_count": 16,
   "metadata": {},
   "outputs": [
    {
     "data": {
      "text/plain": [
       "([0.005, 0.01, 0.01, '', True], 0.3191)"
      ]
     },
     "execution_count": 16,
     "metadata": {},
     "output_type": "execute_result"
    }
   ],
   "source": [
    "res.x, res.fun"
   ]
  },
  {
   "cell_type": "markdown",
   "metadata": {},
   "source": [
    "## the optimizer object"
   ]
  },
  {
   "cell_type": "code",
   "execution_count": 68,
   "metadata": {},
   "outputs": [
    {
     "ename": "SyntaxError",
     "evalue": "can't assign to comparison (<ipython-input-68-1360d22a5f3e>, line 1)",
     "output_type": "error",
     "traceback": [
      "\u001b[0;36m  File \u001b[0;32m\"<ipython-input-68-1360d22a5f3e>\"\u001b[0;36m, line \u001b[0;32m1\u001b[0m\n\u001b[0;31m    'T' in space_def = ['T', 'dx' ]\u001b[0m\n\u001b[0m                                   ^\u001b[0m\n\u001b[0;31mSyntaxError\u001b[0m\u001b[0;31m:\u001b[0m can't assign to comparison\n"
     ]
    }
   ],
   "source": [
    "'T' in space_def = ['T', 'dx' ]"
   ]
  },
  {
   "cell_type": "code",
   "execution_count": 69,
   "metadata": {},
   "outputs": [
    {
     "data": {
      "text/plain": [
       "True"
      ]
     },
     "execution_count": 69,
     "metadata": {},
     "output_type": "execute_result"
    }
   ],
   "source": [
    "'T' in space_def"
   ]
  },
  {
   "cell_type": "code",
   "execution_count": 80,
   "metadata": {},
   "outputs": [
    {
     "data": {
      "text/plain": [
       "[Real(low=0.2, high=0.7, prior='uniform', transform='identity'),\n",
       " Integer(low=3, high=30, prior='uniform', transform='identity')]"
      ]
     },
     "execution_count": 80,
     "metadata": {},
     "output_type": "execute_result"
    }
   ],
   "source": [
    "SPACE = SPACE_ZR\n",
    "\n",
    "[x for x in SPACE if x.name in space_def ]"
   ]
  },
  {
   "cell_type": "code",
   "execution_count": 81,
   "metadata": {},
   "outputs": [
    {
     "data": {
      "text/plain": [
       "['T', 'dx']"
      ]
     },
     "execution_count": 81,
     "metadata": {},
     "output_type": "execute_result"
    }
   ],
   "source": [
    "space_def"
   ]
  },
  {
   "cell_type": "code",
   "execution_count": 46,
   "metadata": {},
   "outputs": [],
   "source": [
    "SPACE_ZR = [\n",
    "           skopt.space.Real(0.2, 0.7, name='T', prior='uniform'),\n",
    "           skopt.space.Real(0.2, 0.7, name='medthr', prior='uniform'),\n",
    "           skopt.space.Integer(3, 30, name='dx',prior='uniform'),\n",
    "           skopt.space.Integer(3, 40, name='D',prior='uniform'),\n",
    "           skopt.space.Integer(3, 40, name='R',prior='uniform'),\n",
    "           skopt.space.Real(0.5, 30.0, name='castthr',prior='uniform'),\n",
    "        ]\n",
    "\n",
    "SPACE_KNN = [ \n",
    "            skopt.space.Integer(20, 200, name='k', prior='uniform'),\n",
    "            skopt.space.Real(0.001, 0.5, name='top_delta', prior='uniform'),\n",
    "           skopt.space.Real(1e-6, 1.5, name='r',prior='uniform', transform='identity'),\n",
    "           skopt.space.Real(1e-6, 1.5, name='s',prior='uniform', transform='identity'),\n",
    "           skopt.space.Categorical(['','PCA40','PCAW40'], name='pca'),\n",
    "           skopt.space.Categorical([True,False], name='norm', ),            \n",
    "        ]\n"
   ]
  },
  {
   "cell_type": "code",
   "execution_count": 54,
   "metadata": {},
   "outputs": [],
   "source": [
    "\n",
    "\n",
    "\n",
    "class TunerSkopt():\n",
    "    def __init__(self, seq_names, feats_dict, params):\n",
    "        \n",
    "        self.chkpoint_root = '/home/korhan/Dropbox/tez/checkpoints/' + params['disc_method']\n",
    "        self.seq_names = seq_names\n",
    "        self.feats_dict = feats_dict\n",
    "        \n",
    "        self.params = params\n",
    "        \n",
    "        self.tune_name = join(self.chkpoint_root, \n",
    "                              '{}_{}_{}'.format(params['tune']['minimizer'], \n",
    "                                                params['CVset'], params['featype'] ))\n",
    "        \n",
    "        self.prepared = False\n",
    "            \n",
    "\n",
    "    def _set_callbacks(self, names=['saver', 'stopper', 'timer', 'verb']):\n",
    "        os.makedirs(self.chkpoint_root, exist_ok=True)\n",
    "                \n",
    "        checkpoint_saver = CheckpointSaver(self.tune_name + '.pkl', compress=9, \n",
    "                                           store_objective=False)\n",
    "        stopper = DeltaYStopper(self.params['tune']['stop_margin'], \n",
    "                                self.params['tune']['stopper_patience'])\n",
    "        timer = TimerCallback()\n",
    "        verb = VerboseCallback(n_total=1)\n",
    "\n",
    "        callbacks = {'saver':checkpoint_saver, 'stopper': stopper, \n",
    "                     'timer': timer, 'verb': verb}\n",
    "        \n",
    "        self.callbacks = [callbacks[x] for x in names]\n",
    "\n",
    "        \n",
    "    def _space_setter(self, space_def=None):\n",
    "        # selects the given keys from pre-defined space\n",
    "        # space_def: list of strings, keys of which params to tune\n",
    "        \n",
    "        space_select = {'zr': SPACE_ZR, 'zr_cat': SPACE_ZR, 'knn': SPACE_KNN}\n",
    "        \n",
    "        if space_def is None:\n",
    "            space_def = self.params['tune']['keys']\n",
    "        \n",
    "        SPACE_0 = space_select[self.params['disc_method']]        \n",
    "        self.SPACE = [x for x in SPACE_0 if x.name in space_def]\n",
    "        \n",
    "        # default params\n",
    "        self.x0 = [self.params['disc'][k] for k in space_def]\n",
    "        \n",
    "    \n",
    "    def _load_checkpoint(self, tune_name=None):\n",
    "\n",
    "        if tune_name is None:\n",
    "            tune_name = self.tune_name\n",
    "        \n",
    "        res = skopt.load(tune_name + '.pkl')\n",
    "        x0 = res.x_iters\n",
    "        y0 = res.func_vals\n",
    "\n",
    "        return x0, y0        \n",
    "\n",
    "   \n",
    "\n",
    "    def prepare(self, load_checkpoint=None, space_def=None):\n",
    "        \n",
    "        self._set_callbacks()\n",
    "        \n",
    "        self._space_setter(space_def)\n",
    "        self.y0 = None\n",
    "        \n",
    "        if load_checkpoint is not None:\n",
    "            if isinstance(load_checkpoint, str):\n",
    "                self.x0, self.y0 = self._load_checkpoint(load_checkpoint)\n",
    "            else:\n",
    "                self.x0, self.y0 = self._load_checkpoint()\n",
    "        \n",
    "        \n",
    "        minimizers = {'rf': forest_minimize, 'gp': gp_minimize, 'gbrt': gbrt_minimize}\n",
    "        \n",
    "        self.minimizer = minimizers[self.params['tune']['minimizer']]\n",
    "        \n",
    "        self.prepared = True\n",
    "\n",
    "        \n",
    "    def run(self, n_calls=20, random_state=42):\n",
    "    \n",
    "        if not self.prepared:\n",
    "            self.prepare()\n",
    "\n",
    "        @skopt.utils.use_named_args(self.SPACE)\n",
    "        def objective(**space_params):\n",
    "\n",
    "            self.params['disc'] = {**self.params['disc'], **space_params}\n",
    "            print(' === Running for new space {} ==='.format(space_params))\n",
    "#                                            [k,v for k,v in space_params.items()]) )\n",
    "\n",
    "            tstart = time.time()\n",
    "\n",
    "            if self.params['tune']['n_split'] > 1:\n",
    "                scores = cv_experiment(self.seq_names, self.feats_dict, \n",
    "                                       self.params, nfold=self.params['tune']['n_split'])\n",
    "            else:\n",
    "                scores = try_run_exp(self.feats_dict, self.params, genname=True)\n",
    "\n",
    "            telapsed = time.time() - tstart\n",
    "            print(' === Experiment completed in {}m {:.1f}seconds ==='.format(\n",
    "                                           int(telapsed//60), telapsed%60 ))\n",
    "\n",
    "            if not isinstance(scores, dict): \n",
    "                return 1.\n",
    "            else:\n",
    "                return scores['ned']\n",
    "        \n",
    "        self.result = self.minimizer(objective, self.SPACE, n_calls=n_calls, \n",
    "                                x0=self.x0, y0=self.y0, \n",
    "                                random_state=random_state, \n",
    "                                callback=self.callbacks)\n",
    "        \n",
    "        return self.result.x, self.result.fun\n",
    "    \n",
    "    \n",
    "    def _plot(self, names=['scores', 'evals', 'partial']):\n",
    "        \n",
    "        if 'scores' in names:\n",
    "            plt.plot(self.result.func_vals)\n",
    "        if 'evals' in names:\n",
    "            plot_evaluations(self.result)\n",
    "        if 'partial' in names:\n",
    "            plot_objective(self.result)\n"
   ]
  },
  {
   "cell_type": "code",
   "execution_count": null,
   "metadata": {},
   "outputs": [],
   "source": []
  },
  {
   "cell_type": "code",
   "execution_count": 55,
   "metadata": {},
   "outputs": [],
   "source": [
    "params['tune'] = dict()\n",
    "params['tune']['keys'] = ['r', 's']\n",
    "params['tune']['minimizer'] = 'gp'\n",
    "params['tune']['n_split'] = 1\n",
    "params['tune']['stop_margin'] = 0.01\n",
    "params['tune']['stopper_patience'] = 5\n",
    "\n",
    "\n",
    "tuner = TunerSkopt(seq_names, feats_dict, params)"
   ]
  },
  {
   "cell_type": "code",
   "execution_count": 56,
   "metadata": {},
   "outputs": [
    {
     "name": "stdout",
     "output_type": "stream",
     "text": [
      "Iteration No: 1 started. Searching for the next optimal point.\n",
      "Iteration No: 1 started. Searching for the next optimal point.\n"
     ]
    }
   ],
   "source": [
    "tuner.prepare()\n",
    "tuner._set_callbacks(['stopper'])"
   ]
  },
  {
   "cell_type": "code",
   "execution_count": 57,
   "metadata": {
    "scrolled": true
   },
   "outputs": [
    {
     "name": "stdout",
     "output_type": "stream",
     "text": [
      " === Running for new space {'r': 0.09543457135303371, 's': 0.12203809662832513} ===\n",
      "knn_A_c3_right_a4_dim_fix10_emb_typegauss_kernel_k100_lmax28_lmin4_metricL2_olapthr_m0.25_pcaPCA40_r0.09543457135303371_s0.12203809662832513_seg_typeuniform_normFalse_top_delta0.02_use_gpuTrue\n",
      "0.06060606060606061\n",
      "*** Matches already discovered !!! ***\n",
      "*** found 118471 matches ***\n",
      "*** post disc completed, found 9966 segments from 4983 clusters ***\n",
      "*** Coverage: 0.0713, NED: 0.50\n",
      "trial 0 th:0.06061 cov:0.07130 err:-0.02870\n",
      "0.06800119002082537\n",
      "*** Matches already discovered !!! ***\n",
      "*** found 118471 matches ***\n",
      "*** post disc completed, found 10996 segments from 5498 clusters ***\n",
      "*** Coverage: 0.0768, NED: 0.50\n",
      "trial 1 th:0.06800 cov:0.07680 err:-0.02320\n",
      "0.0914773644902423\n",
      "*** Matches already discovered !!! ***\n",
      "*** found 118471 matches ***\n",
      "*** post disc completed, found 14310 segments from 7155 clusters ***\n",
      "*** Coverage: 0.0933, NED: 0.52\n",
      "trial 2 th:0.09148 cov:0.09330 err:-0.00670\n",
      " === Experiment completed in 0m 22.7seconds ===\n",
      " === Running for new space {'r': 1.1948146837473628, 's': 0.27515300136445586} ===\n",
      "knn_A_c3_right_a4_dim_fix10_emb_typegauss_kernel_k100_lmax28_lmin4_metricL2_olapthr_m0.25_pcaPCA40_r1.1948146837473628_s0.27515300136445586_seg_typeuniform_normFalse_top_delta0.02_use_gpuTrue\n",
      "0.06060606060606061\n",
      "Building index of size 386876x610\n",
      "*** found 57520 matches ***\n",
      "*** pairwise clustering ***\n",
      "*** post disc completed, found 5484 segments from 2742 clusters ***\n",
      "*** Coverage: 0.0996, NED: 0.66\n",
      "trial 0 th:0.06061 cov:0.09960 err:-0.00040\n",
      " === Experiment completed in 0m 41.5seconds ===\n",
      " === Running for new space {'r': 1.169536720718154, 's': 0.8952756400695728} ===\n",
      "knn_A_c3_right_a4_dim_fix10_emb_typegauss_kernel_k100_lmax28_lmin4_metricL2_olapthr_m0.25_pcaPCA40_r1.169536720718154_s0.8952756400695728_seg_typeuniform_normFalse_top_delta0.02_use_gpuTrue\n",
      "0.06060606060606061\n",
      "Building index of size 386876x610\n",
      "*** found 57531 matches ***\n",
      "*** pairwise clustering ***\n",
      "*** post disc completed, found 5484 segments from 2742 clusters ***\n",
      "*** Coverage: 0.1000, NED: 0.66\n",
      "trial 0 th:0.06061 cov:0.10000 err:0.00000\n",
      " === Experiment completed in 0m 39.4seconds ===\n",
      " === Running for new space {'r': 0.6687496834476341, 's': 0.14996327375208857} ===\n",
      "knn_A_c3_right_a4_dim_fix10_emb_typegauss_kernel_k100_lmax28_lmin4_metricL2_olapthr_m0.25_pcaPCA40_r0.6687496834476341_s0.14996327375208857_seg_typeuniform_normFalse_top_delta0.02_use_gpuTrue\n",
      "0.06060606060606061\n",
      "Building index of size 386876x610\n",
      "*** found 51962 matches ***\n",
      "*** pairwise clustering ***\n",
      "*** post disc completed, found 5094 segments from 2547 clusters ***\n",
      "*** Coverage: 0.0830, NED: 0.64\n",
      "trial 0 th:0.06061 cov:0.08300 err:-0.01700\n",
      "0.0584154801022271\n",
      "*** Matches already discovered !!! ***\n",
      "*** found 51962 matches ***\n",
      "*** pairwise clustering ***\n",
      "*** post disc completed, found 4952 segments from 2476 clusters ***\n",
      "*** Coverage: 0.0799, NED: 0.63\n",
      "trial 1 th:0.05842 cov:0.07990 err:-0.02010\n",
      "0.07021634926803985\n",
      "*** Matches already discovered !!! ***\n",
      "*** found 51962 matches ***\n",
      "*** pairwise clustering ***\n",
      "*** post disc completed, found 5740 segments from 2870 clusters ***\n",
      "*** Coverage: 0.0949, NED: 0.63\n",
      "trial 2 th:0.07022 cov:0.09490 err:-0.00510\n",
      " === Experiment completed in 0m 49.9seconds ===\n",
      " === Running for new space {'r': 0.688873878699909, 's': 0.5005635829999218} ===\n",
      "knn_A_c3_right_a4_dim_fix10_emb_typegauss_kernel_k100_lmax28_lmin4_metricL2_olapthr_m0.25_pcaPCA40_r0.688873878699909_s0.5005635829999218_seg_typeuniform_normFalse_top_delta0.02_use_gpuTrue\n",
      "0.06060606060606061\n",
      "Building index of size 386876x610\n",
      "*** found 53021 matches ***\n",
      "*** pairwise clustering ***\n",
      "*** post disc completed, found 5172 segments from 2586 clusters ***\n",
      "*** Coverage: 0.0843, NED: 0.63\n",
      "trial 0 th:0.06061 cov:0.08430 err:-0.01570\n",
      "0.05751464826197923\n",
      "*** Matches already discovered !!! ***\n",
      "*** found 53021 matches ***\n",
      "*** pairwise clustering ***\n",
      "*** post disc completed, found 4956 segments from 2478 clusters ***\n",
      "*** Coverage: 0.0799, NED: 0.62\n",
      "trial 1 th:0.05751 cov:0.07990 err:-0.02010\n",
      "0.06943063766098381\n",
      "*** Matches already discovered !!! ***\n",
      "*** found 53021 matches ***\n",
      "*** pairwise clustering ***\n",
      "*** post disc completed, found 5768 segments from 2884 clusters ***\n",
      "*** Coverage: 0.0964, NED: 0.63\n",
      "trial 2 th:0.06943 cov:0.09640 err:-0.00360\n",
      " === Experiment completed in 0m 49.5seconds ===\n",
      " === Running for new space {'r': 0.2143010840160933, 's': 0.9763330585348067} ===\n",
      "knn_A_c3_right_a4_dim_fix10_emb_typegauss_kernel_k100_lmax28_lmin4_metricL2_olapthr_m0.25_pcaPCA40_r0.2143010840160933_s0.9763330585348067_seg_typeuniform_normFalse_top_delta0.02_use_gpuTrue\n",
      "0.06060606060606061\n",
      "Building index of size 386876x610\n",
      "*** found 69802 matches ***\n",
      "*** pairwise clustering ***\n",
      "*** post disc completed, found 6526 segments from 3263 clusters ***\n",
      "*** Coverage: 0.0746, NED: 0.58\n",
      "trial 0 th:0.06061 cov:0.07460 err:-0.02540\n",
      "0.06499309448371111\n",
      "*** Matches already discovered !!! ***\n",
      "*** found 69802 matches ***\n",
      "*** pairwise clustering ***\n",
      "*** post disc completed, found 6910 segments from 3455 clusters ***\n",
      "*** Coverage: 0.0795, NED: 0.58\n",
      "trial 1 th:0.06499 cov:0.07950 err:-0.02050\n",
      "0.07879882150276638\n",
      "*** Matches already discovered !!! ***\n",
      "*** found 69802 matches ***\n",
      "*** pairwise clustering ***\n",
      "*** post disc completed, found 8098 segments from 4049 clusters ***\n",
      "*** Coverage: 0.0939, NED: 0.59\n",
      "trial 2 th:0.07880 cov:0.09390 err:-0.00610\n",
      " === Experiment completed in 0m 53.2seconds ===\n",
      " === Running for new space {'r': 0.08461831212907138, 's': 1.082998436401465} ===\n",
      "knn_A_c3_right_a4_dim_fix10_emb_typegauss_kernel_k100_lmax28_lmin4_metricL2_olapthr_m0.25_pcaPCA40_r0.08461831212907138_s1.082998436401465_seg_typeuniform_normFalse_top_delta0.02_use_gpuTrue\n",
      "0.06060606060606061\n",
      "Building index of size 386876x610\n",
      "*** found 116033 matches ***\n",
      "*** pairwise clustering ***\n",
      "*** post disc completed, found 9690 segments from 4845 clusters ***\n",
      "*** Coverage: 0.0774, NED: 0.52\n",
      "trial 0 th:0.06061 cov:0.07740 err:-0.02260\n",
      "0.0626419231070394\n",
      "*** Matches already discovered !!! ***\n",
      "*** found 116033 matches ***\n",
      "*** pairwise clustering ***\n",
      "*** post disc completed, found 9962 segments from 4981 clusters ***\n",
      "*** Coverage: 0.0791, NED: 0.53\n",
      "trial 1 th:0.06264 cov:0.07910 err:-0.02090\n",
      "0.08225805708705844\n",
      "*** Matches already discovered !!! ***\n",
      "*** found 116033 matches ***\n",
      "*** pairwise clustering ***\n",
      "*** post disc completed, found 12630 segments from 6315 clusters ***\n",
      "*** Coverage: 0.0964, NED: 0.55\n",
      "trial 2 th:0.08226 cov:0.09640 err:-0.00360\n",
      " === Experiment completed in 1m 3.7seconds ===\n",
      " === Running for new space {'r': 1.4078291249709165, 's': 0.0011691479827556518} ===\n",
      "knn_A_c3_right_a4_dim_fix10_emb_typegauss_kernel_k100_lmax28_lmin4_metricL2_olapthr_m0.25_pcaPCA40_r1.4078291249709165_s0.0011691479827556518_seg_typeuniform_normFalse_top_delta0.02_use_gpuTrue\n",
      "0.06060606060606061\n",
      "Building index of size 386876x610\n",
      "*** found 57896 matches ***\n",
      "*** pairwise clustering ***\n",
      "*** post disc completed, found 5506 segments from 2753 clusters ***\n",
      "*** Coverage: 0.1005, NED: 0.65\n",
      "trial 0 th:0.06061 cov:0.10050 err:0.00050\n",
      " === Experiment completed in 0m 37.9seconds ===\n",
      " === Running for new space {'r': 1.4883173467252673, 's': 0.9262226469600654} ===\n",
      "knn_A_c3_right_a4_dim_fix10_emb_typegauss_kernel_k100_lmax28_lmin4_metricL2_olapthr_m0.25_pcaPCA40_r1.4883173467252673_s0.9262226469600654_seg_typeuniform_normFalse_top_delta0.02_use_gpuTrue\n",
      "0.06060606060606061\n",
      "Building index of size 386876x610\n"
     ]
    },
    {
     "ename": "KeyboardInterrupt",
     "evalue": "",
     "output_type": "error",
     "traceback": [
      "\u001b[0;31m---------------------------------------------------------------------------\u001b[0m",
      "\u001b[0;31mKeyboardInterrupt\u001b[0m                         Traceback (most recent call last)",
      "\u001b[0;32m<ipython-input-57-dc24eed2e2f8>\u001b[0m in \u001b[0;36m<module>\u001b[0;34m\u001b[0m\n\u001b[0;32m----> 1\u001b[0;31m \u001b[0mtuner\u001b[0m\u001b[0;34m.\u001b[0m\u001b[0mrun\u001b[0m\u001b[0;34m(\u001b[0m\u001b[0mn_calls\u001b[0m\u001b[0;34m=\u001b[0m\u001b[0;36m15\u001b[0m\u001b[0;34m)\u001b[0m\u001b[0;34m\u001b[0m\u001b[0;34m\u001b[0m\u001b[0m\n\u001b[0m",
      "\u001b[0;32m<ipython-input-54-c7b0e1e974bc>\u001b[0m in \u001b[0;36mrun\u001b[0;34m(self, n_calls, random_state)\u001b[0m\n\u001b[1;32m    113\u001b[0m                                 \u001b[0mx0\u001b[0m\u001b[0;34m=\u001b[0m\u001b[0mself\u001b[0m\u001b[0;34m.\u001b[0m\u001b[0mx0\u001b[0m\u001b[0;34m,\u001b[0m \u001b[0my0\u001b[0m\u001b[0;34m=\u001b[0m\u001b[0mself\u001b[0m\u001b[0;34m.\u001b[0m\u001b[0my0\u001b[0m\u001b[0;34m,\u001b[0m\u001b[0;34m\u001b[0m\u001b[0;34m\u001b[0m\u001b[0m\n\u001b[1;32m    114\u001b[0m                                 \u001b[0mrandom_state\u001b[0m\u001b[0;34m=\u001b[0m\u001b[0mrandom_state\u001b[0m\u001b[0;34m,\u001b[0m\u001b[0;34m\u001b[0m\u001b[0;34m\u001b[0m\u001b[0m\n\u001b[0;32m--> 115\u001b[0;31m                                 callback=self.callbacks)\n\u001b[0m\u001b[1;32m    116\u001b[0m \u001b[0;34m\u001b[0m\u001b[0m\n\u001b[1;32m    117\u001b[0m         \u001b[0;32mreturn\u001b[0m \u001b[0mself\u001b[0m\u001b[0;34m.\u001b[0m\u001b[0mresult\u001b[0m\u001b[0;34m\u001b[0m\u001b[0;34m\u001b[0m\u001b[0m\n",
      "\u001b[0;32m~/miniconda3/envs/tez/lib/python3.6/site-packages/skopt/optimizer/gp.py\u001b[0m in \u001b[0;36mgp_minimize\u001b[0;34m(func, dimensions, base_estimator, n_calls, n_random_starts, acq_func, acq_optimizer, x0, y0, random_state, verbose, callback, n_points, n_restarts_optimizer, xi, kappa, noise, n_jobs, model_queue_size)\u001b[0m\n\u001b[1;32m    269\u001b[0m         \u001b[0mn_restarts_optimizer\u001b[0m\u001b[0;34m=\u001b[0m\u001b[0mn_restarts_optimizer\u001b[0m\u001b[0;34m,\u001b[0m\u001b[0;34m\u001b[0m\u001b[0;34m\u001b[0m\u001b[0m\n\u001b[1;32m    270\u001b[0m         \u001b[0mx0\u001b[0m\u001b[0;34m=\u001b[0m\u001b[0mx0\u001b[0m\u001b[0;34m,\u001b[0m \u001b[0my0\u001b[0m\u001b[0;34m=\u001b[0m\u001b[0my0\u001b[0m\u001b[0;34m,\u001b[0m \u001b[0mrandom_state\u001b[0m\u001b[0;34m=\u001b[0m\u001b[0mrng\u001b[0m\u001b[0;34m,\u001b[0m \u001b[0mverbose\u001b[0m\u001b[0;34m=\u001b[0m\u001b[0mverbose\u001b[0m\u001b[0;34m,\u001b[0m\u001b[0;34m\u001b[0m\u001b[0;34m\u001b[0m\u001b[0m\n\u001b[0;32m--> 271\u001b[0;31m         callback=callback, n_jobs=n_jobs, model_queue_size=model_queue_size)\n\u001b[0m",
      "\u001b[0;32m~/miniconda3/envs/tez/lib/python3.6/site-packages/skopt/optimizer/base.py\u001b[0m in \u001b[0;36mbase_minimize\u001b[0;34m(func, dimensions, base_estimator, n_calls, n_random_starts, acq_func, acq_optimizer, x0, y0, random_state, verbose, callback, n_points, n_restarts_optimizer, xi, kappa, n_jobs, model_queue_size)\u001b[0m\n\u001b[1;32m    270\u001b[0m     \u001b[0;32mfor\u001b[0m \u001b[0mn\u001b[0m \u001b[0;32min\u001b[0m \u001b[0mrange\u001b[0m\u001b[0;34m(\u001b[0m\u001b[0mn_calls\u001b[0m\u001b[0;34m)\u001b[0m\u001b[0;34m:\u001b[0m\u001b[0;34m\u001b[0m\u001b[0;34m\u001b[0m\u001b[0m\n\u001b[1;32m    271\u001b[0m         \u001b[0mnext_x\u001b[0m \u001b[0;34m=\u001b[0m \u001b[0moptimizer\u001b[0m\u001b[0;34m.\u001b[0m\u001b[0mask\u001b[0m\u001b[0;34m(\u001b[0m\u001b[0;34m)\u001b[0m\u001b[0;34m\u001b[0m\u001b[0;34m\u001b[0m\u001b[0m\n\u001b[0;32m--> 272\u001b[0;31m         \u001b[0mnext_y\u001b[0m \u001b[0;34m=\u001b[0m \u001b[0mfunc\u001b[0m\u001b[0;34m(\u001b[0m\u001b[0mnext_x\u001b[0m\u001b[0;34m)\u001b[0m\u001b[0;34m\u001b[0m\u001b[0;34m\u001b[0m\u001b[0m\n\u001b[0m\u001b[1;32m    273\u001b[0m         \u001b[0mresult\u001b[0m \u001b[0;34m=\u001b[0m \u001b[0moptimizer\u001b[0m\u001b[0;34m.\u001b[0m\u001b[0mtell\u001b[0m\u001b[0;34m(\u001b[0m\u001b[0mnext_x\u001b[0m\u001b[0;34m,\u001b[0m \u001b[0mnext_y\u001b[0m\u001b[0;34m)\u001b[0m\u001b[0;34m\u001b[0m\u001b[0;34m\u001b[0m\u001b[0m\n\u001b[1;32m    274\u001b[0m         \u001b[0mresult\u001b[0m\u001b[0;34m.\u001b[0m\u001b[0mspecs\u001b[0m \u001b[0;34m=\u001b[0m \u001b[0mspecs\u001b[0m\u001b[0;34m\u001b[0m\u001b[0;34m\u001b[0m\u001b[0m\n",
      "\u001b[0;32m~/miniconda3/envs/tez/lib/python3.6/site-packages/skopt/utils.py\u001b[0m in \u001b[0;36mwrapper\u001b[0;34m(x)\u001b[0m\n\u001b[1;32m    762\u001b[0m \u001b[0;34m\u001b[0m\u001b[0m\n\u001b[1;32m    763\u001b[0m             \u001b[0;31m# Call the wrapped objective function with the named arguments.\u001b[0m\u001b[0;34m\u001b[0m\u001b[0;34m\u001b[0m\u001b[0;34m\u001b[0m\u001b[0m\n\u001b[0;32m--> 764\u001b[0;31m             \u001b[0mobjective_value\u001b[0m \u001b[0;34m=\u001b[0m \u001b[0mfunc\u001b[0m\u001b[0;34m(\u001b[0m\u001b[0;34m**\u001b[0m\u001b[0marg_dict\u001b[0m\u001b[0;34m)\u001b[0m\u001b[0;34m\u001b[0m\u001b[0;34m\u001b[0m\u001b[0m\n\u001b[0m\u001b[1;32m    765\u001b[0m \u001b[0;34m\u001b[0m\u001b[0m\n\u001b[1;32m    766\u001b[0m             \u001b[0;32mreturn\u001b[0m \u001b[0mobjective_value\u001b[0m\u001b[0;34m\u001b[0m\u001b[0;34m\u001b[0m\u001b[0m\n",
      "\u001b[0;32m<ipython-input-54-c7b0e1e974bc>\u001b[0m in \u001b[0;36mobjective\u001b[0;34m(**space_params)\u001b[0m\n\u001b[1;32m     99\u001b[0m                                        self.params, nfold=self.params['tune']['n_split'])\n\u001b[1;32m    100\u001b[0m             \u001b[0;32melse\u001b[0m\u001b[0;34m:\u001b[0m\u001b[0;34m\u001b[0m\u001b[0;34m\u001b[0m\u001b[0m\n\u001b[0;32m--> 101\u001b[0;31m                 \u001b[0mscores\u001b[0m \u001b[0;34m=\u001b[0m \u001b[0mtry_run_exp\u001b[0m\u001b[0;34m(\u001b[0m\u001b[0mself\u001b[0m\u001b[0;34m.\u001b[0m\u001b[0mfeats_dict\u001b[0m\u001b[0;34m,\u001b[0m \u001b[0mself\u001b[0m\u001b[0;34m.\u001b[0m\u001b[0mparams\u001b[0m\u001b[0;34m,\u001b[0m \u001b[0mgenname\u001b[0m\u001b[0;34m=\u001b[0m\u001b[0;32mTrue\u001b[0m\u001b[0;34m)\u001b[0m\u001b[0;34m\u001b[0m\u001b[0;34m\u001b[0m\u001b[0m\n\u001b[0m\u001b[1;32m    102\u001b[0m \u001b[0;34m\u001b[0m\u001b[0m\n\u001b[1;32m    103\u001b[0m             \u001b[0mtelapsed\u001b[0m \u001b[0;34m=\u001b[0m \u001b[0mtime\u001b[0m\u001b[0;34m.\u001b[0m\u001b[0mtime\u001b[0m\u001b[0;34m(\u001b[0m\u001b[0;34m)\u001b[0m \u001b[0;34m-\u001b[0m \u001b[0mtstart\u001b[0m\u001b[0;34m\u001b[0m\u001b[0;34m\u001b[0m\u001b[0m\n",
      "\u001b[0;32m~/Dropbox/tez_scripts/utils/pipeline_wrappers.py\u001b[0m in \u001b[0;36mtry_run_exp\u001b[0;34m(feats_dict, params, size, step, genname)\u001b[0m\n\u001b[1;32m    124\u001b[0m     \u001b[0;32mtry\u001b[0m\u001b[0;34m:\u001b[0m\u001b[0;34m\u001b[0m\u001b[0;34m\u001b[0m\u001b[0m\n\u001b[1;32m    125\u001b[0m \u001b[0;34m\u001b[0m\u001b[0m\n\u001b[0;32m--> 126\u001b[0;31m         \u001b[0mscores\u001b[0m \u001b[0;34m=\u001b[0m \u001b[0mrun_exp\u001b[0m\u001b[0;34m(\u001b[0m\u001b[0mfeats_dict\u001b[0m\u001b[0;34m,\u001b[0m \u001b[0mparams\u001b[0m\u001b[0;34m)\u001b[0m\u001b[0;34m\u001b[0m\u001b[0;34m\u001b[0m\u001b[0m\n\u001b[0m\u001b[1;32m    127\u001b[0m \u001b[0;34m\u001b[0m\u001b[0m\n\u001b[1;32m    128\u001b[0m     \u001b[0;32mexcept\u001b[0m \u001b[0mException\u001b[0m \u001b[0;32mas\u001b[0m \u001b[0mexc\u001b[0m\u001b[0;34m:\u001b[0m\u001b[0;34m\u001b[0m\u001b[0;34m\u001b[0m\u001b[0m\n",
      "\u001b[0;32m~/Dropbox/tez_scripts/utils/pipeline_wrappers.py\u001b[0m in \u001b[0;36mrun_exp\u001b[0;34m(feats_dict, params, size, step)\u001b[0m\n\u001b[1;32m    102\u001b[0m     \u001b[0;32mtry\u001b[0m\u001b[0;34m:\u001b[0m\u001b[0;34m\u001b[0m\u001b[0;34m\u001b[0m\u001b[0m\n\u001b[1;32m    103\u001b[0m         matches_df, nodes_df, clusters_list, scores, pars = run_until_coverage_th(\n\u001b[0;32m--> 104\u001b[0;31m                                                                 tmp_dict, params)\n\u001b[0m\u001b[1;32m    105\u001b[0m     \u001b[0;32mexcept\u001b[0m \u001b[0mException\u001b[0m \u001b[0;32mas\u001b[0m \u001b[0mexc\u001b[0m\u001b[0;34m:\u001b[0m\u001b[0;34m\u001b[0m\u001b[0;34m\u001b[0m\u001b[0m\n\u001b[1;32m    106\u001b[0m \u001b[0;34m\u001b[0m\u001b[0m\n",
      "\u001b[0;32m~/Dropbox/tez_scripts/utils/pipeline_wrappers.py\u001b[0m in \u001b[0;36mrun_until_coverage_th\u001b[0;34m(feats_dict, pars, covth, covmargin)\u001b[0m\n\u001b[1;32m     47\u001b[0m         \u001b[0mpars\u001b[0m\u001b[0;34m[\u001b[0m\u001b[0;34m'clustering'\u001b[0m\u001b[0;34m]\u001b[0m\u001b[0;34m[\u001b[0m\u001b[0;34m'cost_thr'\u001b[0m\u001b[0;34m]\u001b[0m \u001b[0;34m=\u001b[0m \u001b[0mth\u001b[0m\u001b[0;34m\u001b[0m\u001b[0;34m\u001b[0m\u001b[0m\n\u001b[1;32m     48\u001b[0m         \u001b[0mprint\u001b[0m\u001b[0;34m(\u001b[0m\u001b[0mpars\u001b[0m\u001b[0;34m[\u001b[0m\u001b[0;34m'clustering'\u001b[0m\u001b[0;34m]\u001b[0m\u001b[0;34m[\u001b[0m\u001b[0;34m'cost_thr'\u001b[0m\u001b[0;34m]\u001b[0m\u001b[0;34m)\u001b[0m\u001b[0;34m\u001b[0m\u001b[0;34m\u001b[0m\u001b[0m\n\u001b[0;32m---> 49\u001b[0;31m         \u001b[0mmatches_df\u001b[0m\u001b[0;34m,\u001b[0m \u001b[0mnodes_df\u001b[0m\u001b[0;34m,\u001b[0m \u001b[0mclusters_list\u001b[0m\u001b[0;34m,\u001b[0m \u001b[0mscores\u001b[0m \u001b[0;34m=\u001b[0m \u001b[0mdiscovery_pipeline\u001b[0m\u001b[0;34m(\u001b[0m\u001b[0mfeats_dict\u001b[0m\u001b[0;34m,\u001b[0m \u001b[0mpars\u001b[0m\u001b[0;34m)\u001b[0m\u001b[0;34m\u001b[0m\u001b[0;34m\u001b[0m\u001b[0m\n\u001b[0m\u001b[1;32m     50\u001b[0m         \u001b[0mnmatch\u001b[0m \u001b[0;34m=\u001b[0m \u001b[0mlen\u001b[0m\u001b[0;34m(\u001b[0m\u001b[0mmatches_df\u001b[0m\u001b[0;34m)\u001b[0m\u001b[0;34m\u001b[0m\u001b[0;34m\u001b[0m\u001b[0m\n\u001b[1;32m     51\u001b[0m \u001b[0;34m\u001b[0m\u001b[0m\n",
      "\u001b[0;32m~/Dropbox/tez_scripts/utils/pipeline.py\u001b[0m in \u001b[0;36mdiscovery_pipeline\u001b[0;34m(feats_dict, params)\u001b[0m\n\u001b[1;32m    737\u001b[0m \u001b[0;32mdef\u001b[0m \u001b[0mdiscovery_pipeline\u001b[0m\u001b[0;34m(\u001b[0m\u001b[0mfeats_dict\u001b[0m\u001b[0;34m,\u001b[0m \u001b[0mparams\u001b[0m\u001b[0;34m)\u001b[0m\u001b[0;34m:\u001b[0m\u001b[0;34m\u001b[0m\u001b[0;34m\u001b[0m\u001b[0m\n\u001b[1;32m    738\u001b[0m \u001b[0;34m\u001b[0m\u001b[0m\n\u001b[0;32m--> 739\u001b[0;31m     \u001b[0mmatches_df\u001b[0m\u001b[0;34m,\u001b[0m \u001b[0mseq_names\u001b[0m \u001b[0;34m=\u001b[0m \u001b[0mrun_matches_discovery\u001b[0m\u001b[0;34m(\u001b[0m\u001b[0mfeats_dict\u001b[0m\u001b[0;34m,\u001b[0m \u001b[0mparams\u001b[0m\u001b[0;34m)\u001b[0m\u001b[0;34m\u001b[0m\u001b[0;34m\u001b[0m\u001b[0m\n\u001b[0m\u001b[1;32m    740\u001b[0m     \u001b[0mprint\u001b[0m\u001b[0;34m(\u001b[0m\u001b[0;34m'*** found {} matches ***'\u001b[0m\u001b[0;34m.\u001b[0m\u001b[0mformat\u001b[0m\u001b[0;34m(\u001b[0m\u001b[0mlen\u001b[0m\u001b[0;34m(\u001b[0m\u001b[0mmatches_df\u001b[0m\u001b[0;34m)\u001b[0m\u001b[0;34m)\u001b[0m\u001b[0;34m)\u001b[0m\u001b[0;34m\u001b[0m\u001b[0;34m\u001b[0m\u001b[0m\n\u001b[1;32m    741\u001b[0m \u001b[0;34m\u001b[0m\u001b[0m\n",
      "\u001b[0;32m~/Dropbox/tez_scripts/utils/pipeline.py\u001b[0m in \u001b[0;36mrun_matches_discovery\u001b[0;34m(feats_dict, params)\u001b[0m\n\u001b[1;32m    183\u001b[0m         \u001b[0;32mif\u001b[0m \u001b[0mparams\u001b[0m\u001b[0;34m[\u001b[0m\u001b[0;34m'disc_method'\u001b[0m\u001b[0;34m]\u001b[0m \u001b[0;34m==\u001b[0m \u001b[0;34m'knn'\u001b[0m\u001b[0;34m:\u001b[0m\u001b[0;34m\u001b[0m\u001b[0;34m\u001b[0m\u001b[0m\n\u001b[1;32m    184\u001b[0m             \u001b[0mknndisc\u001b[0m \u001b[0;34m=\u001b[0m \u001b[0mKnnDiscovery\u001b[0m\u001b[0;34m(\u001b[0m\u001b[0mfeats_dict\u001b[0m\u001b[0;34m,\u001b[0m \u001b[0mparams\u001b[0m\u001b[0;34m)\u001b[0m\u001b[0;34m\u001b[0m\u001b[0;34m\u001b[0m\u001b[0m\n\u001b[0;32m--> 185\u001b[0;31m             \u001b[0mmatches_df\u001b[0m \u001b[0;34m=\u001b[0m \u001b[0mknndisc\u001b[0m\u001b[0;34m.\u001b[0m\u001b[0mrun\u001b[0m\u001b[0;34m(\u001b[0m\u001b[0;34m)\u001b[0m\u001b[0;34m\u001b[0m\u001b[0;34m\u001b[0m\u001b[0m\n\u001b[0m\u001b[1;32m    186\u001b[0m \u001b[0;34m\u001b[0m\u001b[0m\n\u001b[1;32m    187\u001b[0m         \u001b[0;32mif\u001b[0m \u001b[0mlen\u001b[0m\u001b[0;34m(\u001b[0m\u001b[0mmatches_df\u001b[0m\u001b[0;34m)\u001b[0m \u001b[0;34m>\u001b[0m \u001b[0;36m500000\u001b[0m\u001b[0;34m:\u001b[0m\u001b[0;34m\u001b[0m\u001b[0;34m\u001b[0m\u001b[0m\n",
      "\u001b[0;32m~/Dropbox/tez_scripts/utils/knn/discoverer.py\u001b[0m in \u001b[0;36mrun\u001b[0;34m(self)\u001b[0m\n\u001b[1;32m     65\u001b[0m \u001b[0;34m\u001b[0m\u001b[0m\n\u001b[1;32m     66\u001b[0m         \u001b[0mself\u001b[0m\u001b[0;34m.\u001b[0m\u001b[0mrun_disc\u001b[0m\u001b[0;34m(\u001b[0m\u001b[0;34m)\u001b[0m\u001b[0;34m\u001b[0m\u001b[0;34m\u001b[0m\u001b[0m\n\u001b[0;32m---> 67\u001b[0;31m         \u001b[0mself\u001b[0m\u001b[0;34m.\u001b[0m\u001b[0mpost_disc\u001b[0m\u001b[0;34m(\u001b[0m\u001b[0;34m)\u001b[0m\u001b[0;34m\u001b[0m\u001b[0;34m\u001b[0m\u001b[0m\n\u001b[0m\u001b[1;32m     68\u001b[0m \u001b[0;34m\u001b[0m\u001b[0m\n\u001b[1;32m     69\u001b[0m         \u001b[0;32mreturn\u001b[0m \u001b[0mself\u001b[0m\u001b[0;34m.\u001b[0m\u001b[0mmatches_df\u001b[0m\u001b[0;34m\u001b[0m\u001b[0;34m\u001b[0m\u001b[0m\n",
      "\u001b[0;32m~/Dropbox/tez_scripts/utils/knn/discoverer.py\u001b[0m in \u001b[0;36mpost_disc\u001b[0;34m(self, new_post_params)\u001b[0m\n\u001b[1;32m     57\u001b[0m                                          \u001b[0mself\u001b[0m\u001b[0;34m.\u001b[0m\u001b[0mtraceback_info\u001b[0m\u001b[0;34m,\u001b[0m\u001b[0;34m\u001b[0m\u001b[0;34m\u001b[0m\u001b[0m\n\u001b[1;32m     58\u001b[0m                                          \u001b[0mself\u001b[0m\u001b[0;34m.\u001b[0m\u001b[0mintervals_dict\u001b[0m\u001b[0;34m,\u001b[0m\u001b[0;34m\u001b[0m\u001b[0;34m\u001b[0m\u001b[0m\n\u001b[0;32m---> 59\u001b[0;31m                                          self.params['disc'])\n\u001b[0m\u001b[1;32m     60\u001b[0m \u001b[0;34m\u001b[0m\u001b[0m\n\u001b[1;32m     61\u001b[0m         \u001b[0;31m# self.postdisc_name = gen_expname(params['clustering'])\u001b[0m\u001b[0;34m\u001b[0m\u001b[0;34m\u001b[0m\u001b[0;34m\u001b[0m\u001b[0m\n",
      "\u001b[0;32m~/Dropbox/tez_scripts/utils/knn/pair_select.py\u001b[0m in \u001b[0;36mpair_selection_wrap\u001b[0;34m(D, I, traceback_info, intervals_dict, params)\u001b[0m\n\u001b[1;32m    154\u001b[0m \u001b[0;34m\u001b[0m\u001b[0m\n\u001b[1;32m    155\u001b[0m     arrays_list = pair_selection(D, I, traceback_info, intervals_dict, \n\u001b[0;32m--> 156\u001b[0;31m                                  params['top_delta'], params['olapthr_m'])\n\u001b[0m\u001b[1;32m    157\u001b[0m \u001b[0;34m\u001b[0m\u001b[0m\n\u001b[1;32m    158\u001b[0m     \u001b[0mmatches_df\u001b[0m \u001b[0;34m=\u001b[0m \u001b[0marrays_to_df\u001b[0m\u001b[0;34m(\u001b[0m\u001b[0marrays_list\u001b[0m\u001b[0;34m)\u001b[0m\u001b[0;34m\u001b[0m\u001b[0;34m\u001b[0m\u001b[0m\n",
      "\u001b[0;32m~/Dropbox/tez_scripts/utils/knn/pair_select.py\u001b[0m in \u001b[0;36mpair_selection\u001b[0;34m(D, I, traceback_info, intervals_dict, top_delta, olapthr_m)\u001b[0m\n\u001b[1;32m    144\u001b[0m         \u001b[0;31m# retrieve back filenames and interval indices, remove overlaps\u001b[0m\u001b[0;34m\u001b[0m\u001b[0;34m\u001b[0m\u001b[0;34m\u001b[0m\u001b[0m\n\u001b[1;32m    145\u001b[0m         info_arrays = get_non_olap_pairs(\n\u001b[0;32m--> 146\u001b[0;31m                             pairs, dists, traceback_info, intervals_dict, olapthr_m)\n\u001b[0m\u001b[1;32m    147\u001b[0m \u001b[0;34m\u001b[0m\u001b[0m\n\u001b[1;32m    148\u001b[0m         \u001b[0marrays_list\u001b[0m\u001b[0;34m.\u001b[0m\u001b[0mextend\u001b[0m\u001b[0;34m(\u001b[0m\u001b[0minfo_arrays\u001b[0m\u001b[0;34m)\u001b[0m\u001b[0;34m\u001b[0m\u001b[0;34m\u001b[0m\u001b[0m\n",
      "\u001b[0;32m~/Dropbox/tez_scripts/utils/knn/pair_select.py\u001b[0m in \u001b[0;36mget_non_olap_pairs\u001b[0;34m(pairs, dists, traceback_info, intervals_dict, olapthr_m)\u001b[0m\n\u001b[1;32m    112\u001b[0m \u001b[0;34m\u001b[0m\u001b[0m\n\u001b[1;32m    113\u001b[0m     info_arrays = retrieve_pairs_info(\n\u001b[0;32m--> 114\u001b[0;31m         pairs, dists, traceback_info, intervals_dict)\n\u001b[0m\u001b[1;32m    115\u001b[0m \u001b[0;34m\u001b[0m\u001b[0m\n\u001b[1;32m    116\u001b[0m     \u001b[0minfo_arrays\u001b[0m \u001b[0;34m=\u001b[0m \u001b[0mnp\u001b[0m\u001b[0;34m.\u001b[0m\u001b[0mhstack\u001b[0m\u001b[0;34m(\u001b[0m\u001b[0;34m[\u001b[0m\u001b[0mpairs\u001b[0m\u001b[0;34m,\u001b[0m \u001b[0mnp\u001b[0m\u001b[0;34m.\u001b[0m\u001b[0mhstack\u001b[0m\u001b[0;34m(\u001b[0m\u001b[0minfo_arrays\u001b[0m\u001b[0;34m[\u001b[0m\u001b[0;34m:\u001b[0m\u001b[0;36m3\u001b[0m\u001b[0;34m]\u001b[0m\u001b[0;34m)\u001b[0m\u001b[0;34m,\u001b[0m \u001b[0minfo_arrays\u001b[0m\u001b[0;34m[\u001b[0m\u001b[0;36m3\u001b[0m\u001b[0;34m]\u001b[0m\u001b[0;34m[\u001b[0m\u001b[0;34m:\u001b[0m\u001b[0;34m,\u001b[0m\u001b[0;32mNone\u001b[0m\u001b[0;34m]\u001b[0m \u001b[0;34m]\u001b[0m\u001b[0;34m)\u001b[0m\u001b[0;34m\u001b[0m\u001b[0;34m\u001b[0m\u001b[0m\n",
      "\u001b[0;32m~/Dropbox/tez_scripts/utils/knn/pair_select.py\u001b[0m in \u001b[0;36mretrieve_pairs_info\u001b[0;34m(pairs, dists, traceback_info, intervals_dict)\u001b[0m\n\u001b[1;32m     63\u001b[0m \u001b[0;34m\u001b[0m\u001b[0m\n\u001b[1;32m     64\u001b[0m         \u001b[0;32mfor\u001b[0m \u001b[0msid\u001b[0m\u001b[0;34m,\u001b[0m \u001b[0mqid\u001b[0m \u001b[0;32min\u001b[0m \u001b[0menumerate\u001b[0m\u001b[0;34m(\u001b[0m\u001b[0mids\u001b[0m\u001b[0;34m)\u001b[0m\u001b[0;34m:\u001b[0m\u001b[0;34m\u001b[0m\u001b[0;34m\u001b[0m\u001b[0m\n\u001b[0;32m---> 65\u001b[0;31m             \u001b[0mfileid\u001b[0m\u001b[0;34m,\u001b[0m \u001b[0mfilekey\u001b[0m\u001b[0;34m,\u001b[0m \u001b[0minterval\u001b[0m \u001b[0;34m=\u001b[0m \u001b[0mretrieve_segment_info\u001b[0m\u001b[0;34m(\u001b[0m\u001b[0mqid\u001b[0m\u001b[0;34m,\u001b[0m \u001b[0mtraceback_info\u001b[0m\u001b[0;34m,\u001b[0m \u001b[0mintervals_dict\u001b[0m\u001b[0;34m)\u001b[0m\u001b[0;34m\u001b[0m\u001b[0;34m\u001b[0m\u001b[0m\n\u001b[0m\u001b[1;32m     66\u001b[0m             \u001b[0mf1f2names\u001b[0m\u001b[0;34m[\u001b[0m\u001b[0mp\u001b[0m\u001b[0;34m,\u001b[0m\u001b[0msid\u001b[0m\u001b[0;34m]\u001b[0m \u001b[0;34m=\u001b[0m \u001b[0mfilekey\u001b[0m\u001b[0;34m\u001b[0m\u001b[0;34m\u001b[0m\u001b[0m\n\u001b[1;32m     67\u001b[0m             \u001b[0mf1f2arr\u001b[0m\u001b[0;34m[\u001b[0m\u001b[0mp\u001b[0m\u001b[0;34m,\u001b[0m\u001b[0msid\u001b[0m\u001b[0;34m]\u001b[0m \u001b[0;34m=\u001b[0m \u001b[0mfileid\u001b[0m\u001b[0;34m\u001b[0m\u001b[0;34m\u001b[0m\u001b[0m\n",
      "\u001b[0;32m~/Dropbox/tez_scripts/utils/knn/pair_select.py\u001b[0m in \u001b[0;36mretrieve_segment_info\u001b[0;34m(query_id, traceback_info, intervals_dict)\u001b[0m\n\u001b[1;32m     37\u001b[0m \u001b[0;32mdef\u001b[0m \u001b[0mretrieve_segment_info\u001b[0m\u001b[0;34m(\u001b[0m\u001b[0mquery_id\u001b[0m\u001b[0;34m,\u001b[0m \u001b[0mtraceback_info\u001b[0m\u001b[0;34m,\u001b[0m \u001b[0mintervals_dict\u001b[0m\u001b[0;34m)\u001b[0m\u001b[0;34m:\u001b[0m\u001b[0;34m\u001b[0m\u001b[0;34m\u001b[0m\u001b[0m\n\u001b[1;32m     38\u001b[0m     \u001b[0;31m# segment id to filename and interval\u001b[0m\u001b[0;34m\u001b[0m\u001b[0;34m\u001b[0m\u001b[0;34m\u001b[0m\u001b[0m\n\u001b[0;32m---> 39\u001b[0;31m     \u001b[0mfile_id\u001b[0m \u001b[0;34m=\u001b[0m \u001b[0mnp\u001b[0m\u001b[0;34m.\u001b[0m\u001b[0margmax\u001b[0m\u001b[0;34m(\u001b[0m \u001b[0mtraceback_info\u001b[0m\u001b[0;34m[\u001b[0m\u001b[0;34m'idx_cum'\u001b[0m\u001b[0;34m]\u001b[0m \u001b[0;34m>\u001b[0m \u001b[0mquery_id\u001b[0m\u001b[0;34m)\u001b[0m\u001b[0;34m\u001b[0m\u001b[0;34m\u001b[0m\u001b[0m\n\u001b[0m\u001b[1;32m     40\u001b[0m \u001b[0;34m\u001b[0m\u001b[0m\n\u001b[1;32m     41\u001b[0m     \u001b[0mfilekey\u001b[0m \u001b[0;34m=\u001b[0m \u001b[0mtraceback_info\u001b[0m\u001b[0;34m[\u001b[0m\u001b[0;34m'fname'\u001b[0m\u001b[0;34m]\u001b[0m\u001b[0;34m[\u001b[0m\u001b[0mfile_id\u001b[0m\u001b[0;34m]\u001b[0m\u001b[0;34m\u001b[0m\u001b[0;34m\u001b[0m\u001b[0m\n",
      "\u001b[0;31mKeyboardInterrupt\u001b[0m: "
     ]
    }
   ],
   "source": [
    "tuner.run(n_calls=15)"
   ]
  },
  {
   "cell_type": "code",
   "execution_count": 58,
   "metadata": {},
   "outputs": [
    {
     "data": {
      "text/plain": [
       "{'CVroot': '/home/korhan/Dropbox/CVfolds',\n",
       " 'CVset': 'A',\n",
       " 'clustering': {'cost_thr': 0.06060606060606061,\n",
       "  'method': 'pairwise',\n",
       "  'olapthr_m': 0.25},\n",
       " 'config_file': '/home/korhan/Dropbox/config/config_phoenix.json',\n",
       " 'covth': 0.1,\n",
       " 'dataset': 'phoenix',\n",
       " 'disc': {'a': 4,\n",
       "  'dim_fix': 10,\n",
       "  'emb_type': 'gauss_kernel',\n",
       "  'k': 100,\n",
       "  'lmax': 28,\n",
       "  'lmin': 4,\n",
       "  'metric': 'L2',\n",
       "  'olapthr_m': 0.25,\n",
       "  'pca': 'PCA40',\n",
       "  'r': 1.4883173467252673,\n",
       "  's': 0.9262226469600654,\n",
       "  'seg_type': 'uniform',\n",
       "  'norm': False,\n",
       "  'top_delta': 0.02,\n",
       "  'use_gpu': True},\n",
       " 'disc_method': 'knn',\n",
       " 'exp_root': '/home/korhan/Desktop/tez/knn_exps/',\n",
       " 'feats_root': '/home/korhan/Desktop/tez/dataset/features/',\n",
       " 'featype': 'c3_right',\n",
       " 'lr': 0.8,\n",
       " 'njobs': 2,\n",
       " 'patience': 30,\n",
       " 'tune': {'keys': ['r', 's'],\n",
       "  'minimizer': 'gp',\n",
       "  'n_split': 1,\n",
       "  'stop_margin': 0.01,\n",
       "  'stopper_patience': 5},\n",
       " 'basename': 'knn_A_c3_right',\n",
       " 'expname': 'knn_A_c3_right_a4_dim_fix10_emb_typegauss_kernel_k100_lmax28_lmin4_metricL2_olapthr_m0.25_pcaPCA40_r1.4883173467252673_s0.9262226469600654_seg_typeuniform_normFalse_top_delta0.02_use_gpuTrue'}"
      ]
     },
     "execution_count": 58,
     "metadata": {},
     "output_type": "execute_result"
    }
   ],
   "source": [
    "params"
   ]
  },
  {
   "cell_type": "code",
   "execution_count": 28,
   "metadata": {},
   "outputs": [
    {
     "data": {
      "text/plain": [
       "[<skopt.callbacks.DeltaYStopper at 0x7fd71761ba20>]"
      ]
     },
     "execution_count": 28,
     "metadata": {},
     "output_type": "execute_result"
    }
   ],
   "source": [
    "tuner.callbacks"
   ]
  },
  {
   "cell_type": "code",
   "execution_count": 36,
   "metadata": {},
   "outputs": [
    {
     "data": {
      "text/plain": [
       "          fun: 0.4809\n",
       "    func_vals: array([0.6572, 0.6581, 0.6572, 0.6414, 0.649 , 0.5851, 0.5672, 0.654 ,\n",
       "       0.6545, 0.655 , 0.5404, 0.4927, 1.    , 0.4809, 0.5222])\n",
       "       models: [GaussianProcessRegressor(alpha=1e-10, copy_X_train=True,\n",
       "                         kernel=1**2 * Matern(length_scale=[1, 1], nu=2.5) + WhiteKernel(noise_level=1),\n",
       "                         n_restarts_optimizer=2, noise='gaussian',\n",
       "                         normalize_y=True, optimizer='fmin_l_bfgs_b',\n",
       "                         random_state=1608637542), GaussianProcessRegressor(alpha=1e-10, copy_X_train=True,\n",
       "                         kernel=1**2 * Matern(length_scale=[1, 1], nu=2.5) + WhiteKernel(noise_level=1),\n",
       "                         n_restarts_optimizer=2, noise='gaussian',\n",
       "                         normalize_y=True, optimizer='fmin_l_bfgs_b',\n",
       "                         random_state=1608637542), GaussianProcessRegressor(alpha=1e-10, copy_X_train=True,\n",
       "                         kernel=1**2 * Matern(length_scale=[1, 1], nu=2.5) + WhiteKernel(noise_level=1),\n",
       "                         n_restarts_optimizer=2, noise='gaussian',\n",
       "                         normalize_y=True, optimizer='fmin_l_bfgs_b',\n",
       "                         random_state=1608637542), GaussianProcessRegressor(alpha=1e-10, copy_X_train=True,\n",
       "                         kernel=1**2 * Matern(length_scale=[1, 1], nu=2.5) + WhiteKernel(noise_level=1),\n",
       "                         n_restarts_optimizer=2, noise='gaussian',\n",
       "                         normalize_y=True, optimizer='fmin_l_bfgs_b',\n",
       "                         random_state=1608637542), GaussianProcessRegressor(alpha=1e-10, copy_X_train=True,\n",
       "                         kernel=1**2 * Matern(length_scale=[1, 1], nu=2.5) + WhiteKernel(noise_level=1),\n",
       "                         n_restarts_optimizer=2, noise='gaussian',\n",
       "                         normalize_y=True, optimizer='fmin_l_bfgs_b',\n",
       "                         random_state=1608637542)]\n",
       " random_state: <mtrand.RandomState object at 0x7fd793620bd0>\n",
       "        space: Space([Real(low=0.0, high=2, prior='uniform', transform='normalize'),\n",
       "       Real(low=0.0, high=2, prior='uniform', transform='normalize')])\n",
       "        specs: {'args': {'model_queue_size': None, 'n_jobs': 1, 'kappa': 1.96, 'xi': 0.01, 'n_restarts_optimizer': 5, 'n_points': 10000, 'callback': [<skopt.callbacks.CheckpointSaver object at 0x7fd71761bb00>, <skopt.callbacks.DeltaYStopper object at 0x7fd71761b6d8>, <skopt.callbacks.TimerCallback object at 0x7fd71761b588>], 'verbose': False, 'random_state': <mtrand.RandomState object at 0x7fd793620bd0>, 'y0': None, 'x0': [1.559382000545539, 1.1937003158929742], 'acq_optimizer': 'auto', 'acq_func': 'gp_hedge', 'n_random_starts': 10, 'n_calls': 15, 'base_estimator': GaussianProcessRegressor(alpha=1e-10, copy_X_train=True,\n",
       "                         kernel=1**2 * Matern(length_scale=[1, 1], nu=2.5),\n",
       "                         n_restarts_optimizer=2, noise='gaussian',\n",
       "                         normalize_y=True, optimizer='fmin_l_bfgs_b',\n",
       "                         random_state=1608637542), 'dimensions': Space([Real(low=0.0, high=2, prior='uniform', transform='normalize'),\n",
       "       Real(low=0.0, high=2, prior='uniform', transform='normalize')]), 'func': <function TunerSkopt.run.<locals>.objective at 0x7fd73f59cea0>}, 'function': 'base_minimize'}\n",
       "            x: [0.0, 0.13201647808662814]\n",
       "      x_iters: [[1.559382000545539, 1.1937003158929742], [1.5930859737204661, 0.36686957973232764], [1.559382000545539, 1.1937003158929742], [0.8916655057071825, 0.19994983163600583], [0.9184977839317345, 0.6674172222780438], [0.2857336358438816, 1.301776945897706], [0.11282315805420054, 1.4439975445336497], [1.8771054180315008, 0.001557531682028657], [1.9844231185824355, 1.2349630192554333], [1.223306320976562, 0.014132610439434815], [0.04612485008283152, 1.0495493205167785], [0.0, 0.10664941001309862], [0.0, 0.0], [0.0, 0.13201647808662814], [0.09543457135303371, 0.12203809662832513]]"
      ]
     },
     "execution_count": 36,
     "metadata": {},
     "output_type": "execute_result"
    }
   ],
   "source": [
    "tuner.result"
   ]
  },
  {
   "cell_type": "code",
   "execution_count": 43,
   "metadata": {},
   "outputs": [
    {
     "data": {
      "text/plain": [
       "{'args': {'model_queue_size': None,\n",
       "  'n_jobs': 1,\n",
       "  'kappa': 1.96,\n",
       "  'xi': 0.01,\n",
       "  'n_restarts_optimizer': 5,\n",
       "  'n_points': 10000,\n",
       "  'callback': [<skopt.callbacks.CheckpointSaver at 0x7fd71761bb00>,\n",
       "   <skopt.callbacks.DeltaYStopper at 0x7fd71761b6d8>,\n",
       "   <skopt.callbacks.TimerCallback at 0x7fd71761b588>],\n",
       "  'verbose': False,\n",
       "  'random_state': <mtrand.RandomState at 0x7fd793620bd0>,\n",
       "  'y0': None,\n",
       "  'x0': [1.559382000545539, 1.1937003158929742],\n",
       "  'acq_optimizer': 'auto',\n",
       "  'acq_func': 'gp_hedge',\n",
       "  'n_random_starts': 10,\n",
       "  'n_calls': 15,\n",
       "  'base_estimator': GaussianProcessRegressor(alpha=1e-10, copy_X_train=True,\n",
       "                           kernel=1**2 * Matern(length_scale=[1, 1], nu=2.5),\n",
       "                           n_restarts_optimizer=2, noise='gaussian',\n",
       "                           normalize_y=True, optimizer='fmin_l_bfgs_b',\n",
       "                           random_state=1608637542),\n",
       "  'dimensions': Space([Real(low=0.0, high=2, prior='uniform', transform='normalize'),\n",
       "         Real(low=0.0, high=2, prior='uniform', transform='normalize')]),\n",
       "  'func': <function __main__.TunerSkopt.run.<locals>.objective(**space_params)>},\n",
       " 'function': 'base_minimize'}"
      ]
     },
     "execution_count": 43,
     "metadata": {},
     "output_type": "execute_result"
    }
   ],
   "source": [
    "tuner.result.specs"
   ]
  },
  {
   "cell_type": "code",
   "execution_count": 50,
   "metadata": {},
   "outputs": [
    {
     "data": {
      "text/plain": [
       "array([[<matplotlib.axes._subplots.AxesSubplot object at 0x7fd74f82c198>,\n",
       "        <matplotlib.axes._subplots.AxesSubplot object at 0x7fd74f844f98>],\n",
       "       [<matplotlib.axes._subplots.AxesSubplot object at 0x7fd74f7ec208>,\n",
       "        <matplotlib.axes._subplots.AxesSubplot object at 0x7fd74f812438>]],\n",
       "      dtype=object)"
      ]
     },
     "execution_count": 50,
     "metadata": {},
     "output_type": "execute_result"
    },
    {
     "data": {
      "image/png": "[encoded data removed]",
      "text/plain": [
       "<Figure size 432x288 with 1 Axes>"
      ]
     },
     "metadata": {
      "needs_background": "light"
     },
     "output_type": "display_data"
    },
    {
     "data": {
      "image/png": "[encoded data removed]",
      "text/plain": [
       "<Figure size 288x288 with 4 Axes>"
      ]
     },
     "metadata": {
      "needs_background": "light"
     },
     "output_type": "display_data"
    },
    {
     "data": {
      "image/png": "[encoded data removed]",
      "text/plain": [
       "<Figure size 288x288 with 4 Axes>"
      ]
     },
     "metadata": {
      "needs_background": "light"
     },
     "output_type": "display_data"
    }
   ],
   "source": [
    "plt.plot(tuner.result.func_vals)\n",
    "plot_evaluations(tuner.result)\n",
    "plot_objective(tuner.result)"
   ]
  }
 ],
 "metadata": {
  "kernelspec": {
   "display_name": "tez",
   "language": "python",
   "name": "tez"
  },
  "language_info": {
   "codemirror_mode": {
    "name": "ipython",
    "version": 3
   },
   "file_extension": ".py",
   "mimetype": "text/x-python",
   "name": "python",
   "nbconvert_exporter": "python",
   "pygments_lexer": "ipython3",
   "version": "3.6.8"
  },
  "varInspector": {
   "cols": {
    "lenName": 16,
    "lenType": 16,
    "lenVar": 40
   },
   "kernels_config": {
    "python": {
     "delete_cmd_postfix": "",
     "delete_cmd_prefix": "del ",
     "library": "var_list.py",
     "varRefreshCmd": "print(var_dic_list())"
    },
    "r": {
     "delete_cmd_postfix": ") ",
     "delete_cmd_prefix": "rm(",
     "library": "var_list.r",
     "varRefreshCmd": "cat(var_dic_list()) "
    }
   },
   "types_to_exclude": [
    "module",
    "function",
    "builtin_function_or_method",
    "instance",
    "_Feature"
   ],
   "window_display": false
  }
 },
 "nbformat": 4,
 "nbformat_minor": 2
}
