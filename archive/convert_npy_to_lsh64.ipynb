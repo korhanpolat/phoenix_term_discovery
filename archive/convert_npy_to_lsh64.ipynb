{
 "cells": [
  {
   "cell_type": "code",
   "execution_count": 24,
   "metadata": {},
   "outputs": [],
   "source": [
    "import numpy as np\n",
    "from os import makedirs, listdir\n",
    "from os.path import join\n",
    "from utils.ZR_utils import gen_proj, normalize_dimensions_nodiv0, std_to_lsh64\n"
   ]
  },
  {
   "cell_type": "code",
   "execution_count": 4,
   "metadata": {},
   "outputs": [],
   "source": [
    "%load_ext cython"
   ]
  },
  {
   "cell_type": "code",
   "execution_count": 5,
   "metadata": {},
   "outputs": [],
   "source": [
    "%%cython\n",
    "import numpy as np\n",
    "\n",
    "def std_to_lsh64_c(int D, float[::1] feat_std, float[::1] daps_projmat ):\n",
    "\n",
    "    cdef int S = 32\n",
    "    cdef int n_frames = int(len(feat_std)) / D\n",
    "    cdef int[::1] sigs = np.zeros((n_frames*2,1),dtype=np.uint32)\n",
    "\n",
    "    cdef int i,b,d\n",
    "    cdef float proj = 0\n",
    "\n",
    "    for i in range(n_frames):\n",
    "\n",
    "        for b in range(S):\n",
    "            proj = 0\n",
    "            for d in range(D):\n",
    "                proj += feat_std[i*D + d] * daps_projmat[b*D + d]\n",
    "            sigs[2*i] += (proj>0) * 2**b\n",
    "\n",
    "        for b in range(S):\n",
    "            proj = 0\n",
    "            for d in range(D):\n",
    "                proj += feat_std[i*D + d] * daps_projmat[(b+S)*D + d]\n",
    "            sigs[2*i + 1] += (proj>0) * 2**b       \n",
    "\n",
    "    return sigs\n"
   ]
  },
  {
   "cell_type": "code",
   "execution_count": 23,
   "metadata": {},
   "outputs": [
    {
     "name": "stdout",
     "output_type": "stream",
     "text": [
      "30 files are found for experiment \n",
      "Signer06_deep_hand_l3_right\n"
     ]
    }
   ],
   "source": [
    "npy_path = '/home/korhan/Dropbox/tez/features/Signer06/deep_hand/l3/right/train'\n",
    "exp_name = '_'.join('Signer06/deep_hand/l3/right'.split('/'))\n",
    "\n",
    "files = listdir(npy_path)\n",
    "print('{} files are found for experiment \\n{}'.format(len(files), exp_name))"
   ]
  },
  {
   "cell_type": "code",
   "execution_count": 18,
   "metadata": {},
   "outputs": [],
   "source": [
    "from os import makedirs\n",
    "dst_path = '/home/korhan/Dropbox/tez/features/to_zrtools/lsh'\n",
    "makedirs(join(dst_path,exp_name), exist_ok=True)"
   ]
  },
  {
   "cell_type": "code",
   "execution_count": 19,
   "metadata": {},
   "outputs": [
    {
     "name": "stdout",
     "output_type": "stream",
     "text": [
      "(65536,)\n"
     ]
    }
   ],
   "source": [
    "projmatpath = '/home/korhan/Desktop/zerospeech2017/track2/src/ZRTools/exp/Signer06_deep_hand_l1_right/proj_S64xD1024_seed1'\n",
    "projmat = np.fromfile(projmatpath, dtype=np.float32)\n",
    "print(projmat.shape)"
   ]
  },
  {
   "cell_type": "code",
   "execution_count": 20,
   "metadata": {},
   "outputs": [],
   "source": [
    "text_file = open(join(dst_path, '..', exp_name + '.lsh64.lst'), 'w')\n",
    "\n",
    "for filename in files:\n",
    "\n",
    "    array2d = np.load(join(npy_path,filename))\n",
    "\n",
    "    array2d_norm = normalize_dimensions_nodiv0(array2d,axis=0)    \n",
    "#    array2d_norm = array2d\n",
    "\n",
    "    array1d = convert_2d_to_1d(array2d_norm, dtype=np.float32)\n",
    "\n",
    "    sigs = std_to_lsh64(D=1024, feat_std=array1d, projmat=projmat)\n",
    "\n",
    "    sigs.tofile(join(dst_path, exp_name, filename[:-4] + '.std.lsh64'))\n",
    "    \n",
    "    text_file.writelines( join( dst_path, exp_name, filename[:-4] + '.std.lsh64\\n') )\n",
    "\n",
    "text_file.close()\n",
    "    "
   ]
  },
  {
   "cell_type": "code",
   "execution_count": null,
   "metadata": {},
   "outputs": [],
   "source": []
  }
 ],
 "metadata": {
  "kernelspec": {
   "display_name": "Python 3",
   "language": "python",
   "name": "python3"
  },
  "language_info": {
   "codemirror_mode": {
    "name": "ipython",
    "version": 3
   },
   "file_extension": ".py",
   "mimetype": "text/x-python",
   "name": "python",
   "nbconvert_exporter": "python",
   "pygments_lexer": "ipython3",
   "version": "3.6.8"
  }
 },
 "nbformat": 4,
 "nbformat_minor": 2
}
