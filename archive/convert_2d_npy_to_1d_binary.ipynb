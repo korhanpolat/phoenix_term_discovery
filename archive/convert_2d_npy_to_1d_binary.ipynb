{
 "cells": [
  {
   "cell_type": "code",
   "execution_count": 59,
   "metadata": {},
   "outputs": [],
   "source": [
    "import numpy as np\n",
    "from os import makedirs, listdir\n",
    "from os.path import join\n",
    "\n",
    "def convert_2d_to_1d(array2d, dtype=np.float32):\n",
    "    n_frames, n_dim = array2d.shape\n",
    "    return array2d.reshape((n_dim*n_frames)).astype(dtype=dtype)\n",
    "\n",
    "def convert_npy2d_to_binary1d(npy_path, filename, dst_path):\n",
    "\n",
    "    array2d = np.load(join(npy_path,filename))\n",
    "\n",
    "    array1d = convert_2d_to_1d(array2d, dtype=np.float32)\n",
    "\n",
    "    assert array1d.dtype == np.float32\n",
    "    array1d.tofile(join(dst_path, filename[:-4] + '.binary'))\n",
    "    \n",
    "    return \n"
   ]
  },
  {
   "cell_type": "code",
   "execution_count": 60,
   "metadata": {},
   "outputs": [
    {
     "name": "stdout",
     "output_type": "stream",
     "text": [
      "30 files are found for experiment \n",
      "Signer06_deep_hand_l3_right\n"
     ]
    }
   ],
   "source": [
    "npy_path = '/home/korhan/Dropbox/tez/features/Signer06/deep_hand/l1/right/train'\n",
    "exp_name = '_'.join('Signer06/deep_hand/l1/right'.split('/'))\n",
    "\n",
    "#dst_path = join('/home/korhan/Desktop/zerospeech2017/track2/src/ZRTools/exp/' , exp_name, 'feats')\n",
    "dst_path = join('/home/korhan/Dropbox/tez/features/to_zrtools' , exp_name)\n",
    "\n",
    "makedirs(dst_path, exist_ok=True)\n",
    "\n",
    "files = listdir(npy_path)\n",
    "print('{} files are found for experiment \\n{}'.format(len(files), exp_name))\n"
   ]
  },
  {
   "cell_type": "code",
   "execution_count": 61,
   "metadata": {},
   "outputs": [],
   "source": [
    "text_file = open(join(dst_path, '..', exp_name + '.lst'), 'w')\n",
    "\n",
    "for filename in files:\n",
    "    \n",
    "    convert_npy2d_to_binary1d(npy_path, filename, dst_path)\n",
    "    \n",
    "    text_file.writelines( join( dst_path, filename[:-4] + '.binary\\n') )\n",
    "\n",
    "text_file.close()\n",
    "\n",
    "\n"
   ]
  },
  {
   "cell_type": "code",
   "execution_count": null,
   "metadata": {},
   "outputs": [],
   "source": []
  }
 ],
 "metadata": {
  "kernelspec": {
   "display_name": "Python 3",
   "language": "python",
   "name": "python3"
  },
  "language_info": {
   "codemirror_mode": {
    "name": "ipython",
    "version": 3
   },
   "file_extension": ".py",
   "mimetype": "text/x-python",
   "name": "python",
   "nbconvert_exporter": "python",
   "pygments_lexer": "ipython3",
   "version": "3.6.8"
  }
 },
 "nbformat": 4,
 "nbformat_minor": 2
}
