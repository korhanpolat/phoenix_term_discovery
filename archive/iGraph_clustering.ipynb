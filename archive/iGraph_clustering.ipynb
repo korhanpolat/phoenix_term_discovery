{
 "cells": [
  {
   "cell_type": "code",
   "execution_count": 37,
   "metadata": {},
   "outputs": [
    {
     "data": {
      "image/png": "[encoded data removed]",
      "text/plain": [
       "<Figure size 432x288 with 1 Axes>"
      ]
     },
     "metadata": {},
     "output_type": "display_data"
    }
   ],
   "source": [
    "import numpy as np\n",
    "import matplotlib.pyplot as plt\n",
    "import networkx as nx\n",
    "\n",
    "\n",
    "G = nx.erdos_renyi_graph(10, 0.15)\n",
    "nx.draw(G, with_labels=True, font_weight='bold')"
   ]
  },
  {
   "cell_type": "code",
   "execution_count": 43,
   "metadata": {},
   "outputs": [],
   "source": [
    "edges = list(G.edges)"
   ]
  },
  {
   "cell_type": "code",
   "execution_count": 44,
   "metadata": {},
   "outputs": [
    {
     "data": {
      "text/plain": [
       "[(0, 6), (1, 4), (2, 9), (3, 8), (5, 6), (6, 7)]"
      ]
     },
     "execution_count": 44,
     "metadata": {},
     "output_type": "execute_result"
    }
   ],
   "source": [
    "#edges = [ (edges_mat.nonzero()[0][t],edges_mat.nonzero()[1][t]) for t in range(len(edges_mat.nonzero()[0])) ]\n",
    "edges"
   ]
  },
  {
   "cell_type": "code",
   "execution_count": 6,
   "metadata": {},
   "outputs": [],
   "source": [
    "import igraph as ig"
   ]
  },
  {
   "cell_type": "code",
   "execution_count": 45,
   "metadata": {},
   "outputs": [
    {
     "name": "stdout",
     "output_type": "stream",
     "text": [
      "IGRAPH UN-- 10 6 --\n",
      "+ attr: name (v)\n",
      "+ edges (vertex names):\n",
      "0--6, 1--4, 2--9, 3--8, 5--6, 6--7\n"
     ]
    }
   ],
   "source": [
    "g = ig.Graph()\n",
    "\n",
    "#iterate through edges and put all the vertices in a list\n",
    "vertex = []\n",
    "for edge in edges:\n",
    "    vertex.extend(edge)\n",
    "\n",
    "g.add_vertices( list( set(vertex))) # add a list of unique vertices to the graph\n",
    "g.add_edges(edges) # add the edges to the graph. \n",
    "\n",
    "print(g)"
   ]
  },
  {
   "cell_type": "code",
   "execution_count": 46,
   "metadata": {},
   "outputs": [
    {
     "data": {
      "text/plain": [
       "array([0.77696072, 0.92765801, 0.10534237, 0.62491814, 0.68793101,\n",
       "       0.03916834])"
      ]
     },
     "execution_count": 46,
     "metadata": {},
     "output_type": "execute_result"
    }
   ],
   "source": [
    "weights = np.random.rand(len(edges))\n",
    "weights"
   ]
  },
  {
   "cell_type": "code",
   "execution_count": 47,
   "metadata": {},
   "outputs": [],
   "source": [
    "dend = g.community_fastgreedy(weights=weights)"
   ]
  },
  {
   "cell_type": "code",
   "execution_count": 48,
   "metadata": {},
   "outputs": [
    {
     "data": {
      "text/plain": [
       "'(7,(2,(4,1)9)13)14;'"
      ]
     },
     "execution_count": 48,
     "metadata": {},
     "output_type": "execute_result"
    }
   ],
   "source": [
    "dend.format()"
   ]
  },
  {
   "cell_type": "code",
   "execution_count": 49,
   "metadata": {},
   "outputs": [
    {
     "name": "stdout",
     "output_type": "stream",
     "text": [
      "Dendrogram, 9 elements, 6 merges\n"
     ]
    }
   ],
   "source": [
    "ig.summary(dend)"
   ]
  },
  {
   "cell_type": "code",
   "execution_count": 71,
   "metadata": {},
   "outputs": [
    {
     "data": {
      "text/plain": [
       "5"
      ]
     },
     "execution_count": 71,
     "metadata": {},
     "output_type": "execute_result"
    }
   ],
   "source": [
    "optimal_count = dend.optimal_count_ratio(0.99)\n",
    "optimal_count"
   ]
  },
  {
   "cell_type": "code",
   "execution_count": 72,
   "metadata": {},
   "outputs": [],
   "source": [
    "clus = dend.as_clustering(optimal_count)"
   ]
  },
  {
   "cell_type": "code",
   "execution_count": 108,
   "metadata": {},
   "outputs": [
    {
     "data": {
      "text/plain": [
       "'Clustering with 10 elements and 5 clusters'"
      ]
     },
     "execution_count": 108,
     "metadata": {},
     "output_type": "execute_result"
    }
   ],
   "source": [
    "clus.summary()"
   ]
  },
  {
   "cell_type": "code",
   "execution_count": 109,
   "metadata": {},
   "outputs": [
    {
     "data": {
      "text/plain": [
       "0.6409250082296326"
      ]
     },
     "execution_count": 109,
     "metadata": {},
     "output_type": "execute_result"
    }
   ],
   "source": [
    "clus.modularity"
   ]
  },
  {
   "cell_type": "code",
   "execution_count": 73,
   "metadata": {},
   "outputs": [
    {
     "data": {
      "text/plain": [
       "[0, 1, 2, 3, 1, 0, 0, 4, 3, 2]"
      ]
     },
     "execution_count": 73,
     "metadata": {},
     "output_type": "execute_result"
    }
   ],
   "source": [
    "memberships = clus.membership\n",
    "memberships"
   ]
  },
  {
   "cell_type": "code",
   "execution_count": 55,
   "metadata": {},
   "outputs": [],
   "source": [
    "for i in range(len(memberships)):\n",
    "    G.nodes[i]['group'] = memberships[i]"
   ]
  },
  {
   "cell_type": "code",
   "execution_count": 67,
   "metadata": {},
   "outputs": [
    {
     "data": {
      "text/plain": [
       "NodeDataView({0: {'group': 0}, 1: {'group': 1}, 2: {'group': 2}, 3: {'group': 3}, 4: {'group': 1}, 5: {'group': 0}, 6: {'group': 0}, 7: {'group': 4}, 8: {'group': 3}, 9: {'group': 5}})"
      ]
     },
     "execution_count": 67,
     "metadata": {},
     "output_type": "execute_result"
    }
   ],
   "source": [
    "G.nodes.data()"
   ]
  },
  {
   "cell_type": "code",
   "execution_count": 74,
   "metadata": {},
   "outputs": [
    {
     "data": {
      "image/png": "[encoded data removed]",
      "text/plain": [
       "<Figure size 432x288 with 1 Axes>"
      ]
     },
     "metadata": {},
     "output_type": "display_data"
    }
   ],
   "source": [
    "pos = nx.spring_layout(G, iterations=2)\n",
    "nx.draw(G, with_labels=True, font_weight='bold', node_color=memberships, node_size=800)\n",
    "plt.show()"
   ]
  },
  {
   "cell_type": "code",
   "execution_count": 75,
   "metadata": {},
   "outputs": [],
   "source": [
    "# TODO: write a func: given weighted adjacency matrix and modularity ratio -> return cluster memberships"
   ]
  },
  {
   "cell_type": "code",
   "execution_count": 213,
   "metadata": {},
   "outputs": [],
   "source": [
    "def edges_to_iGraph(edges_mat):\n",
    "\n",
    "    edges = [ (edges_mat.nonzero()[0][t],edges_mat.nonzero()[1][t]) for t in range(len(edges_mat.nonzero()[0])) ]\n",
    "\n",
    "    # iGraph expects vertex names to be 0,1,2,..., so we need a mapping \n",
    "    vertices = set()\n",
    "    for e in edges: vertices |= set(e)\n",
    "    vertex_mapping = list(vertices)\n",
    "    # vertex_mapping.index(7) # bu bug heralde\n",
    "    # update edges according to new mapping\n",
    "    edges = [(vertex_mapping.index(e[0]), vertex_mapping.index(e[1])) for e in edges]\n",
    "        \n",
    "    g = ig.Graph()\n",
    "\n",
    "    g.add_vertices( vertex_mapping ) # add a list of unique vertices to the graph\n",
    "    g.add_edges( edges ) # add the edges to the graph. \n",
    "    \n",
    "    return g, vertex_mapping\n",
    "\n",
    "def memberships_to_cluster_list(memberships):\n",
    "    memberships = np.asarray(memberships)\n",
    "\n",
    "    clusters_list = []\n",
    "    for c in np.unique(memberships):\n",
    "        clusters_list.append(np.nonzero(memberships == c)[0].tolist())\n",
    "    return clusters_list\n",
    "\n",
    "def cluster_adj_mat(edges_mat, q_thr = 0.8):\n",
    "\n",
    "    weights = edges_mat[edges_mat.nonzero()] # edge weights\n",
    "\n",
    "    g, vertex_mapping = edges_to_iGraph(edges_mat)\n",
    "\n",
    "    dend = g.community_fastgreedy(weights=weights) \n",
    "\n",
    "    # func. below is added from: ...envs/tez/lib/python3.6/site-packages/igraph/clustering.py\n",
    "    optimal_count = dend.optimal_count_ratio(ratio=q_thr)\n",
    "\n",
    "    clus = dend.as_clustering(optimal_count)\n",
    "\n",
    "    memberships = clus.membership\n",
    "\n",
    "    modularity = clus.modularity\n",
    "\n",
    "    clusters_list = memberships_to_cluster_list(memberships)\n",
    "\n",
    "    return clusters_list, memberships, modularity"
   ]
  },
  {
   "cell_type": "code",
   "execution_count": 255,
   "metadata": {},
   "outputs": [
    {
     "data": {
      "text/plain": [
       "<matplotlib.image.AxesImage at 0x7f9cf0c21668>"
      ]
     },
     "execution_count": 255,
     "metadata": {},
     "output_type": "execute_result"
    },
    {
     "data": {
      "image/png": "[encoded data removed]",
      "text/plain": [
       "<Figure size 288x288 with 1 Axes>"
      ]
     },
     "metadata": {
      "needs_background": "light"
     },
     "output_type": "display_data"
    }
   ],
   "source": [
    "n = 10\n",
    "edges_mat = np.random.uniform(-2,1,(n,n))\n",
    "edges_mat = np.triu(edges_mat, k=1)\n",
    "edges_mat = np.maximum(edges_mat,0)\n",
    "plt.matshow(edges_mat)"
   ]
  },
  {
   "cell_type": "code",
   "execution_count": 256,
   "metadata": {},
   "outputs": [],
   "source": [
    "def find_single_nodes(edges_mat):\n",
    "    # find isolated nodes in the graph\n",
    "    assert edges_mat.shape[0] == edges_mat.shape[1] # i.e. square\n",
    "    nodes_to_delete = []\n",
    "    for i in range(edges_mat.shape[0]):\n",
    "        if sum(edges_mat[i,:]) == 0 and sum(edges_mat[:,i]) == 0:\n",
    "            nodes_to_delete.append(i)\n",
    "    return nodes_to_delete\n",
    "\n",
    "def remove_single_nodes(edges_mat, nodes_to_delete):\n",
    "    # delete nodes that dont have any connection    \n",
    "    edges_mat = np.delete(edges_mat, np.asarray(nodes_to_delete), axis=0 )\n",
    "    edges_mat = np.delete(edges_mat, np.asarray(nodes_to_delete), axis=1 )\n",
    "\n",
    "    return edges_mat\n",
    "\n",
    "nodes_to_delete = find_single_nodes(edges_mat)\n",
    "if len(nodes_to_delete) > 0: \n",
    "    print('{} nodes are deleted..'.format(len(nodes_to_delete)))\n",
    "    edges_mat = remove_single_nodes(edges_mat, nodes_to_delete)"
   ]
  },
  {
   "cell_type": "code",
   "execution_count": 262,
   "metadata": {},
   "outputs": [
    {
     "data": {
      "text/plain": [
       "(-0.8104434592709596,\n",
       " 0.7393980201107427,\n",
       " -1.1585719091327502,\n",
       " 0.9915597412675912)"
      ]
     },
     "execution_count": 262,
     "metadata": {},
     "output_type": "execute_result"
    },
    {
     "data": {
      "image/png": "[encoded data removed]",
      "text/plain": [
       "<Figure size 432x288 with 1 Axes>"
      ]
     },
     "metadata": {},
     "output_type": "display_data"
    }
   ],
   "source": [
    "edges = [ (edges_mat.nonzero()[0][t],edges_mat.nonzero()[1][t]) for t in range(len(edges_mat.nonzero()[0])) ]\n",
    "weights = edges_mat[edges_mat.nonzero()] # edge weights\n",
    "edges = [(e[0],e[1], weights[i]) for i,e in enumerate(edges)]\n",
    "\n",
    "G = nx.Graph()\n",
    "# add edges from txt \n",
    "G.add_weighted_edges_from(edges)\n",
    "pos = nx.spring_layout(G, weight='weights')\n",
    "#nx.draw(G, with_labels=True, pos=pos, font_weight='bold')\n",
    "\n",
    "elarge = [(u, v) for (u, v, d) in G.edges(data=True) if d['weight'] > 0.5]\n",
    "esmall = [(u, v) for (u, v, d) in G.edges(data=True) if d['weight'] <= 0.5]\n",
    "\n",
    "# nodes\n",
    "nx.draw_networkx_nodes(G, pos, node_size=700)\n",
    "\n",
    "# edges\n",
    "nx.draw_networkx_edges(G, pos, edgelist=elarge,\n",
    "                       width=6)\n",
    "nx.draw_networkx_edges(G, pos, edgelist=esmall,\n",
    "                       width=6, alpha=0.5, edge_color='b', style='dashed')\n",
    "\n",
    "# labels\n",
    "nx.draw_networkx_labels(G, pos, font_size=20, font_family='sans-serif')\n",
    "\n",
    "plt.axis('off')"
   ]
  },
  {
   "cell_type": "code",
   "execution_count": 258,
   "metadata": {},
   "outputs": [],
   "source": [
    "clusters_list, memberships, modularity = cluster_adj_mat(edges_mat, q_thr = 0.8)"
   ]
  },
  {
   "cell_type": "code",
   "execution_count": 259,
   "metadata": {},
   "outputs": [
    {
     "data": {
      "text/plain": [
       "[[0, 7], [1, 3, 4, 6], [2, 9], [5, 8]]"
      ]
     },
     "execution_count": 259,
     "metadata": {},
     "output_type": "execute_result"
    }
   ],
   "source": [
    "clusters_list"
   ]
  },
  {
   "cell_type": "code",
   "execution_count": 263,
   "metadata": {},
   "outputs": [
    {
     "data": {
      "image/png": "[encoded data removed]",
      "text/plain": [
       "<Figure size 432x288 with 1 Axes>"
      ]
     },
     "metadata": {},
     "output_type": "display_data"
    }
   ],
   "source": [
    "nx.draw(G, with_labels=True, pos=pos , font_weight='bold', node_color=memberships, cmap='inferno')\n",
    "plt.show()"
   ]
  },
  {
   "cell_type": "code",
   "execution_count": 182,
   "metadata": {},
   "outputs": [
    {
     "data": {
      "text/plain": [
       "array([[0.        , 0.        , 0.        , 0.        , 0.        ,\n",
       "        0.        , 0.        , 0.        , 0.65366946, 0.20083314],\n",
       "       [0.        , 0.        , 0.        , 0.        , 0.        ,\n",
       "        0.        , 0.        , 0.        , 0.        , 0.        ],\n",
       "       [0.        , 0.        , 0.        , 0.        , 0.        ,\n",
       "        0.        , 0.99626032, 0.        , 0.92618097, 0.        ],\n",
       "       [0.        , 0.        , 0.        , 0.        , 0.        ,\n",
       "        0.        , 0.        , 0.26937838, 0.        , 0.        ],\n",
       "       [0.        , 0.        , 0.        , 0.        , 0.        ,\n",
       "        0.        , 0.        , 0.        , 0.        , 0.        ],\n",
       "       [0.        , 0.        , 0.        , 0.        , 0.        ,\n",
       "        0.        , 0.        , 0.        , 0.        , 0.98451564],\n",
       "       [0.        , 0.        , 0.        , 0.        , 0.        ,\n",
       "        0.        , 0.        , 0.        , 0.41011977, 0.22527159],\n",
       "       [0.        , 0.        , 0.        , 0.        , 0.        ,\n",
       "        0.        , 0.        , 0.        , 0.75005638, 0.        ],\n",
       "       [0.        , 0.        , 0.        , 0.        , 0.        ,\n",
       "        0.        , 0.        , 0.        , 0.        , 0.        ],\n",
       "       [0.        , 0.        , 0.        , 0.        , 0.        ,\n",
       "        0.        , 0.        , 0.        , 0.        , 0.00864076]])"
      ]
     },
     "execution_count": 182,
     "metadata": {},
     "output_type": "execute_result"
    }
   ],
   "source": [
    "edges_mat[10:,10:]"
   ]
  },
  {
   "cell_type": "code",
   "execution_count": 183,
   "metadata": {},
   "outputs": [
    {
     "data": {
      "text/plain": [
       "[[0, 11],\n",
       " [1],\n",
       " [2, 9],\n",
       " [3, 6],\n",
       " [4],\n",
       " [5, 7, 8, 14],\n",
       " [10],\n",
       " [12, 16, 17, 18],\n",
       " [13],\n",
       " [15, 19]]"
      ]
     },
     "execution_count": 183,
     "metadata": {},
     "output_type": "execute_result"
    }
   ],
   "source": [
    "clusters_list"
   ]
  },
  {
   "cell_type": "code",
   "execution_count": 185,
   "metadata": {},
   "outputs": [
    {
     "data": {
      "text/plain": [
       "[8, 5, 9, 7, 7, 7, 9]"
      ]
     },
     "execution_count": 185,
     "metadata": {},
     "output_type": "execute_result"
    }
   ],
   "source": [
    "memberships[13:]"
   ]
  },
  {
   "cell_type": "code",
   "execution_count": null,
   "metadata": {},
   "outputs": [],
   "source": []
  }
 ],
 "metadata": {
  "kernelspec": {
   "display_name": "tez",
   "language": "python",
   "name": "tez"
  },
  "language_info": {
   "codemirror_mode": {
    "name": "ipython",
    "version": 3
   },
   "file_extension": ".py",
   "mimetype": "text/x-python",
   "name": "python",
   "nbconvert_exporter": "python",
   "pygments_lexer": "ipython3",
   "version": "3.6.8"
  }
 },
 "nbformat": 4,
 "nbformat_minor": 2
}
