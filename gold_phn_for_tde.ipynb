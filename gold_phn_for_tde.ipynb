{
 "cells": [
  {
   "cell_type": "code",
   "execution_count": 14,
   "metadata": {},
   "outputs": [],
   "source": [
    "from utils.db_utils import gold_fragments_df_for_signer, get_labels_for_signer\n",
    "import numpy as np\n",
    "import pandas as pd\n"
   ]
  },
  {
   "cell_type": "code",
   "execution_count": 15,
   "metadata": {},
   "outputs": [],
   "source": [
    "\n",
    "def flt2str(f): return '{:.2f}'.format(f)\n",
    "\n",
    "\n",
    "def phn_vad_lines_for_seq(tmpdf, add_sil=True):\n",
    "    phn_lines = []\n",
    "    vad_lines = []\n",
    "    \n",
    "    lastend = 0\n",
    "    for i,row in tmpdf.iterrows():\n",
    "        fname, s,e,l = row.filename, row.start, row.end+1, row.labelname\n",
    "\n",
    "        if (s != lastend) and (add_sil): # add silence first\n",
    "            phn_lines.append(' '.join([fname,flt2str(lastend),flt2str(s),'SIL']))\n",
    "\n",
    "        phn_lines.append(' '.join([fname,flt2str(s),flt2str(e),l]))\n",
    "        vad_lines.append(' '.join([fname,flt2str(s),flt2str(e)]))\n",
    "        \n",
    "        lastend = e\n",
    "    \n",
    "    return phn_lines, vad_lines\n",
    "\n",
    "\n",
    "def phn_vad_lines_for_gold_df(gold_df, add_sil=True):\n",
    "    \n",
    "    seq_names = sorted(gold_df.filename.unique())\n",
    "    \n",
    "    phn_lines = []\n",
    "    vad_lines = []\n",
    "    \n",
    "    for fname in seq_names:\n",
    "        tmpdf = gold_df.loc[gold_df.filename==fname].sort_values(by='start')\n",
    "        phn, vad = phn_vad_lines_for_seq(tmpdf, add_sil)\n",
    "        \n",
    "        phn_lines.extend(phn)\n",
    "        vad_lines.extend(vad)\n",
    "            \n",
    "    return phn_lines, vad_lines"
   ]
  },
  {
   "cell_type": "code",
   "execution_count": 16,
   "metadata": {},
   "outputs": [],
   "source": [
    "def phn_vad_lines_for_signer(signer_id, group=3, add_sil=True, interp=False):\n",
    "\n",
    "    gold_df = gold_fragments_df_for_signer(signer_id, group=group, interp=interp, excluded_labels=[])\n",
    "    \n",
    "    phn_lines, vad_lines = phn_vad_lines_for_gold_df(gold_df, add_sil=True)\n",
    "    \n",
    "    return phn_lines, vad_lines"
   ]
  },
  {
   "cell_type": "code",
   "execution_count": 13,
   "metadata": {},
   "outputs": [],
   "source": [
    "i = 3\n",
    "signer_id = 'Signer0' + str(i)\n",
    "\n",
    "import os\n",
    "\n",
    "def write2file(dest, name, lines): \n",
    "    with open(os.path.join(dest,name), 'w') as f: f.write('\\n'.join(lines))\n",
    "\n",
    "def write_tde_gold(signer_id):\n",
    "    phn_lines, vad_lines = phn_vad_lines_for_signer(signer_id, group=3, add_sil=True)\n",
    "    wrd_lines, _ = phn_vad_lines_for_signer(signer_id, group=3, add_sil=False, interp=True)\n",
    "\n",
    "    write2file(dest, signer_id + '.phn', phn_lines)\n",
    "    write2file(dest, signer_id + '.vad', vad_lines)\n",
    "    write2file(dest, signer_id + '.wrd', wrd_lines)\n",
    "\n",
    "    "
   ]
  },
  {
   "cell_type": "code",
   "execution_count": 17,
   "metadata": {},
   "outputs": [
    {
     "data": {
      "text/plain": [
       "'/home/korhan/Desktop/tdev2-master/tdev2/share/Phoenix/'"
      ]
     },
     "execution_count": 17,
     "metadata": {},
     "output_type": "execute_result"
    }
   ],
   "source": [
    "dest"
   ]
  },
  {
   "cell_type": "code",
   "execution_count": 18,
   "metadata": {},
   "outputs": [],
   "source": [
    "for ext in ['phn','vad','wrd']:\n",
    "    tmp = []\n",
    "    for i in range(1,10):\n",
    "        signer_id = 'Signer0' + str(i)\n",
    "        with open(dest + signer_id + '.' + ext,'a') as f: f.write('\\n')\n",
    "            \n",
    "    "
   ]
  },
  {
   "cell_type": "code",
   "execution_count": null,
   "metadata": {},
   "outputs": [],
   "source": []
  },
  {
   "cell_type": "code",
   "execution_count": null,
   "metadata": {},
   "outputs": [],
   "source": []
  }
 ],
 "metadata": {
  "kernelspec": {
   "display_name": "tez",
   "language": "python",
   "name": "tez"
  },
  "language_info": {
   "codemirror_mode": {
    "name": "ipython",
    "version": 3
   },
   "file_extension": ".py",
   "mimetype": "text/x-python",
   "name": "python",
   "nbconvert_exporter": "python",
   "pygments_lexer": "ipython3",
   "version": "3.6.8"
  }
 },
 "nbformat": 4,
 "nbformat_minor": 2
}
